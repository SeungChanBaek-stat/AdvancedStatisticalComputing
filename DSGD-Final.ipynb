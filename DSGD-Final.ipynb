{
 "cells": [
  {
   "cell_type": "code",
   "execution_count": null,
   "metadata": {},
   "outputs": [],
   "source": []
  },
  {
   "cell_type": "markdown",
   "metadata": {},
   "source": [
    "## DSGD 알고리듬 구현"
   ]
  },
  {
   "cell_type": "markdown",
   "metadata": {},
   "source": []
  },
  {
   "cell_type": "code",
   "execution_count": 2,
   "metadata": {},
   "outputs": [
    {
     "name": "stderr",
     "output_type": "stream",
     "text": [
      "\u001b[32m\u001b[1m   Resolving\u001b[22m\u001b[39m package versions...\n"
     ]
    },
    {
     "name": "stderr",
     "output_type": "stream",
     "text": [
      "\u001b[32m\u001b[1m  No Changes\u001b[22m\u001b[39m to `~/.julia/environments/v1.9/Project.toml`\n",
      "\u001b[32m\u001b[1m  No Changes\u001b[22m\u001b[39m to `~/.julia/environments/v1.9/Manifest.toml`\n"
     ]
    }
   ],
   "source": [
    "using Pkg\n",
    "Pkg.add(\"IJulia\")"
   ]
  },
  {
   "cell_type": "code",
   "execution_count": 3,
   "metadata": {},
   "outputs": [
    {
     "name": "stdout",
     "output_type": "stream",
     "text": [
      "Julia Version 1.9.3\n",
      "Commit bed2cd540a1 (2023-08-24 14:43 UTC)\n",
      "Build Info:\n",
      "  Official https://julialang.org/ release\n",
      "Platform Info:\n",
      "  OS: macOS (x86_64-apple-darwin22.4.0)\n",
      "  CPU: 4 × Intel(R) Core(TM) i5-6500 CPU @ 3.20GHz\n",
      "  WORD_SIZE: 64\n",
      "  LIBM: libopenlibm\n",
      "  LLVM: libLLVM-14.0.6 (ORCJIT, skylake)\n",
      "  Threads: 1 on 4 virtual cores\n",
      "Environment:\n",
      "  JULIA_NUM_THREADS = \n"
     ]
    }
   ],
   "source": [
    "versioninfo()"
   ]
  },
  {
   "cell_type": "code",
   "execution_count": 4,
   "metadata": {},
   "outputs": [
    {
     "name": "stdout",
     "output_type": "stream",
     "text": [
      "\u001b[32m\u001b[1mStatus\u001b[22m\u001b[39m `~/.julia/environments/v1.9/Project.toml`\n",
      "  \u001b[90m[6e4b80f9] \u001b[39mBenchmarkTools v1.4.0\n",
      "  \u001b[90m[31c24e10] \u001b[39mDistributions v0.25.104\n",
      "  \u001b[90m[7073ff75] \u001b[39mIJulia v1.24.2\n",
      "  \u001b[90m[033835bb] \u001b[39mJLD2 v0.4.38\n",
      "  \u001b[90m[2913bbd2] \u001b[39mStatsBase v0.34.2\n"
     ]
    }
   ],
   "source": [
    "Pkg.status()"
   ]
  },
  {
   "cell_type": "code",
   "execution_count": 5,
   "metadata": {},
   "outputs": [
    {
     "data": {
      "text/plain": [
       "find_best_c_and_beta_hat (generic function with 1 method)"
      ]
     },
     "metadata": {},
     "output_type": "display_data"
    }
   ],
   "source": [
    "function find_best_c_and_beta_hat(c_values, eta, lambda, X, y, i, beta_hat)\n",
    "    best_c = c_values[1]\n",
    "    best_beta_hat = beta_hat\n",
    "    min_error = Inf\n",
    "\n",
    "    X_i = view(X, i, :)\n",
    "\n",
    "    xi_yi_dot_product = dot(X_i, beta_hat)\n",
    "    common_term = eta * X_i * (y[i] - xi_yi_dot_product)\n",
    "\n",
    "    for c in c_values\n",
    "        b_hat_temp = beta_hat + common_term\n",
    "\n",
    "        beta_hat_temp = sign.(b_hat_temp) .* max.(abs.(b_hat_temp) .- c * eta * lambda, 0)\n",
    "\n",
    "        dotproduct = dot(X_i, beta_hat_temp)\n",
    "        residual = y[i] - dot(X_i, beta_hat_temp)\n",
    "        error = (residual)^2\n",
    "\n",
    "        if error < min_error\n",
    "            min_error = error\n",
    "            best_c = c\n",
    "            best_beta_hat = beta_hat_temp\n",
    "        end\n",
    "    end\n",
    "\n",
    "    return best_c, best_beta_hat\n",
    "end\n"
   ]
  },
  {
   "cell_type": "code",
   "execution_count": 77,
   "metadata": {},
   "outputs": [
    {
     "data": {
      "text/plain": [
       "DSGD_opt_onlyfinal (generic function with 1 method)"
      ]
     },
     "metadata": {},
     "output_type": "display_data"
    }
   ],
   "source": [
    "function DSGD_opt_onlyfinal(eta, X, y, k, α)\n",
    "    c_values = [0.3, 0.35, 0.4, 0.45]\n",
    "    p = size(X,2) # 데이터 차원\n",
    "    n = size(X,1)  # 데이터 포인트의 수\n",
    "    η = [eta / (i^0.51) for i in 1:n] #learning rate\n",
    "    λ = [sqrt(log(p) / i) for i in 1:n] # penalty parameter\n",
    "\n",
    "    # Initialization\n",
    "    beta_hat = zeros(p) \n",
    "    beta_tilde = zeros(p)\n",
    "    b_hat = zeros(p)\n",
    "    gamma_hat = zeros(p-1)\n",
    "    gamma_tilde = zeros(p-1)\n",
    "    r_hat = zeros(p-1)\n",
    "    beta_tilde_k_de = 0.0\n",
    "    m_1k = 0.0\n",
    "    m_2k = 0.0\n",
    "    m_3k = zeros(p, 1)\n",
    "    sigma_tilde_sum = 0.0\n",
    "    tau_tilde_k_sum = 0.0\n",
    "\n",
    "    sigma_tilde = 0.0\n",
    "    tau_tilde_k = 0.0\n",
    "\n",
    "    #sigma_tilde_vals = zeros(n)\n",
    "    #tau_tilde_k_vals = zeros(n)\n",
    "\n",
    "\n",
    "    z_alpha_2 = quantile(Normal(), 1 - α / 2)\n",
    "\n",
    "    # 최종 결과 저장을 위한 변수\n",
    "    final_beta_tilde_k_de = 0.0\n",
    "    final_CI_left = 0.0\n",
    "    final_CI_right = 0.0\n",
    "    final_tau_tilde_k = 0.0\n",
    "\n",
    "    # 주 계산 로직\n",
    "    for i = 1:n\n",
    "\n",
    "        X_i = view(X, i, :)  # X의 i번째 행에 대한 뷰 생성\n",
    "        dot_product = dot(X_i, beta_hat)  # 내적 계산 결과 저장\n",
    "        residual = y[i] - dot_product  # 잔차 계산\n",
    "    \n",
    "        # b_hat 업데이트\n",
    "        b_hat .= beta_hat .+ η[i] .* X_i .* residual\n",
    "        best_c, beta_hat = find_best_c_and_beta_hat(c_values, η[i], λ[i], X, y, i, beta_hat)\n",
    "        beta_tilde = ((i - 1) * beta_tilde + beta_hat) / i\n",
    "\n",
    "\n",
    "        X_i_k = view(X, i, [1:k-1; k+1:size(X,2)])  # X[i, -k] 생성 (p-1 차원)\n",
    "        dot_product2 = dot(X_i_k, gamma_hat)  # 내적 계산 결과 저장\n",
    "        residual2 = X[i,k] - dot_product2\n",
    "\n",
    "        r_hat .= gamma_hat .+ η[i] .* X_i_k .* residual2\n",
    "\n",
    "\n",
    "\n",
    "        for j in 1:length(gamma_hat)\n",
    "            temp = r_hat[j] - best_c * η[i] * λ[i]\n",
    "            gamma_hat[j] = sign(temp) * max(abs(temp), 0)\n",
    "        end    \n",
    "\n",
    "\n",
    "        # gamma_tilde의 효율적 평균 계산\n",
    "        if i == 1\n",
    "            gamma_tilde .= gamma_hat\n",
    "        else\n",
    "            gamma_tilde .= gamma_tilde .* (i - 1) ./ i .+ gamma_hat ./ i\n",
    "        end\n",
    "\n",
    "        \n",
    "        dot_product3 = dot( X_i_k , gamma_tilde)\n",
    "        z_ik = X[i,k] - dot_product3  \n",
    "        m_1k += z_ik * X[i,k]\n",
    "        m_2k += z_ik * y[i]        \n",
    "        m_3k .+= z_ik .* vec(X_i')\n",
    "        \n",
    "\n",
    "        #sigma_tilde 계산 : online형식\n",
    "        dot_product4 = dot(X_i, beta_tilde)\n",
    "        residual4 = y[i] - dot_product4\n",
    "        sigma_tilde_sum += (residual4)^2       \n",
    "        sigma_tilde = sqrt(sigma_tilde_sum / i)\n",
    "\n",
    "\n",
    "        #tau_tilde 계산 : online형식\n",
    "        tau_tilde_k_sum += z_ik^2\n",
    "        tau_tilde_k = sqrt(tau_tilde_k_sum ) / m_1k\n",
    "        \n",
    "        # beta_tilde_k_de 값 갱신\n",
    "        beta_tilde_k_de = beta_tilde[k] + (m_2k - dot(m_3k, beta_tilde)) / m_1k\n",
    "\n",
    "        # CI 계산\n",
    "        #CI = (beta_tilde_k_de - z_alpha_2 * sigma_tilde * tau_tilde_k, beta_tilde_k_de + z_alpha_2 * sigma_tilde * tau_tilde_k)\n",
    "        CI_left = beta_tilde_k_de - z_alpha_2 * sigma_tilde * tau_tilde_k\n",
    "        CI_right = beta_tilde_k_de + z_alpha_2 * sigma_tilde * tau_tilde_k\n",
    "\n",
    "        # 마지막 반복에서만 CI 값을 저장\n",
    "        if i == n\n",
    "            final_beta_tilde_k_de = beta_tilde_k_de\n",
    "            final_CI_left = CI_left\n",
    "            final_CI_right = CI_right\n",
    "            final_tau_tilde_k = tau_tilde_k\n",
    "        end\n",
    "    end\n",
    "\n",
    "    # 최종적으로 필요한 값만 반환\n",
    "    return final_beta_tilde_k_de, final_tau_tilde_k ,final_CI_left, final_CI_right\n",
    "end\n"
   ]
  },
  {
   "cell_type": "code",
   "execution_count": 78,
   "metadata": {},
   "outputs": [
    {
     "data": {
      "text/plain": [
       "DSGD_opt_for_plot (generic function with 1 method)"
      ]
     },
     "metadata": {},
     "output_type": "display_data"
    }
   ],
   "source": [
    "function DSGD_opt_for_plot(eta, X, y, k, α)\n",
    "    c_values = [0.3, 0.35, 0.4, 0.45]\n",
    "    p = size(X,2) # 데이터 차원\n",
    "    n = size(X,1)  # 데이터 포인트의 수\n",
    "    η = [eta / (i^0.51) for i in 1:n] #learning rate\n",
    "    λ = [sqrt(log(p) / i) for i in 1:n] # penalty parameter\n",
    "\n",
    "    # Initialization\n",
    "    beta_hat = zeros(p) \n",
    "    beta_tilde = zeros(p)\n",
    "    b_hat = zeros(p)\n",
    "    gamma_hat = zeros(p-1)\n",
    "    gamma_tilde = zeros(p-1)\n",
    "    r_hat = zeros(p-1)\n",
    "    beta_tilde_k_de = 0.0\n",
    "    m_1k = 0.0\n",
    "    m_2k = 0.0\n",
    "    m_3k = zeros(p, 1)\n",
    "    sigma_tilde_sum = 0.0\n",
    "    tau_tilde_k_sum = 0.0\n",
    "\n",
    "    sigma_tilde = 0.0\n",
    "    tau_tilde_k = 0.0\n",
    "\n",
    "    #sigma_tilde_vals = zeros(n)\n",
    "    #tau_tilde_k_vals = zeros(n)\n",
    "\n",
    "\n",
    "    z_alpha_2 = quantile(Normal(), 1 - α / 2)\n",
    "\n",
    "    # 저장할 지점들을 배열로 정의\n",
    "    save_points = [50, 100, 150, 200, 250, 300, 350, n]\n",
    "    num_save_points = length(save_points)\n",
    "\n",
    "    # 저장할 값들을 저장할 배열 생성\n",
    "    saved_beta_tilde = Array{Float64, 1}(undef, num_save_points)\n",
    "    saved_tau_tilde = Array{Float64, 1}(undef, num_save_points)\n",
    "    saved_CI_left = Array{Float64, 1}(undef, num_save_points)\n",
    "    saved_CI_right = Array{Float64, 1}(undef, num_save_points)\n",
    "\n",
    "    save_index = 1\n",
    "\n",
    "    # 주 계산 로직\n",
    "    for i = 1:n\n",
    "\n",
    "        X_i = view(X, i, :)  # X의 i번째 행에 대한 뷰 생성\n",
    "        dot_product = dot(X_i, beta_hat)  # 내적 계산 결과 저장\n",
    "        residual = y[i] - dot_product  # 잔차 계산\n",
    "    \n",
    "        # b_hat 업데이트\n",
    "        b_hat .= beta_hat .+ η[i] .* X_i .* residual\n",
    "        best_c, beta_hat = find_best_c_and_beta_hat(c_values, η[i], λ[i], X, y, i, beta_hat)\n",
    "        beta_tilde = ((i - 1) * beta_tilde + beta_hat) / i\n",
    "\n",
    "\n",
    "        X_i_k = view(X, i, [1:k-1; k+1:size(X,2)])  # X[i, -k] 생성 (p-1 차원)\n",
    "        dot_product2 = dot(X_i_k, gamma_hat)  # 내적 계산 결과 저장\n",
    "        residual2 = X[i,k] - dot_product2\n",
    "\n",
    "        r_hat .= gamma_hat .+ η[i] .* X_i_k .* residual2\n",
    "\n",
    "\n",
    "\n",
    "        for j in 1:length(gamma_hat)\n",
    "            temp = r_hat[j] - best_c * η[i] * λ[i]\n",
    "            gamma_hat[j] = sign(temp) * max(abs(temp), 0)\n",
    "        end    \n",
    "\n",
    "\n",
    "        # gamma_tilde의 효율적 평균 계산\n",
    "        if i == 1\n",
    "            gamma_tilde .= gamma_hat\n",
    "        else\n",
    "            gamma_tilde .= gamma_tilde .* (i - 1) ./ i .+ gamma_hat ./ i\n",
    "        end\n",
    "\n",
    "        \n",
    "        dot_product3 = dot( X_i_k , gamma_tilde)\n",
    "        z_ik = X[i,k] - dot_product3  \n",
    "        m_1k += z_ik * X[i,k]\n",
    "        m_2k += z_ik * y[i]        \n",
    "        m_3k .+= z_ik .* vec(X_i')\n",
    "        \n",
    "\n",
    "        #sigma_tilde 계산 : online형식\n",
    "        dot_product4 = dot(X_i, beta_tilde)\n",
    "        residual4 = y[i] - dot_product4\n",
    "        sigma_tilde_sum += (residual4)^2       \n",
    "        sigma_tilde = sqrt(sigma_tilde_sum / i)\n",
    "\n",
    "\n",
    "        #tau_tilde 계산 : online형식\n",
    "        tau_tilde_k_sum += z_ik^2\n",
    "        tau_tilde_k = sqrt(tau_tilde_k_sum ) / m_1k\n",
    "        \n",
    "        # beta_tilde_k_de 값 갱신\n",
    "        beta_tilde_k_de = beta_tilde[k] + (m_2k - dot(m_3k, beta_tilde)) / m_1k\n",
    "\n",
    "        # CI 계산\n",
    "        #CI = (beta_tilde_k_de - z_alpha_2 * sigma_tilde * tau_tilde_k, beta_tilde_k_de + z_alpha_2 * sigma_tilde * tau_tilde_k)\n",
    "        CI_left = beta_tilde_k_de - z_alpha_2 * sigma_tilde * tau_tilde_k\n",
    "        CI_right = beta_tilde_k_de + z_alpha_2 * sigma_tilde * tau_tilde_k\n",
    "\n",
    "        if i == save_points[save_index]\n",
    "            saved_beta_tilde[save_index] = beta_tilde_k_de\n",
    "            saved_tau_tilde[save_index] = tau_tilde_k\n",
    "            saved_CI_left[save_index] = CI_left\n",
    "            saved_CI_right[save_index] = CI_right\n",
    "            save_index += 1\n",
    "        end\n",
    "    end\n",
    "\n",
    "    # 최종적으로 필요한 값만 반환\n",
    "    return saved_beta_tilde, saved_tau_tilde, saved_CI_left, saved_CI_right\n",
    "end\n"
   ]
  },
  {
   "cell_type": "code",
   "execution_count": 64,
   "metadata": {},
   "outputs": [
    {
     "data": {
      "text/plain": [
       "([1.0198694772471681, 0.9190125552405851, 1.1228861747943504, 0.09369499966366555, 0.08726135401404528, -0.006518014286375843, -0.14748971959451238, -0.18098878515359473, 0.02599525040383428, 0.16901270698672927  …  0.17596868466088347, 0.004213649631238533, 0.16937614378657875, 0.01534503628402887, -0.013217651806607198, -0.2564699251216805, 0.08816146072847453, -0.13626714009327978, -0.11572118691470547, 0.049932478270844925], [0.01020569294836488, 0.01014393949029201, 0.01039626398579897, 0.010195645088220778, 0.010161663078582057, 0.010353707700768568, 0.010317702446481655, 0.01019300658195781, 0.01029362276255544, 0.010208205821462616  …  0.010387469194298496, 0.010250600683050467, 0.010203603957484028, 0.010203905163710216, 0.010174154342777356, 0.010179186878395603, 0.010132462030606106, 0.010202813270100032, 0.01021126593519866, 0.010149932083367454], [0.9815634619835755 1.058175492510761;;; 0.8809383252089691 0.9570867852722011;;; 1.083864870808504 1.1619074787801968;;; … ;;; -0.17456234678168553 -0.09797193340487403;;; -0.15404811980925168 -0.07739425402015926;;; 0.011835755659550237 0.08802920088213961])"
      ]
     },
     "metadata": {},
     "output_type": "display_data"
    }
   ],
   "source": [
    "test22 = DSGD_calc_v3(0.0025, X_ind, y_ind, 0.05)"
   ]
  },
  {
   "cell_type": "code",
   "execution_count": 65,
   "metadata": {},
   "outputs": [
    {
     "data": {
      "text/plain": [
       "400-element Vector{Float64}:\n",
       "  1.0198694772471681\n",
       "  0.9190125552405851\n",
       "  1.1228861747943504\n",
       "  0.09369499966366555\n",
       "  0.08726135401404528\n",
       " -0.006518014286375843\n",
       " -0.14748971959451238\n",
       " -0.18098878515359473\n",
       "  0.02599525040383428\n",
       "  0.16901270698672927\n",
       "  ⋮\n",
       "  0.004213649631238533\n",
       "  0.16937614378657875\n",
       "  0.01534503628402887\n",
       " -0.013217651806607198\n",
       " -0.2564699251216805\n",
       "  0.08816146072847453\n",
       " -0.13626714009327978\n",
       " -0.11572118691470547\n",
       "  0.049932478270844925"
      ]
     },
     "metadata": {},
     "output_type": "display_data"
    }
   ],
   "source": [
    "test22 = DSGD_calc_for_plot(0.0025, X_ind, y_ind, 0.05)"
   ]
  },
  {
   "cell_type": "code",
   "execution_count": 49,
   "metadata": {},
   "outputs": [
    {
     "data": {
      "text/plain": [
       "([1.098498873681281, 1.0198694772471681, 2.2865507574e-314, 2.2853725334e-314, 2.2576783753e-314, 2.2576783753e-314, 2.2865508206e-314, 2.285372581e-314], [0.01924980202161841, 0.01020569294836488, 2.4854222114e-314, 2.4854222114e-314, 2.285372304e-314, 2.285372304e-314, 2.2853727863e-314, 2.4854222114e-314], [1.0251726222054605, 0.9815634619835755, 2.448251131e-314, 2.448251131e-314, 2.448251131e-314, 2.448251131e-314, 2.448251131e-314, 2.448251131e-314], [1.1718251251571017, 1.058175492510761, 5.0e-324, 0.0, 0.0, 5.0e-324, 5.0e-324, 5.0e-324])"
      ]
     },
     "metadata": {},
     "output_type": "display_data"
    }
   ],
   "source": [
    "testX = DSGD_opt_for_plot(0.0025, X_ind, y_ind, 1,0.05)"
   ]
  },
  {
   "cell_type": "code",
   "execution_count": 53,
   "metadata": {},
   "outputs": [
    {
     "data": {
      "text/plain": [
       "8-element Vector{Float64}:\n",
       " 1.1718251251571017\n",
       " 1.058175492510761\n",
       " 5.0e-324\n",
       " 0.0\n",
       " 0.0\n",
       " 5.0e-324\n",
       " 5.0e-324\n",
       " 5.0e-324"
      ]
     },
     "metadata": {},
     "output_type": "display_data"
    }
   ],
   "source": [
    "testX[4]"
   ]
  },
  {
   "cell_type": "code",
   "execution_count": 56,
   "metadata": {},
   "outputs": [
    {
     "data": {
      "text/plain": [
       "8"
      ]
     },
     "metadata": {},
     "output_type": "display_data"
    }
   ],
   "source": [
    "length(testX[1])"
   ]
  },
  {
   "cell_type": "code",
   "execution_count": 79,
   "metadata": {},
   "outputs": [
    {
     "data": {
      "text/plain": [
       "DSGD_calc_onlyfinal (generic function with 1 method)"
      ]
     },
     "metadata": {},
     "output_type": "display_data"
    }
   ],
   "source": [
    "function DSGD_calc_onlyfinal(eta, X, y, α)\n",
    "    p = size(X,2)\n",
    "    beta_tilde_de = zeros(p)\n",
    "    tau_tilde_array = zeros(p)\n",
    "    final_CI_left_array = zeros(p)\n",
    "    final_CI_right_array = zeros(p)\n",
    "    \n",
    "    \n",
    "    for i in 1:p\n",
    "        result = DSGD_opt_onlyfinal(eta, X, y, i, α)\n",
    "        beta_tilde_de[i] = result[1]\n",
    "        tau_tilde_array[i] = result[2]\n",
    "        final_CI_left_array[i] = result[3]\n",
    "        final_CI_right_array[i] = result[4]\n",
    "    end\n",
    "\n",
    "    return beta_tilde_de, tau_tilde_array, final_CI_left_array, final_CI_right_array\n",
    "end\n",
    "        "
   ]
  },
  {
   "cell_type": "code",
   "execution_count": 80,
   "metadata": {},
   "outputs": [
    {
     "data": {
      "text/plain": [
       "DSGD_calc_for_plot (generic function with 1 method)"
      ]
     },
     "metadata": {},
     "output_type": "display_data"
    }
   ],
   "source": [
    "function DSGD_calc_for_plot(eta, X, y, α)\n",
    "    p = size(X,2)\n",
    "    l = length(DSGD_opt_for_plot(eta, X, y, 1, α)[1])\n",
    "    beta_tilde_de = zeros(l,p)\n",
    "    tau_tilde_array = zeros(l,p)\n",
    "    final_CI_left_array = zeros(l,p)\n",
    "    final_CI_right_array = zeros(l,p)\n",
    "    \n",
    "    for i in 1:p\n",
    "        result = DSGD_opt_for_plot(eta, X, y, i, α)\n",
    "        beta_tilde_de[:,i] = result[1]\n",
    "        tau_tilde_array[:,i] = result[2]\n",
    "        final_CI_left_array[:,i] = result[3]\n",
    "        final_CI_right_array[:,i] = result[4]\n",
    "    end\n",
    "\n",
    "    return beta_tilde_de, tau_tilde_array, final_CI_left_array, final_CI_right_array\n",
    "end\n",
    "        "
   ]
  },
  {
   "cell_type": "markdown",
   "metadata": {},
   "source": [
    "## 실험"
   ]
  },
  {
   "cell_type": "code",
   "execution_count": 11,
   "metadata": {},
   "outputs": [
    {
     "name": "stderr",
     "output_type": "stream",
     "text": [
      "\u001b[32m\u001b[1m   Resolving\u001b[22m\u001b[39m package versions...\n"
     ]
    },
    {
     "name": "stderr",
     "output_type": "stream",
     "text": [
      "\u001b[32m\u001b[1m  No Changes\u001b[22m\u001b[39m to `~/.julia/environments/v1.9/Project.toml`\n",
      "\u001b[32m\u001b[1m  No Changes\u001b[22m\u001b[39m to `~/.julia/environments/v1.9/Manifest.toml`\n"
     ]
    }
   ],
   "source": [
    "Pkg.add(\"StatsBase\")"
   ]
  },
  {
   "cell_type": "code",
   "execution_count": 12,
   "metadata": {},
   "outputs": [
    {
     "name": "stderr",
     "output_type": "stream",
     "text": [
      "\u001b[32m\u001b[1m   Resolving\u001b[22m\u001b[39m package versions...\n"
     ]
    },
    {
     "name": "stderr",
     "output_type": "stream",
     "text": [
      "\u001b[32m\u001b[1m  No Changes\u001b[22m\u001b[39m to `~/.julia/environments/v1.9/Project.toml`\n",
      "\u001b[32m\u001b[1m  No Changes\u001b[22m\u001b[39m to `~/.julia/environments/v1.9/Manifest.toml`\n"
     ]
    }
   ],
   "source": [
    "Pkg.add(\"Distributions\")"
   ]
  },
  {
   "cell_type": "code",
   "execution_count": 13,
   "metadata": {},
   "outputs": [],
   "source": [
    "using Random, StatsBase, Statistics, Distributions"
   ]
  },
  {
   "cell_type": "code",
   "execution_count": 14,
   "metadata": {},
   "outputs": [],
   "source": [
    "using LinearAlgebra"
   ]
  },
  {
   "cell_type": "code",
   "execution_count": 15,
   "metadata": {},
   "outputs": [
    {
     "data": {
      "text/plain": [
       "dep_sampling (generic function with 1 method)"
      ]
     },
     "metadata": {},
     "output_type": "display_data"
    }
   ],
   "source": [
    "function dep_sampling(seed, n, p, s0)\n",
    "    Random.seed!(seed)\n",
    "    ρ = 0.5\n",
    "    Σ = [ρ^abs(i - j) for i in 1:p, j in 1:p]\n",
    "    μ = zeros(Float64, p)\n",
    "    X = rand(MvNormal(μ, Σ), n)'\n",
    "    X[:,:] = standardize(ZScoreTransform, X, dims = 1)\n",
    "    \n",
    "    β = [ones(s0)*1; ones(s0)*0.1; zeros(p - 2*s0)]\n",
    "    eps = randn(n)\n",
    "    eps .-= mean(eps)\n",
    "    y = X * β + eps\n",
    "    return X, y, β\n",
    "end "
   ]
  },
  {
   "cell_type": "code",
   "execution_count": 16,
   "metadata": {},
   "outputs": [
    {
     "data": {
      "text/plain": [
       "indep_sampling (generic function with 1 method)"
      ]
     },
     "metadata": {},
     "output_type": "display_data"
    }
   ],
   "source": [
    "function indep_sampling(seed, n, p, s0)\n",
    "    Random.seed!(seed)\n",
    "    X = randn(n, p)\n",
    "    X[:,:] = standardize(ZScoreTransform, X, dims = 1)\n",
    "    β = [ones(s0)*1; ones(s0)*0.1; zeros(p - 2*s0)]\n",
    "    eps = randn(n)\n",
    "    eps .-= mean(eps)\n",
    "    y = X * β + eps\n",
    "    return X, y, β\n",
    "end "
   ]
  },
  {
   "cell_type": "code",
   "execution_count": 17,
   "metadata": {},
   "outputs": [
    {
     "name": "stderr",
     "output_type": "stream",
     "text": [
      "\u001b[32m\u001b[1m   Resolving\u001b[22m\u001b[39m package versions...\n"
     ]
    },
    {
     "name": "stderr",
     "output_type": "stream",
     "text": [
      "\u001b[32m\u001b[1m  No Changes\u001b[22m\u001b[39m to `~/.julia/environments/v1.9/Project.toml`\n",
      "\u001b[32m\u001b[1m  No Changes\u001b[22m\u001b[39m to `~/.julia/environments/v1.9/Manifest.toml`\n"
     ]
    }
   ],
   "source": [
    "Pkg.add(\"BenchmarkTools\")"
   ]
  },
  {
   "cell_type": "code",
   "execution_count": 18,
   "metadata": {},
   "outputs": [],
   "source": [
    "using BenchmarkTools"
   ]
  },
  {
   "cell_type": "code",
   "execution_count": 19,
   "metadata": {},
   "outputs": [
    {
     "name": "stderr",
     "output_type": "stream",
     "text": [
      "\u001b[32m\u001b[1m   Resolving\u001b[22m\u001b[39m package versions...\n"
     ]
    },
    {
     "name": "stderr",
     "output_type": "stream",
     "text": [
      "\u001b[32m\u001b[1m  No Changes\u001b[22m\u001b[39m to `~/.julia/environments/v1.9/Project.toml`\n",
      "\u001b[32m\u001b[1m  No Changes\u001b[22m\u001b[39m to `~/.julia/environments/v1.9/Manifest.toml`\n"
     ]
    }
   ],
   "source": [
    "Pkg.add(\"JLD2\")"
   ]
  },
  {
   "cell_type": "code",
   "execution_count": 20,
   "metadata": {},
   "outputs": [],
   "source": [
    "using JLD2"
   ]
  },
  {
   "cell_type": "code",
   "execution_count": 75,
   "metadata": {},
   "outputs": [
    {
     "data": {
      "text/plain": [
       "([0.5584634261753936 -0.08113808202902698 … 0.9705655754272062 1.217092855913592; 0.6597360155573786 1.475447279644004 … 1.7153523933646446 0.08099148834756725; … ; 0.3080326149351107 0.9701694146131304 … -0.02389963885791062 -2.4719967298419214; -0.9045298471522799 -0.8248480797151634 … 1.5170919415444837 0.6803492341355298], [2.4806638286460725, 1.702302571381562, 3.3314037069291915, -5.710266849046327, -2.0091802122468496, -1.9963607937277787, 0.7025693081035939, -0.26616268284082717, -0.7963537316044143, -0.1974676638014869  …  2.9152705265277663, -1.1730446019725926, -0.9751191940384891, -2.9974323058123744, -1.6708419909553751, 0.18559227730427663, 1.8743360630388932, 0.3072526945744146, 2.8618894692354586, -0.8549305502746569], [1.0, 1.0, 1.0, 0.1, 0.1, 0.1, 0.0, 0.0, 0.0, 0.0  …  0.0, 0.0, 0.0, 0.0, 0.0, 0.0, 0.0, 0.0, 0.0, 0.0])"
      ]
     },
     "metadata": {},
     "output_type": "display_data"
    }
   ],
   "source": [
    "X_ind, y_ind, β_ind = indep_sampling(77, 400, 2000, 3)"
   ]
  },
  {
   "cell_type": "code",
   "execution_count": 69,
   "metadata": {},
   "outputs": [
    {
     "name": "stdout",
     "output_type": "stream",
     "text": [
      "  1.227271 seconds (564.00 k allocations: 1.745 GiB, 34.96% gc time)\n"
     ]
    },
    {
     "data": {
      "text/plain": [
       "([1.0198694772471681, 0.9190125552405851, 1.1228861747943504, 0.09369499966366555, 0.08726135401404528, -0.006518014286375843, -0.14748971959451238, -0.18098878515359473, 0.02599525040383428, 0.16901270698672927  …  0.17596868466088347, 0.004213649631238533, 0.16937614378657875, 0.01534503628402887, -0.013217651806607198, -0.2564699251216805, 0.08816146072847453, -0.13626714009327978, -0.11572118691470547, 0.049932478270844925], [0.01020569294836488, 0.01014393949029201, 0.01039626398579897, 0.010195645088220778, 0.010161663078582057, 0.010353707700768568, 0.010317702446481655, 0.01019300658195781, 0.01029362276255544, 0.010208205821462616  …  0.010387469194298496, 0.010250600683050467, 0.010203603957484028, 0.010203905163710216, 0.010174154342777356, 0.010179186878395603, 0.010132462030606106, 0.010202813270100032, 0.01021126593519866, 0.010149932083367454], [0.9815634619835755, 0.8809383252089691, 1.083864870808504, 0.055426698006193834, 0.049120600322840456, -0.04537958764812994, -0.18621615095000957, -0.2192471834500998, -0.012640800343047019, 0.1306972599132904  …  0.1369803910173198, -0.03426092218005975, 0.1310779693346754, -0.022954268714360293, -0.05140529016888214, -0.2946764525870455, 0.05013031015732623, -0.17456234678168553, -0.15404811980925168, 0.011835755659550237], [1.058175492510761, 0.9570867852722011, 1.1619074787801968, 0.13196330132113726, 0.1254021077052501, 0.03234355907537825, -0.10876328823901518, -0.14273038685708966, 0.06463130115071558, 0.20732815406016813  …  0.21495697830444715, 0.04268822144253682, 0.20767431823848212, 0.05364434128241803, 0.024969986555667744, -0.2182633976563155, 0.12619261129962284, -0.09797193340487403, -0.07739425402015926, 0.08802920088213961])"
      ]
     },
     "metadata": {},
     "output_type": "display_data"
    }
   ],
   "source": [
    "@time n100_p400_ind = DSGD_calc_onlyfinal(0.0025, X_ind, y_ind, 0.05)"
   ]
  },
  {
   "cell_type": "code",
   "execution_count": 74,
   "metadata": {},
   "outputs": [
    {
     "name": "stdout",
     "output_type": "stream",
     "text": [
      " 17.102362 seconds (4.81 M allocations: 27.331 GiB, 25.18% gc time, 2.49% compilation time)\n"
     ]
    },
    {
     "data": {
      "text/plain": [
       "([0.702546255470376 1.127390185519775 … 0.4227782284849733 0.232019469082197; 0.5505352498965193 1.1821494532300598 … 0.2621906234961639 0.29292015113805964; … ; 0.8573588919999341 0.8675452836807311 … 0.040370916202181514 0.04296247544393393; 0.8316524335548285 0.9075008832364172 … -0.014712478776861477 -0.001418548525901963], [0.017877015348879612 0.023843456809265307 … 0.020976668808710585 0.029373438932470644; 0.009473439199629756 0.01039490848117629 … 0.009836631585772993 0.012789108296810237; … ; 0.002943079800932987 0.0029714269658110966 … 0.0029744694573262584 0.0031174048569016393; 0.0026480853762944163 0.002646996163978087 … 0.0026373653686474043 0.0026823357812093], [0.6291958908346642 1.029559187615247 … 0.3367098174032592 0.11149865426751575; 0.5113468022004555 1.1391491954846078 … 0.22149977044043523 0.2400158899708553; … ; 0.846397184380371 0.85647799505275 … 0.029292295600662495 0.03135148189821746; 0.8218312255955169 0.8976837149431852 … -0.024493928416683387 -0.01136678424359741], [0.7758966201060877 1.225221183424303 … 0.5088466395666874 0.35254028389687825; 0.589723697592583 1.2251497109755118 … 0.30288147655189257 0.34582441230526395; … ; 0.8683205996194971 0.8786125723087123 … 0.051449536803700534 0.0545734689896504; 0.8414736415141402 0.9173180515296492 … -0.004931029137039569 0.008529687191793483])"
      ]
     },
     "metadata": {},
     "output_type": "display_data"
    }
   ],
   "source": [
    "@time n400_p800_ind = DSGD_calc_for_plot(0.0025, X_ind, y_ind, 0.05)"
   ]
  },
  {
   "cell_type": "code",
   "execution_count": 75,
   "metadata": {},
   "outputs": [
    {
     "data": {
      "text/plain": [
       "8×800 Matrix{Float64}:\n",
       " 0.702546  1.12739   0.823191  …  -0.313199    0.422778    0.232019\n",
       " 0.550535  1.18215   1.08355      -0.0818129   0.262191    0.29292\n",
       " 0.768671  1.10961   1.06795      -0.0398714   0.193484    0.154528\n",
       " 0.833046  0.930674  0.993227     -0.0215905   0.157518    0.10674\n",
       " 0.824896  0.907552  0.968928     -0.0853834   0.115933    0.0718621\n",
       " 0.839187  0.861786  0.930078  …  -0.0180984   0.0786601   0.0613441\n",
       " 0.857359  0.867545  0.87314      -0.0365847   0.0403709   0.0429625\n",
       " 0.831652  0.907501  0.897386     -0.0778693  -0.0147125  -0.00141855"
      ]
     },
     "metadata": {},
     "output_type": "display_data"
    }
   ],
   "source": [
    "n400_p800_ind[1]"
   ]
  },
  {
   "cell_type": "code",
   "execution_count": 80,
   "metadata": {},
   "outputs": [
    {
     "data": {
      "text/plain": [
       "0.010139033788114779"
      ]
     },
     "metadata": {},
     "output_type": "display_data"
    }
   ],
   "source": [
    "#n400_p400_ind[1][8,:]\n",
    "\n",
    "#mean(n400_p800_ind[1][8,:] - β_ind)\n",
    "mean(n400_p800_ind[1][8,7:800] - β_ind[7:800])"
   ]
  },
  {
   "cell_type": "code",
   "execution_count": 70,
   "metadata": {},
   "outputs": [
    {
     "data": {
      "text/plain": [
       "0.05573782519891783"
      ]
     },
     "metadata": {},
     "output_type": "display_data"
    }
   ],
   "source": [
    "mean(n100_p400_ind[1] - β_ind)"
   ]
  },
  {
   "cell_type": "code",
   "execution_count": 67,
   "metadata": {},
   "outputs": [
    {
     "data": {
      "text/plain": [
       "([1.0198694772471681, 0.9190125552405851, 1.1228861747943504, 0.09369499966366555, 0.08726135401404528, -0.006518014286375843, -0.14748971959451238, -0.18098878515359473, 0.02599525040383428, 0.16901270698672927  …  0.17596868466088347, 0.004213649631238533, 0.16937614378657875, 0.01534503628402887, -0.013217651806607198, -0.2564699251216805, 0.08816146072847453, -0.13626714009327978, -0.11572118691470547, 0.049932478270844925], [0.01020569294836488, 0.01014393949029201, 0.01039626398579897, 0.010195645088220778, 0.010161663078582057, 0.010353707700768568, 0.010317702446481655, 0.01019300658195781, 0.01029362276255544, 0.010208205821462616  …  0.010387469194298496, 0.010250600683050467, 0.010203603957484028, 0.010203905163710216, 0.010174154342777356, 0.010179186878395603, 0.010132462030606106, 0.010202813270100032, 0.01021126593519866, 0.010149932083367454], [0.9815634619835755 1.058175492510761;;; 0.8809383252089691 0.9570867852722011;;; 1.083864870808504 1.1619074787801968;;; … ;;; -0.17456234678168553 -0.09797193340487403;;; -0.15404811980925168 -0.07739425402015926;;; 0.011835755659550237 0.08802920088213961])"
      ]
     },
     "metadata": {},
     "output_type": "display_data"
    }
   ],
   "source": [
    "test22"
   ]
  },
  {
   "cell_type": "code",
   "execution_count": 26,
   "metadata": {},
   "outputs": [
    {
     "data": {
      "text/plain": [
       "BenchmarkTools.Trial: 4 samples with 1 evaluation.\n",
       " Range \u001b[90m(\u001b[39m\u001b[36m\u001b[1mmin\u001b[22m\u001b[39m … \u001b[35mmax\u001b[39m\u001b[90m):  \u001b[39m\u001b[36m\u001b[1m1.171 s\u001b[22m\u001b[39m … \u001b[35m   1.876 s\u001b[39m  \u001b[90m┊\u001b[39m GC \u001b[90m(\u001b[39mmin … max\u001b[90m): \u001b[39m32.91% … 37.29%\n",
       " Time  \u001b[90m(\u001b[39m\u001b[34m\u001b[1mmedian\u001b[22m\u001b[39m\u001b[90m):     \u001b[39m\u001b[34m\u001b[1m1.365 s               \u001b[22m\u001b[39m\u001b[90m┊\u001b[39m GC \u001b[90m(\u001b[39mmedian\u001b[90m):    \u001b[39m31.82%\n",
       " Time  \u001b[90m(\u001b[39m\u001b[32m\u001b[1mmean\u001b[22m\u001b[39m ± \u001b[32mσ\u001b[39m\u001b[90m):   \u001b[39m\u001b[32m\u001b[1m1.444 s\u001b[22m\u001b[39m ± \u001b[32m319.104 ms\u001b[39m  \u001b[90m┊\u001b[39m GC \u001b[90m(\u001b[39mmean ± σ\u001b[90m):  \u001b[39m33.82% ±  2.64%\n",
       "\n",
       "  \u001b[39m█\u001b[39m \u001b[39m \u001b[39m \u001b[39m \u001b[39m█\u001b[34m \u001b[39m\u001b[39m \u001b[39m \u001b[39m \u001b[39m \u001b[39m \u001b[39m \u001b[39m \u001b[39m \u001b[39m \u001b[39m \u001b[39m \u001b[39m \u001b[39m \u001b[39m \u001b[39m \u001b[32m \u001b[39m\u001b[39m \u001b[39m \u001b[39m \u001b[39m█\u001b[39m \u001b[39m \u001b[39m \u001b[39m \u001b[39m \u001b[39m \u001b[39m \u001b[39m \u001b[39m \u001b[39m \u001b[39m \u001b[39m \u001b[39m \u001b[39m \u001b[39m \u001b[39m \u001b[39m \u001b[39m \u001b[39m \u001b[39m \u001b[39m \u001b[39m \u001b[39m \u001b[39m \u001b[39m \u001b[39m \u001b[39m \u001b[39m \u001b[39m \u001b[39m \u001b[39m█\u001b[39m \u001b[39m \n",
       "  \u001b[39m█\u001b[39m▁\u001b[39m▁\u001b[39m▁\u001b[39m▁\u001b[39m█\u001b[34m▁\u001b[39m\u001b[39m▁\u001b[39m▁\u001b[39m▁\u001b[39m▁\u001b[39m▁\u001b[39m▁\u001b[39m▁\u001b[39m▁\u001b[39m▁\u001b[39m▁\u001b[39m▁\u001b[39m▁\u001b[39m▁\u001b[39m▁\u001b[39m▁\u001b[32m▁\u001b[39m\u001b[39m▁\u001b[39m▁\u001b[39m▁\u001b[39m█\u001b[39m▁\u001b[39m▁\u001b[39m▁\u001b[39m▁\u001b[39m▁\u001b[39m▁\u001b[39m▁\u001b[39m▁\u001b[39m▁\u001b[39m▁\u001b[39m▁\u001b[39m▁\u001b[39m▁\u001b[39m▁\u001b[39m▁\u001b[39m▁\u001b[39m▁\u001b[39m▁\u001b[39m▁\u001b[39m▁\u001b[39m▁\u001b[39m▁\u001b[39m▁\u001b[39m▁\u001b[39m▁\u001b[39m▁\u001b[39m▁\u001b[39m▁\u001b[39m▁\u001b[39m▁\u001b[39m█\u001b[39m \u001b[39m▁\n",
       "  1.17 s\u001b[90m         Histogram: frequency by time\u001b[39m         1.88 s \u001b[0m\u001b[1m<\u001b[22m\n",
       "\n",
       " Memory estimate\u001b[90m: \u001b[39m\u001b[33m1.75 GiB\u001b[39m, allocs estimate\u001b[90m: \u001b[39m\u001b[33m564005\u001b[39m."
      ]
     },
     "metadata": {},
     "output_type": "display_data"
    }
   ],
   "source": [
    "@benchmark DSGD_calc_onlyfinal(0.0025, X_ind, y_ind, 0.05)"
   ]
  },
  {
   "cell_type": "code",
   "execution_count": 76,
   "metadata": {},
   "outputs": [
    {
     "data": {
      "text/plain": [
       "BenchmarkTools.Trial: 1 sample with 1 evaluation.\n",
       " Single result which took \u001b[34m139.932 s\u001b[39m (17.96% GC) to evaluate,\n",
       " with a memory estimate of \u001b[33m168.45 GiB\u001b[39m, over \u001b[33m11220005\u001b[39m allocations."
      ]
     },
     "metadata": {},
     "output_type": "display_data"
    }
   ],
   "source": [
    "@benchmark DSGD_calc_onlyfinal(0.0025, X_ind, y_ind, 0.05)"
   ]
  },
  {
   "cell_type": "code",
   "execution_count": 30,
   "metadata": {},
   "outputs": [
    {
     "data": {
      "text/plain": [
       "400-element Vector{Float64}:\n",
       " 0.07661203052718546\n",
       " 0.07614846006323206\n",
       " 0.07804260797169293\n",
       " 0.07653660331494343\n",
       " 0.07628150738240963\n",
       " 0.07772314672350819\n",
       " 0.07745286271099439\n",
       " 0.07651679659301014\n",
       " 0.0772721014937626\n",
       " 0.07663089414687774\n",
       " ⋮\n",
       " 0.07694914362259657\n",
       " 0.07659634890380673\n",
       " 0.07659860999677832\n",
       " 0.07637527672454988\n",
       " 0.07641305493073\n",
       " 0.0760623011422966\n",
       " 0.0765904133768115\n",
       " 0.07665386578909242\n",
       " 0.07619344522258938"
      ]
     },
     "metadata": {},
     "output_type": "display_data"
    }
   ],
   "source": [
    "n100_p400_ind[4] - n100_p400_ind[3]"
   ]
  },
  {
   "cell_type": "markdown",
   "metadata": {},
   "source": []
  },
  {
   "cell_type": "markdown",
   "metadata": {},
   "source": [
    "## 실험"
   ]
  },
  {
   "cell_type": "markdown",
   "metadata": {},
   "source": [
    "#### n=400, p=2000, ind, s0 =10 / Online1_n400_p2000_ind_simnum10"
   ]
  },
  {
   "cell_type": "code",
   "execution_count": 81,
   "metadata": {},
   "outputs": [
    {
     "data": {
      "text/plain": [
       "10×8×3 Array{Float64, 3}:\n",
       "[:, :, 1] =\n",
       " 0.0  0.0  0.0  0.0  0.0  0.0  0.0  0.0\n",
       " 0.0  0.0  0.0  0.0  0.0  0.0  0.0  0.0\n",
       " 0.0  0.0  0.0  0.0  0.0  0.0  0.0  0.0\n",
       " 0.0  0.0  0.0  0.0  0.0  0.0  0.0  0.0\n",
       " 0.0  0.0  0.0  0.0  0.0  0.0  0.0  0.0\n",
       " 0.0  0.0  0.0  0.0  0.0  0.0  0.0  0.0\n",
       " 0.0  0.0  0.0  0.0  0.0  0.0  0.0  0.0\n",
       " 0.0  0.0  0.0  0.0  0.0  0.0  0.0  0.0\n",
       " 0.0  0.0  0.0  0.0  0.0  0.0  0.0  0.0\n",
       " 0.0  0.0  0.0  0.0  0.0  0.0  0.0  0.0\n",
       "\n",
       "[:, :, 2] =\n",
       " 0.0  0.0  0.0  0.0  0.0  0.0  0.0  0.0\n",
       " 0.0  0.0  0.0  0.0  0.0  0.0  0.0  0.0\n",
       " 0.0  0.0  0.0  0.0  0.0  0.0  0.0  0.0\n",
       " 0.0  0.0  0.0  0.0  0.0  0.0  0.0  0.0\n",
       " 0.0  0.0  0.0  0.0  0.0  0.0  0.0  0.0\n",
       " 0.0  0.0  0.0  0.0  0.0  0.0  0.0  0.0\n",
       " 0.0  0.0  0.0  0.0  0.0  0.0  0.0  0.0\n",
       " 0.0  0.0  0.0  0.0  0.0  0.0  0.0  0.0\n",
       " 0.0  0.0  0.0  0.0  0.0  0.0  0.0  0.0\n",
       " 0.0  0.0  0.0  0.0  0.0  0.0  0.0  0.0\n",
       "\n",
       "[:, :, 3] =\n",
       " 0.0  0.0  0.0  0.0  0.0  0.0  0.0  0.0\n",
       " 0.0  0.0  0.0  0.0  0.0  0.0  0.0  0.0\n",
       " 0.0  0.0  0.0  0.0  0.0  0.0  0.0  0.0\n",
       " 0.0  0.0  0.0  0.0  0.0  0.0  0.0  0.0\n",
       " 0.0  0.0  0.0  0.0  0.0  0.0  0.0  0.0\n",
       " 0.0  0.0  0.0  0.0  0.0  0.0  0.0  0.0\n",
       " 0.0  0.0  0.0  0.0  0.0  0.0  0.0  0.0\n",
       " 0.0  0.0  0.0  0.0  0.0  0.0  0.0  0.0\n",
       " 0.0  0.0  0.0  0.0  0.0  0.0  0.0  0.0\n",
       " 0.0  0.0  0.0  0.0  0.0  0.0  0.0  0.0"
      ]
     },
     "metadata": {},
     "output_type": "display_data"
    }
   ],
   "source": [
    "n,p = 400,2000\n",
    "s0 = 10\n",
    "simnum = 10\n",
    "\n",
    "b1 = 1:10\n",
    "b01 = 11:20\n",
    "b0 = 21:p\n",
    "\n",
    "\n",
    "ci_interval_left = zeros(Float64, simnum,8,3)\n",
    "ci_interval_right = zeros(Float64, simnum,8,3)\n",
    "ci_interval_length = zeros(Float64, simnum,8,3)\n",
    "times = zeros(Float64, simnum)\n",
    "bias = zeros(Float64, simnum,8,3)\n",
    "sds = zeros(Float64, simnum,8,3)\n",
    "taus = zeros(Float64, simnum,8,3)\n",
    "\n",
    "\n"
   ]
  },
  {
   "cell_type": "code",
   "execution_count": 82,
   "metadata": {},
   "outputs": [
    {
     "name": "stdout",
     "output_type": "stream",
     "text": [
      "1\n"
     ]
    },
    {
     "name": "stdout",
     "output_type": "stream",
     "text": [
      "130.877301378\n"
     ]
    },
    {
     "name": "stdout",
     "output_type": "stream",
     "text": [
      "0.09901855371849315\n",
      "2\n"
     ]
    },
    {
     "name": "stdout",
     "output_type": "stream",
     "text": [
      "133.522616935\n",
      "3.1531601854197895\n",
      "3\n"
     ]
    },
    {
     "name": "stdout",
     "output_type": "stream",
     "text": [
      "126.161707336\n",
      "0.023843971297355097\n",
      "4\n"
     ]
    },
    {
     "name": "stdout",
     "output_type": "stream",
     "text": [
      "140.966895609\n",
      "0.11694988103286753\n",
      "5\n"
     ]
    },
    {
     "name": "stdout",
     "output_type": "stream",
     "text": [
      "125.591479576\n",
      "0.18592320234587312\n",
      "6\n"
     ]
    },
    {
     "name": "stdout",
     "output_type": "stream",
     "text": [
      "123.875225972\n",
      "0.07873740327946027\n",
      "7\n"
     ]
    },
    {
     "name": "stdout",
     "output_type": "stream",
     "text": [
      "131.24781583\n",
      "0.010752529207992927\n",
      "8\n"
     ]
    },
    {
     "name": "stdout",
     "output_type": "stream",
     "text": [
      "142.671532679\n",
      "-0.030201011976590204\n",
      "9\n"
     ]
    },
    {
     "name": "stdout",
     "output_type": "stream",
     "text": [
      "123.492807495\n",
      "0.13415776663716325\n",
      "10\n"
     ]
    },
    {
     "name": "stdout",
     "output_type": "stream",
     "text": [
      "125.60335278\n",
      "0.056866914694359165\n",
      "mean_bias_b1 : [0.763100694796267 0.32756530510862125 0.25176588108441406 0.18737724458740895 0.17625251194728478 0.1550184243627491 0.15255362531675673 0.128389720038733]\n",
      "mean_bias_b01 : [0.6113252276567644 0.2809565850410438 0.21114044012457284 0.21474133506245013 0.1893675558024266 0.17706879699998945 0.18069859969854699 0.16228799301511218]\n",
      "mean_bias_b0 : [3.0645285586433912 0.29793230362670065 0.2224242926043886 0.2063223106186442 0.1856504457779637 0.1729326809423304 0.16619629699721053 0.14918842259557497]\n",
      "mean_sds_b1 : [1.106655364103566 0.3287578314802363 0.2260543944002847 0.19028662995717877 0.15499399109133014 0.14155155644344145 0.13416194403443304 0.12533073490306204]\n",
      "mean_sds_b01 : [0.9136702156335362 0.300860768527768 0.24002844890369163 0.23127203384483613 0.20302156932410545 0.18370481624620102 0.1626785227902814 0.1536793413198685]\n",
      "mean_sds_b0 : [108.34545458822181 0.35052909242765756 0.24722239405343788 0.20836734429320872 0.18293007389467525 0.16474915293077158 0.15172105405656736 0.14343613591440532]\n",
      "mean_taus_b1 : [0.21824928226231255 0.13237190181036135 0.10304495510632616 0.0875928569454099 0.07786295396709392 0.07078582729124963 0.06543091099788292 0.06111131217286292]\n",
      "mean_taus_b01 : [0.20415135797476588 0.1342358361869571 0.10335546692344451 0.08783822358527597 0.07773671913958866 0.07049978686209757 0.06528144981185241 0.061018062433151735]\n",
      "mean_taus_b0 : [-0.27066209850788703 0.13205137056701008 0.10254764334490543 0.08724248331618625 0.0774365434182746 0.07047907814179247 0.065130838694987 0.0608137206618784]\n",
      "mean_ci_interval_left_b1 : [-0.43239704445374433 0.017825865635889428 0.1655345880934305 0.35123879708580735 0.41992325910750505 0.4729013605517444 0.5108920755701727 0.5478141672586323]\n",
      "mean_ci_interval_left_b01 : [-1.0423046895544812 -0.6357909066051011 -0.48124321145149596 -0.3467647492417748 -0.2898554124620595 -0.24561011363883645 -0.20811906720545176 -0.19688958596943226]\n",
      "mean_ci_interval_left_b0 : [4.127561788844331 -0.7258279554138996 -0.572045688392658 -0.43891984216291446 -0.3854003200119682 -0.34177177479996457 -0.3086843208815345 -0.2950657138962408]\n",
      "mean_ci_interval_right_b1 : [2.4366728881782183 1.718728900889215 1.4793337814177354 1.4838851504559263 1.4207106501932087 1.3800170933260634 1.3466829684945947 1.3309907245805448]\n",
      "mean_ci_interval_right_b01 : [1.550599285306302 1.0832774014650886 0.836115406857029 0.7895630463984972 0.709966771925478 0.6583232952500762 0.6259838636014752 0.5851416351851093]\n",
      "mean_ci_interval_right_b0 : [0.5473402861708294 0.9718419231528312 0.7370294206854758 0.6901130978441348 0.6104657724194834 0.5617999698763448 0.5235987790904155 0.4843477007779519]\n",
      "mean_ci_interval_length_b1 : [2.8690699326319624 1.7009030352533259 1.313799193324305 1.1326463533701188 1.0007873910857037 0.9071157327743189 0.835790892924422 0.7831765573219124]\n",
      "mean_ci_interval_length_b01 : [2.592903974860783 1.7190683080701898 1.3173586183085253 1.136327795640272 0.9998221843875376 0.9039334088889126 0.8341029308069269 0.7820312211545415]\n",
      "mean_ci_interval_length_b0 : [-3.580221502673505 1.6976698785667306 1.3090751090781338 1.1290329400070493 0.9958660924314519 0.9035717446763094 0.8322830999719499 0.7794134146741929]\n",
      "mean_times : 130.401073559\n"
     ]
    }
   ],
   "source": [
    "for seed in 1:simnum\n",
    "    println(seed)\n",
    "    \n",
    "    X,y,β = indep_sampling(seed, n,p,s0)\n",
    "    _, times[seed] = @timed begin\n",
    "        b, tau_tilde_array, CI_left, CI_right = DSGD_calc_for_plot(0.0025, X, y, 0.05)\n",
    "    end\n",
    "\n",
    "\n",
    "    println(times[seed])\n",
    "    bb = mapslices(x -> x.-β, b, dims = 2)\n",
    "    ab = abs.(bb)\n",
    "    \n",
    "    println(mean(bb))\n",
    "    \n",
    "    for k in 1:8\n",
    "        bias[seed,k,  1] = mean(ab[k,b1])\n",
    "        bias[seed,k,  2] = mean(ab[k,b01])\n",
    "        bias[seed,k,  3] = mean(ab[k,b0])\n",
    "    \n",
    "        sds[seed,k,1] = std(bb[k,b1])\n",
    "        sds[seed,k,2] = std(bb[k,b01])\n",
    "        sds[seed,k,3] = std(bb[k,b0])\n",
    "    \n",
    "        tau = tau_tilde_array\n",
    "        taus[seed,k,1] = mean(tau[k,b1])\n",
    "        taus[seed,k,2] = mean(tau[k,b01])\n",
    "        taus[seed,k,3] = mean(tau[k,b0])\n",
    "    \n",
    "        CI_L = CI_left\n",
    "        ci_interval_left[seed,k,1] = mean(CI_L[k,b1])\n",
    "        ci_interval_left[seed,k,2] = mean(CI_L[k,b01])\n",
    "        ci_interval_left[seed,k,3] = mean(CI_L[k,b0])\n",
    "    \n",
    "    \n",
    "        CI_R = CI_right\n",
    "        ci_interval_right[seed,k,1] = mean(CI_R[k,b1])\n",
    "        ci_interval_right[seed,k,2] = mean(CI_R[k,b01])\n",
    "        ci_interval_right[seed,k,3] = mean(CI_R[k,b0])\n",
    "        \n",
    "        CI_width = CI_right - CI_left\n",
    "        ci_interval_length[seed,k,1] = mean(CI_width[k,b1])\n",
    "        ci_interval_length[seed,k,2] = mean(CI_width[k,b01])\n",
    "        ci_interval_length[seed,k,3] = mean(CI_width[k,b0])\n",
    "    end\n",
    "\n",
    "    \n",
    "    save_object(\"/Users/seungchanbaek/Downloads/2023-2학기/고급통계계산/Online1_n400_p2000_ind_simnum10/Online1_n400_p2000_ind_simnum10_time$seed\", times[seed])\n",
    "    save_object(\"/Users/seungchanbaek/Downloads/2023-2학기/고급통계계산/Online1_n400_p2000_ind_simnum10/Online1_n400_p2000_ind_simnum10_bias$seed\", bias[seed,:,:])\n",
    "    save_object(\"/Users/seungchanbaek/Downloads/2023-2학기/고급통계계산/Online1_n400_p2000_ind_simnum10/Online1_n400_p2000_ind_simnum10_sds$seed\", sds[seed,:,:])\n",
    "    save_object(\"/Users/seungchanbaek/Downloads/2023-2학기/고급통계계산/Online1_n400_p2000_ind_simnum10/Online1_n400_p2000_ind_simnum10_taus$seed\", taus[seed,:,:])\n",
    "\n",
    "    save_object(\"/Users/seungchanbaek/Downloads/2023-2학기/고급통계계산/Online1_n400_p2000_ind_simnum10/Online1_n400_p2000_ind_simnum10_ci_interval_length$seed\", ci_interval_length[seed,:,:])\n",
    "    save_object(\"/Users/seungchanbaek/Downloads/2023-2학기/고급통계계산/Online1_n400_p2000_ind_simnum10/Online1_n400_p2000_ind_simnum10_ci_interval_left$seed\", ci_interval_left[seed,:,:])\n",
    "    save_object(\"/Users/seungchanbaek/Downloads/2023-2학기/고급통계계산/Online1_n400_p2000_ind_simnum10/Online1_n400_p2000_ind_simnum10_ci_interval_right$seed\", ci_interval_right[seed,:,:])\n",
    "end\n",
    "\n",
    "mean_bias_b1 = sum(bias[:,:,1], dims=1) / size(bias, 1)\n",
    "mean_bias_b01 = sum(bias[:,:,2], dims=1) / size(bias, 1)\n",
    "mean_bias_b0 = sum(bias[:,:,3], dims=1) / size(bias, 1)\n",
    "\n",
    "mean_sds_b1 = sum(sds[:,:,1], dims=1) / size(sds, 1)\n",
    "mean_sds_b01 = sum(sds[:,:,2], dims=1) / size(sds, 1)\n",
    "mean_sds_b0 = sum(sds[:,:,3], dims=1) / size(sds, 1)\n",
    "\n",
    "\n",
    "mean_taus_b1 = sum(taus[:,:,1], dims=1) / size(taus, 1)\n",
    "mean_taus_b01 = sum(taus[:,:,2], dims=1) / size(taus, 1)\n",
    "mean_taus_b0 = sum(taus[:,:,3], dims=1) / size(taus, 1)\n",
    "\n",
    "mean_ci_interval_left_b1 = sum(ci_interval_left[:,:,1], dims=1) / size(ci_interval_left, 1)\n",
    "mean_ci_interval_left_b01 = sum(ci_interval_left[:,:,2], dims=1) / size(ci_interval_left, 1)\n",
    "mean_ci_interval_left_b0 = sum(ci_interval_left[:,:,3], dims=1) / size(ci_interval_left, 1)\n",
    "\n",
    "mean_ci_interval_right_b1 = sum(ci_interval_right[:,:,1], dims=1) / size(ci_interval_right, 1)\n",
    "mean_ci_interval_right_b01 = sum(ci_interval_right[:,:,2], dims=1) / size(ci_interval_right, 1)\n",
    "mean_ci_interval_right_b0 = sum(ci_interval_right[:,:,3], dims=1) / size(ci_interval_right, 1)\n",
    "\n",
    "mean_ci_interval_length_b1 = sum(ci_interval_length[:,:,1], dims=1) / size(ci_interval_length, 1)\n",
    "mean_ci_interval_length_b01 = sum(ci_interval_length[:,:,2], dims=1) / size(ci_interval_length, 1)\n",
    "mean_ci_interval_length_b0 = sum(ci_interval_length[:,:,3], dims=1) / size(ci_interval_length, 1)\n",
    "\n",
    "mean_times = mean(times)\n",
    "\n",
    "println(\"mean_bias_b1 : \", mean_bias_b1)\n",
    "println(\"mean_bias_b01 : \", mean_bias_b01)\n",
    "println(\"mean_bias_b0 : \", mean_bias_b0)\n",
    "\n",
    "println(\"mean_sds_b1 : \", mean_sds_b1)\n",
    "println(\"mean_sds_b01 : \", mean_sds_b01)\n",
    "println(\"mean_sds_b0 : \", mean_sds_b0)\n",
    "\n",
    "println(\"mean_taus_b1 : \", mean_taus_b1)\n",
    "println(\"mean_taus_b01 : \", mean_taus_b01)\n",
    "println(\"mean_taus_b0 : \", mean_taus_b0)\n",
    "\n",
    "println(\"mean_ci_interval_left_b1 : \", mean_ci_interval_left_b1)\n",
    "println(\"mean_ci_interval_left_b01 : \", mean_ci_interval_left_b01)\n",
    "println(\"mean_ci_interval_left_b0 : \", mean_ci_interval_left_b0)\n",
    "\n",
    "println(\"mean_ci_interval_right_b1 : \", mean_ci_interval_right_b1)\n",
    "println(\"mean_ci_interval_right_b01 : \", mean_ci_interval_right_b01)\n",
    "println(\"mean_ci_interval_right_b0 : \", mean_ci_interval_right_b0)\n",
    "\n",
    "println(\"mean_ci_interval_length_b1 : \", mean_ci_interval_length_b1)\n",
    "println(\"mean_ci_interval_length_b01 : \", mean_ci_interval_length_b01)\n",
    "println(\"mean_ci_interval_length_b0 : \", mean_ci_interval_length_b0)\n",
    "\n",
    "println(\"mean_times : \", mean_times)"
   ]
  },
  {
   "cell_type": "code",
   "execution_count": 65,
   "metadata": {},
   "outputs": [
    {
     "data": {
      "text/plain": [
       "1×8 Matrix{Float64}:\n",
       " 0.799264  0.783232  0.768799  0.877517  …  0.900273  0.90645  0.919823"
      ]
     },
     "metadata": {},
     "output_type": "display_data"
    }
   ],
   "source": [
    "mean_ci_interval_left_b1"
   ]
  },
  {
   "cell_type": "code",
   "execution_count": 67,
   "metadata": {},
   "outputs": [
    {
     "name": "stderr",
     "output_type": "stream",
     "text": [
      "\u001b[32m\u001b[1m   Resolving\u001b[22m\u001b[39m package versions...\n"
     ]
    },
    {
     "name": "stderr",
     "output_type": "stream",
     "text": [
      "\u001b[32m\u001b[1m   Installed\u001b[22m\u001b[39m JpegTurbo_jll ─────── v3.0.1+0\n",
      "\u001b[32m\u001b[1m   Installed\u001b[22m\u001b[39m XZ_jll ────────────── v5.4.5+0\n",
      "\u001b[32m\u001b[1m   Installed\u001b[22m\u001b[39m fzf_jll ───────────── v0.43.0+0\n",
      "\u001b[32m\u001b[1m   Installed\u001b[22m\u001b[39m ConcurrentUtilities ─ v2.3.0\n",
      "\u001b[32m\u001b[1m   Installed\u001b[22m\u001b[39m RelocatableFolders ── v1.0.1\n",
      "\u001b[32m\u001b[1m   Installed\u001b[22m\u001b[39m LoggingExtras ─────── v1.0.3\n",
      "\u001b[32m\u001b[1m   Installed\u001b[22m\u001b[39m Unitful ───────────── v1.19.0\n",
      "\u001b[32m\u001b[1m   Installed\u001b[22m\u001b[39m HTTP ──────────────── v1.10.1\n"
     ]
    },
    {
     "name": "stderr",
     "output_type": "stream",
     "text": [
      "\u001b[32m\u001b[1m   Installed\u001b[22m\u001b[39m CodecZlib ─────────── v0.7.3\n",
      "\u001b[32m\u001b[1m   Installed\u001b[22m\u001b[39m XML2_jll ──────────── v2.12.2+0\n",
      "\u001b[32m\u001b[1m   Installed\u001b[22m\u001b[39m Scratch ───────────── v1.2.1\n",
      "\u001b[32m\u001b[1m   Installed\u001b[22m\u001b[39m OpenSSL_jll ───────── v3.0.12+0\n",
      "\u001b[32m\u001b[1m   Installed\u001b[22m\u001b[39m BitFlags ──────────── v0.1.8\n",
      "\u001b[32m\u001b[1m   Installed\u001b[22m\u001b[39m FFMPEG_jll ────────── v4.4.4+1\n"
     ]
    },
    {
     "name": "stderr",
     "output_type": "stream",
     "text": [
      "\u001b[32m\u001b[1m   Installed\u001b[22m\u001b[39m libpng_jll ────────── v1.6.40+0\n",
      "\u001b[32m\u001b[1m   Installed\u001b[22m\u001b[39m JLFzf ─────────────── v0.1.7\n",
      "\u001b[32m\u001b[1m   Installed\u001b[22m\u001b[39m Qt6Base_jll ───────── v6.5.3+1\n",
      "\u001b[32m\u001b[1m   Installed\u001b[22m\u001b[39m LaTeXStrings ──────── v1.3.1\n",
      "\u001b[32m\u001b[1m   Installed\u001b[22m\u001b[39m URIs ──────────────── v1.5.1\n"
     ]
    },
    {
     "name": "stderr",
     "output_type": "stream",
     "text": [
      "\u001b[32m\u001b[1m    Updating\u001b[22m\u001b[39m `~/.julia/environments/v1.9/Project.toml`\n",
      "  \u001b[90m[91a5bcdd] \u001b[39m\u001b[92m+ Plots v1.39.0\u001b[39m\n",
      "\u001b[32m\u001b[1m    Updating\u001b[22m\u001b[39m `~/.julia/environments/v1.9/Manifest.toml`\n",
      " "
     ]
    },
    {
     "name": "stderr",
     "output_type": "stream",
     "text": [
      " \u001b[90m[d1d4a3ce] \u001b[39m\u001b[92m+ BitFlags v0.1.8\u001b[39m\n",
      "  \u001b[90m[944b1d66] \u001b[39m\u001b[92m+ CodecZlib v0.7.3\u001b[39m\n",
      "  \u001b[90m[35d6a980] \u001b[39m\u001b[92m+ ColorSchemes v3.24.0\u001b[39m\n",
      "  \u001b[90m[3da002f7] \u001b[39m\u001b[92m+ ColorTypes v0.11.4\u001b[39m\n",
      "  \u001b[90m[c3611d14] \u001b[39m\u001b[92m+ ColorVectorSpace v0.10.0\u001b[39m\n",
      "  \u001b[90m[5ae59095] \u001b[39m\u001b[92m+ Colors v0.12.10\u001b[39m\n",
      "  \u001b[90m[f0e56b4a] \u001b[39m\u001b[92m+ ConcurrentUtilities v2.3.0\u001b[39m\n",
      "  \u001b[90m[d38c429a] \u001b[39m\u001b[92m+ Contour v0.6.2\u001b[39m\n",
      "  \u001b[90m[8bb1440f] \u001b[39m\u001b[92m+ DelimitedFiles v1.9.1\u001b[39m\n",
      "  \u001b[90m[460bff9d] \u001b[39m\u001b[92m+ ExceptionUnwrapping v0.1.9\u001b[39m\n",
      "  \u001b[90m[c87230d0] \u001b[39m\u001b[92m+ FFMPEG v0.4.1\u001b[39m\n",
      "  \u001b[90m[53c48c17] \u001b[39m\u001b[92m+ FixedPointNumbers v0.8.4\u001b[39m\n",
      "  \u001b[90m[59287772] \u001b[39m\u001b[92m+ Formatting v0.4.2\u001b[39m\n",
      "  \u001b[90m[28b8d3ca] \u001b[39m\u001b[92m+ GR v0.72.10\u001b[39m\n",
      "  \u001b[90m[42e2da0e] \u001b[39m\u001b[92m+ Grisu v1.0.2\u001b[39m\n",
      "  \u001b[90m[cd3eb016] \u001b[39m\u001b[92m+ HTTP v1.10.1\u001b[39m\n",
      "  \u001b[90m[1019f520] \u001b[39m\u001b[92m+ JLFzf v0.1.7\u001b[39m\n",
      "  \u001b[90m[b964fa9f] \u001b[39m\u001b[92m+ LaTeXStrings v1.3.1\u001b[39m\n",
      "  \u001b[90m[23fbe1c1] \u001b[39m\u001b[92m+ Latexify v0.16.1\u001b[39m\n",
      "  \u001b[90m[e6f89c97] \u001b[39m\u001b[92m+ LoggingExtras v1.0.3\u001b[39m\n",
      "  \u001b[90m[442fdcdd] \u001b[39m\u001b[92m+ Measures v0.3.2\u001b[39m\n",
      "  \u001b[90m[4d8831e6] \u001b[39m\u001b[92m+ OpenSSL v1.4.1\u001b[39m\n",
      "  \u001b[90m[b98c9c47] \u001b[39m\u001b[92m+ Pipe v1.3.0\u001b[39m\n",
      "  \u001b[90m[ccf2f8ad] \u001b[39m\u001b[92m+ PlotThemes v3.1.0\u001b[39m\n",
      "  \u001b[90m[995b91a9] \u001b[39m\u001b[92m+ PlotUtils v1.3.5\u001b[39m\n",
      "  \u001b[90m[91a5bcdd] \u001b[39m\u001b[92m+ Plots v1.39.0\u001b[39m\n",
      "  \u001b[90m[3cdcf5f2] \u001b[39m\u001b[92m+ RecipesBase v1.3.4\u001b[39m\n",
      "  \u001b[90m[01d81517] \u001b[39m\u001b[92m+ RecipesPipeline v0.6.12\u001b[39m\n",
      "  \u001b[90m[05181044] \u001b[39m\u001b[92m+ RelocatableFolders v1.0.1\u001b[39m\n",
      "  \u001b[90m[6c6a2e73] \u001b[39m\u001b[92m+ Scratch v1.2.1\u001b[39m\n",
      "  \u001b[90m[992d4aef] \u001b[39m\u001b[92m+ Showoff v1.0.3\u001b[39m\n",
      "  \u001b[90m[777ac1f9] \u001b[39m\u001b[92m+ SimpleBufferStream v1.1.0\u001b[39m\n",
      "  \u001b[90m[62fd8b95] \u001b[39m\u001b[92m+ TensorCore v0.1.1\u001b[39m\n",
      "  \u001b[90m[5c2747f8] \u001b[39m\u001b[92m+ URIs v1.5.1\u001b[39m\n",
      "  \u001b[90m[1cfade01] \u001b[39m\u001b[92m+ UnicodeFun v0.4.1\u001b[39m\n",
      "  \u001b[90m[1986cc42] \u001b[39m\u001b[92m+ Unitful v1.19.0\u001b[39m\n",
      "  \u001b[90m[45397f5d] \u001b[39m\u001b[92m+ UnitfulLatexify v1.6.3\u001b[39m\n",
      "  \u001b[90m[41fe7b60] \u001b[39m\u001b[92m+ Unzip v0.2.0\u001b[39m\n",
      "  \u001b[90m[6e34b625] \u001b[39m\u001b[92m+ Bzip2_jll v1.0.8+0\u001b[39m\n",
      "  \u001b[90m[83423d85] \u001b[39m\u001b[92m+ Cairo_jll v1.16.1+1\u001b[39m\n",
      "  \u001b[90m[2702e6a9] \u001b[39m\u001b[92m+ EpollShim_jll v0.0.20230411+0\u001b[39m\n",
      "  \u001b[90m[2e619515] \u001b[39m\u001b[92m+ Expat_jll v2.5.0+0\u001b[39m\n",
      "  \u001b[90m[b22a6f82] \u001b[39m\u001b[92m+ FFMPEG_jll v4.4.4+1\u001b[39m\n",
      "  \u001b[90m[a3f928ae] \u001b[39m\u001b[92m+ Fontconfig_jll v2.13.93+0\u001b[39m\n",
      "  \u001b[90m[d7e528f0] \u001b[39m\u001b[92m+ FreeType2_jll v2.13.1+0\u001b[39m\n",
      "  \u001b[90m[559328eb] \u001b[39m\u001b[92m+ FriBidi_jll v1.0.10+0\u001b[39m\n",
      "  \u001b[90m[0656b61e] \u001b[39m\u001b[92m+ GLFW_jll v3.3.8+0\u001b[39m\n",
      "  \u001b[90m[d2c73de3] \u001b[39m\u001b[92m+ GR_jll v0.72.10+0\u001b[39m\n",
      "  \u001b[90m[78b55507] \u001b[39m\u001b[92m+ Gettext_jll v0.21.0+0\u001b[39m\n",
      "  \u001b[90m[7746bdde] \u001b[39m\u001b[92m+ Glib_jll v2.76.5+0\u001b[39m\n",
      "  \u001b[90m[3b182d85] \u001b[39m\u001b[92m+ Graphite2_jll v1.3.14+0\u001b[39m\n",
      "  \u001b[90m[2e76f6c2] \u001b[39m\u001b[92m+ HarfBuzz_jll v2.8.1+1\u001b[39m\n",
      "  \u001b[90m[aacddb02] \u001b[39m\u001b[92m+ JpegTurbo_jll v3.0.1+0\u001b[39m\n",
      "  \u001b[90m[c1c5ebd0] \u001b[39m\u001b[92m+ LAME_jll v3.100.1+0\u001b[39m\n",
      "  \u001b[90m[88015f11] \u001b[39m\u001b[92m+ LERC_jll v3.0.0+1\u001b[39m\n",
      "  \u001b[90m[1d63c593] \u001b[39m\u001b[92m+ LLVMOpenMP_jll v15.0.4+0\u001b[39m\n",
      "  \u001b[90m[dd4b983a] \u001b[39m\u001b[92m+ LZO_jll v2.10.1+0\u001b[39m\n",
      "\u001b[33m⌅\u001b[39m \u001b[90m[e9f186c6] \u001b[39m\u001b[92m+ Libffi_jll v3.2.2+1\u001b[39m\n",
      "  \u001b[90m[d4300ac3] \u001b[39m\u001b[92m+ Libgcrypt_jll v1.8.7+0\u001b[39m\n",
      "  \u001b[90m[7e76a0d4] \u001b[39m\u001b[92m+ Libglvnd_jll v1.6.0+0\u001b[39m\n",
      "  \u001b[90m[7add5ba3] \u001b[39m\u001b[92m+ Libgpg_error_jll v1.42.0+0\u001b[39m\n",
      "  \u001b[90m[94ce4f54] \u001b[39m\u001b[92m+ Libiconv_jll v1.17.0+0\u001b[39m\n",
      "  \u001b[90m[4b2f31a3] \u001b[39m\u001b[92m+ Libmount_jll v2.35.0+0\u001b[39m\n",
      "\u001b[33m⌅\u001b[39m \u001b[90m[89763e89] \u001b[39m\u001b[92m+ Libtiff_jll v4.5.1+1\u001b[39m\n",
      "  \u001b[90m[38a345b3] \u001b[39m\u001b[92m+ Libuuid_jll v2.36.0+0\u001b[39m\n",
      "  \u001b[90m[e7412a2a] \u001b[39m\u001b[92m+ Ogg_jll v1.3.5+1\u001b[39m\n",
      "  \u001b[90m[458c3c95] \u001b[39m\u001b[92m+ OpenSSL_jll v3.0.12+0\u001b[39m\n",
      "  \u001b[90m[91d4177d] \u001b[39m\u001b[92m+ Opus_jll v1.3.2+0\u001b[39m\n",
      "  \u001b[90m[30392449] \u001b[39m\u001b[92m+ Pixman_jll v0.42.2+0\u001b[39m\n",
      "  \u001b[90m[c0090381] \u001b[39m\u001b[92m+ Qt6Base_jll v6.5.3+1\u001b[39m\n",
      "  \u001b[90m[a44049a8] \u001b[39m\u001b[92m+ Vulkan_Loader_jll v1.3.243+0\u001b[39m\n",
      "  \u001b[90m[a2964d1f] \u001b[39m\u001b[92m+ Wayland_jll v1.21.0+1\u001b[39m\n",
      "  \u001b[90m[2381bf8a] \u001b[39m\u001b[92m+ Wayland_protocols_jll v1.25.0+0\u001b[39m\n",
      "  \u001b[90m[02c8fc9c] \u001b[39m\u001b[92m+ XML2_jll v2.12.2+0\u001b[39m\n",
      "  \u001b[90m[aed1982a] \u001b[39m\u001b[92m+ XSLT_jll v1.1.34+0\u001b[39m\n",
      "  \u001b[90m[ffd25f8a] \u001b[39m\u001b[92m+ XZ_jll v5.4.5+0\u001b[39m\n",
      "  \u001b[90m[f67eecfb] \u001b[39m\u001b[92m+ Xorg_libICE_jll v1.0.10+1\u001b[39m\n",
      "  \u001b[90m[c834827a] \u001b[39m\u001b[92m+ Xorg_libSM_jll v1.2.3+0\u001b[39m\n",
      "  \u001b[90m[4f6342f7] \u001b[39m\u001b[92m+ Xorg_libX11_jll v1.8.6+0\u001b[39m\n",
      "  \u001b[90m[0c0b7dd1] \u001b[39m\u001b[92m+ Xorg_libXau_jll v1.0.11+0\u001b[39m\n",
      "  \u001b[90m[935fb764] \u001b[39m\u001b[92m+ Xorg_libXcursor_jll v1.2.0+4\u001b[39m\n",
      "  \u001b[90m[a3789734] \u001b[39m\u001b[92m+ Xorg_libXdmcp_jll v1.1.4+0\u001b[39m\n",
      "  \u001b[90m[1082639a] \u001b[39m\u001b[92m+ Xorg_libXext_jll v1.3.4+4\u001b[39m\n",
      "  \u001b[90m[d091e8ba] \u001b[39m\u001b[92m+ Xorg_libXfixes_jll v5.0.3+4\u001b[39m\n",
      "  \u001b[90m[a51aa0fd] \u001b[39m\u001b[92m+ Xorg_libXi_jll v1.7.10+4\u001b[39m\n",
      "  \u001b[90m[d1454406] \u001b[39m\u001b[92m+ Xorg_libXinerama_jll v1.1.4+4\u001b[39m\n",
      "  \u001b[90m[ec84b674] \u001b[39m\u001b[92m+ Xorg_libXrandr_jll v1.5.2+4\u001b[39m\n",
      "  \u001b[90m[ea2f1a96] \u001b[39m\u001b[92m+ Xorg_libXrender_jll v0.9.10+4\u001b[39m\n",
      "  \u001b[90m[14d82f49] \u001b[39m\u001b[92m+ Xorg_libpthread_stubs_jll v0.1.1+0\u001b[39m\n",
      "  \u001b[90m[c7cfdc94] \u001b[39m\u001b[92m+ Xorg_libxcb_jll v1.15.0+0\u001b[39m\n",
      "  \u001b[90m[cc61e674] \u001b[39m\u001b[92m+ Xorg_libxkbfile_jll v1.1.2+0\u001b[39m\n",
      "  \u001b[90m[e920d4aa] \u001b[39m\u001b[92m+ Xorg_xcb_util_cursor_jll v0.1.4+0\u001b[39m\n",
      "  \u001b[90m[12413925] \u001b[39m\u001b[92m+ Xorg_xcb_util_image_jll v0.4.0+1\u001b[39m\n",
      "  \u001b[90m[2def613f] \u001b[39m\u001b[92m+ Xorg_xcb_util_jll v0.4.0+1\u001b[39m\n",
      "  \u001b[90m[975044d2] \u001b[39m\u001b[92m+ Xorg_xcb_util_keysyms_jll v0.4.0+1\u001b[39m\n",
      "  \u001b[90m[0d47668e] \u001b[39m\u001b[92m+ Xorg_xcb_util_renderutil_jll v0.3.9+1\u001b[39m\n",
      "  \u001b[90m[c22f9ab0] \u001b[39m\u001b[92m+ Xorg_xcb_util_wm_jll v0.4.1+1\u001b[39m\n",
      "  \u001b[90m[35661453] \u001b[39m\u001b[92m+ Xorg_xkbcomp_jll v1.4.6+0\u001b[39m\n",
      "  \u001b[90m[33bec58e] \u001b[39m\u001b[92m+ Xorg_xkeyboard_config_jll v2.39.0+0\u001b[39m\n",
      "  \u001b[90m[c5fb5394] \u001b[39m\u001b[92m+ Xorg_xtrans_jll v1.5.0+0\u001b[39m\n",
      "  \u001b[90m[3161d3a3] \u001b[39m\u001b[92m+ Zstd_jll v1.5.5+0\u001b[39m\n",
      "  \u001b[90m[35ca27e7] \u001b[39m\u001b[92m+ eudev_jll v3.2.9+0\u001b[39m\n",
      "  \u001b[90m[214eeab7] \u001b[39m\u001b[92m+ fzf_jll v0.43.0+0\u001b[39m\n",
      "  \u001b[90m[1a1c6b14] \u001b[39m\u001b[92m+ gperf_jll v3.1.1+0\u001b[39m\n",
      "  \u001b[90m[a4ae2306] \u001b[39m\u001b[92m+ libaom_jll v3.4.0+0\u001b[39m\n",
      "  \u001b[90m[0ac62f75] \u001b[39m\u001b[92m+ libass_jll v0.15.1+0\u001b[39m\n",
      "  \u001b[90m[2db6ffa8] \u001b[39m\u001b[92m+ libevdev_jll v1.11.0+0\u001b[39m\n",
      "  \u001b[90m[f638f0a6] \u001b[39m\u001b[92m+ libfdk_aac_jll v2.0.2+0\u001b[39m\n",
      "  \u001b[90m[36db933b] \u001b[39m\u001b[92m+ libinput_jll v1.18.0+0\u001b[39m\n",
      "  \u001b[90m[b53b4c65] \u001b[39m\u001b[92m+ libpng_jll v1.6.40+0\u001b[39m\n",
      "  \u001b[90m[f27f6e37] \u001b[39m\u001b[92m+ libvorbis_jll v1.3.7+1\u001b[39m\n",
      "  \u001b[90m[009596ad] \u001b[39m\u001b[92m+ mtdev_jll v1.1.6+0\u001b[39m\n",
      "  \u001b[90m[1270edf5] \u001b[39m\u001b[92m+ x264_jll v2021.5.5+0\u001b[39m\n",
      "  \u001b[90m[dfaa095f] \u001b[39m\u001b[92m+ x265_jll v3.5.0+0\u001b[39m\n",
      "  \u001b[90m[d8fb68d0] \u001b[39m\u001b[92m+ xkbcommon_jll v1.4.1+1\u001b[39m\n",
      "  \u001b[90m[efcefdf7] \u001b[39m\u001b[92m+ PCRE2_jll v10.42.0+0\u001b[39m\n",
      "\u001b[36m\u001b[1m        Info\u001b[22m\u001b[39m Packages marked with \u001b[33m⌅\u001b[39m have new versions available but compatibility constraints restrict them from upgrading. To see why use `status --outdated -m`\n"
     ]
    },
    {
     "name": "stderr",
     "output_type": "stream",
     "text": [
      "\u001b[32m\u001b[1mPrecompiling\u001b[22m\u001b[39m "
     ]
    },
    {
     "name": "stderr",
     "output_type": "stream",
     "text": [
      "project...\n"
     ]
    },
    {
     "name": "stderr",
     "output_type": "stream",
     "text": [
      "\u001b[32m  ✓ \u001b[39m\u001b[90mBitFlags\u001b[39m\n",
      "\u001b[32m  ✓ \u001b[39m\u001b[90mLaTeXStrings\u001b[39m\n",
      "\u001b[32m  ✓ \u001b[39m\u001b[90mCodecZlib\u001b[39m\n"
     ]
    },
    {
     "name": "stderr",
     "output_type": "stream",
     "text": [
      "\u001b[32m  ✓ \u001b[39m\u001b[90mURIs\u001b[39m\n"
     ]
    },
    {
     "name": "stderr",
     "output_type": "stream",
     "text": [
      "\u001b[32m  ✓ \u001b[39m\u001b[90mConcurrentUtilities\u001b[39m\n"
     ]
    },
    {
     "name": "stderr",
     "output_type": "stream",
     "text": [
      "\u001b[32m  ✓ \u001b[39m\u001b[90mScratch\u001b[39m\n"
     ]
    },
    {
     "name": "stderr",
     "output_type": "stream",
     "text": [
      "\u001b[32m  ✓ \u001b[39m\u001b[90mLoggingExtras\u001b[39m\n"
     ]
    },
    {
     "name": "stderr",
     "output_type": "stream",
     "text": [
      "\u001b[32m  ✓ \u001b[39m\u001b[90mOpenSSL_jll\u001b[39m\n"
     ]
    },
    {
     "name": "stderr",
     "output_type": "stream",
     "text": [
      "\u001b[32m  ✓ \u001b[39m\u001b[90mGraphite2_jll\u001b[39m\n"
     ]
    },
    {
     "name": "stderr",
     "output_type": "stream",
     "text": [
      "\u001b[32m  ✓ \u001b[39m\u001b[90mLibmount_jll\u001b[39m\n"
     ]
    },
    {
     "name": "stderr",
     "output_type": "stream",
     "text": [
      "\u001b[32m  ✓ \u001b[39m\u001b[90mEpollShim_jll\u001b[39m\n"
     ]
    },
    {
     "name": "stderr",
     "output_type": "stream",
     "text": [
      "\u001b[32m  ✓ \u001b[39m\u001b[90mBzip2_jll\u001b[39m\n",
      "\u001b[32m  ✓ \u001b[39m\u001b[90mLLVMOpenMP_jll\u001b[39m\n"
     ]
    },
    {
     "name": "stderr",
     "output_type": "stream",
     "text": [
      "\u001b[32m  ✓ \u001b[39m\u001b[90mXorg_libXau_jll\u001b[39m\n"
     ]
    },
    {
     "name": "stderr",
     "output_type": "stream",
     "text": [
      "\u001b[32m  ✓ \u001b[39m\u001b[90mRecipesBase\u001b[39m\n"
     ]
    },
    {
     "name": "stderr",
     "output_type": "stream",
     "text": [
      "\u001b[32m  ✓ \u001b[39m\u001b[90mlibpng_jll\u001b[39m\n"
     ]
    },
    {
     "name": "stderr",
     "output_type": "stream",
     "text": [
      "\u001b[32m  ✓ \u001b[39m\u001b[90mlibfdk_aac_jll\u001b[39m\n"
     ]
    },
    {
     "name": "stderr",
     "output_type": "stream",
     "text": [
      "\u001b[32m  ✓ \u001b[39m\u001b[90mLAME_jll\u001b[39m\n"
     ]
    },
    {
     "name": "stderr",
     "output_type": "stream",
     "text": [
      "\u001b[32m  ✓ \u001b[39m\u001b[90mLERC_jll\u001b[39m\n"
     ]
    },
    {
     "name": "stderr",
     "output_type": "stream",
     "text": [
      "\u001b[32m  ✓ \u001b[39m\u001b[90mfzf_jll\u001b[39m\n"
     ]
    },
    {
     "name": "stderr",
     "output_type": "stream",
     "text": [
      "\u001b[32m  ✓ \u001b[39m\u001b[90mJpegTurbo_jll\u001b[39m\n"
     ]
    },
    {
     "name": "stderr",
     "output_type": "stream",
     "text": [
      "\u001b[32m  ✓ \u001b[39m\u001b[90mXZ_jll\u001b[39m\n"
     ]
    },
    {
     "name": "stderr",
     "output_type": "stream",
     "text": [
      "\u001b[32m  ✓ \u001b[39m\u001b[90mOgg_jll\u001b[39m\n"
     ]
    },
    {
     "name": "stderr",
     "output_type": "stream",
     "text": [
      "\u001b[32m  ✓ \u001b[39m\u001b[90mmtdev_jll\u001b[39m\n"
     ]
    },
    {
     "name": "stderr",
     "output_type": "stream",
     "text": [
      "\u001b[32m  ✓ \u001b[39m\u001b[90mgperf_jll\u001b[39m\n"
     ]
    },
    {
     "name": "stderr",
     "output_type": "stream",
     "text": [
      "\u001b[32m  ✓ \u001b[39m\u001b[90mXorg_libXdmcp_jll\u001b[39m\n"
     ]
    },
    {
     "name": "stderr",
     "output_type": "stream",
     "text": [
      "\u001b[32m  ✓ \u001b[39m\u001b[90mx265_jll\u001b[39m\n"
     ]
    },
    {
     "name": "stderr",
     "output_type": "stream",
     "text": [
      "\u001b[32m  ✓ \u001b[39m\u001b[90mx264_jll\u001b[39m\n"
     ]
    },
    {
     "name": "stderr",
     "output_type": "stream",
     "text": [
      "\u001b[32m  ✓ \u001b[39m\u001b[90mlibaom_jll\u001b[39m\n"
     ]
    },
    {
     "name": "stderr",
     "output_type": "stream",
     "text": [
      "\u001b[32m  ✓ \u001b[39m\u001b[90mZstd_jll\u001b[39m\n"
     ]
    },
    {
     "name": "stderr",
     "output_type": "stream",
     "text": [
      "\u001b[32m  ✓ \u001b[39m\u001b[90mExpat_jll\u001b[39m\n"
     ]
    },
    {
     "name": "stderr",
     "output_type": "stream",
     "text": [
      "\u001b[32m  ✓ \u001b[39m\u001b[90mLZO_jll\u001b[39m\n"
     ]
    },
    {
     "name": "stderr",
     "output_type": "stream",
     "text": [
      "\u001b[32m  ✓ \u001b[39m\u001b[90mOpus_jll\u001b[39m\n",
      "\u001b[32m  ✓ \u001b[39m\u001b[90mXorg_xtrans_jll\u001b[39m\n"
     ]
    },
    {
     "name": "stderr",
     "output_type": "stream",
     "text": [
      "\u001b[32m  ✓ \u001b[39m\u001b[90mlibevdev_jll\u001b[39m\n"
     ]
    },
    {
     "name": "stderr",
     "output_type": "stream",
     "text": [
      "\u001b[32m  ✓ \u001b[39m\u001b[90mLibiconv_jll\u001b[39m\n"
     ]
    },
    {
     "name": "stderr",
     "output_type": "stream",
     "text": [
      "\u001b[32m  ✓ \u001b[39m\u001b[90mLibgpg_error_jll\u001b[39m\n",
      "\u001b[32m  ✓ \u001b[39m\u001b[90mLibffi_jll\u001b[39m\n"
     ]
    },
    {
     "name": "stderr",
     "output_type": "stream",
     "text": [
      "\u001b[32m  ✓ \u001b[39m\u001b[90mWayland_protocols_jll\u001b[39m\n"
     ]
    },
    {
     "name": "stderr",
     "output_type": "stream",
     "text": [
      "\u001b[32m  ✓ \u001b[39m\u001b[90mXorg_libpthread_stubs_jll\u001b[39m\n"
     ]
    },
    {
     "name": "stderr",
     "output_type": "stream",
     "text": [
      "\u001b[32m  ✓ \u001b[39m\u001b[90mLibuuid_jll\u001b[39m\n"
     ]
    },
    {
     "name": "stderr",
     "output_type": "stream",
     "text": [
      "\u001b[32m  ✓ \u001b[39m\u001b[90mFriBidi_jll\u001b[39m\n"
     ]
    },
    {
     "name": "stderr",
     "output_type": "stream",
     "text": [
      "\u001b[32m  ✓ \u001b[39m\u001b[90mColorVectorSpace → SpecialFunctionsExt\u001b[39m\n"
     ]
    },
    {
     "name": "stderr",
     "output_type": "stream",
     "text": [
      "\u001b[32m  ✓ \u001b[39m\u001b[90mRelocatableFolders\u001b[39m\n"
     ]
    },
    {
     "name": "stderr",
     "output_type": "stream",
     "text": [
      "\u001b[32m  ✓ \u001b[39m\u001b[90mFreeType2_jll\u001b[39m\n"
     ]
    },
    {
     "name": "stderr",
     "output_type": "stream",
     "text": [
      "\u001b[32m  ✓ \u001b[39m\u001b[90mPixman_jll\u001b[39m\n"
     ]
    },
    {
     "name": "stderr",
     "output_type": "stream",
     "text": [
      "\u001b[32m  ✓ \u001b[39m\u001b[90mJLFzf\u001b[39m\n"
     ]
    },
    {
     "name": "stderr",
     "output_type": "stream",
     "text": [
      "\u001b[32m  ✓ \u001b[39m\u001b[90mlibvorbis_jll\u001b[39m\n"
     ]
    },
    {
     "name": "stderr",
     "output_type": "stream",
     "text": [
      "\u001b[32m  ✓ \u001b[39m\u001b[90meudev_jll\u001b[39m\n"
     ]
    },
    {
     "name": "stderr",
     "output_type": "stream",
     "text": [
      "\u001b[32m  ✓ \u001b[39m\u001b[90mOpenSSL\u001b[39m\n"
     ]
    },
    {
     "name": "stderr",
     "output_type": "stream",
     "text": [
      "\u001b[32m  ✓ \u001b[39m\u001b[90mXML2_jll\u001b[39m\n"
     ]
    },
    {
     "name": "stderr",
     "output_type": "stream",
     "text": [
      "\u001b[32m  ✓ \u001b[39m\u001b[90mLatexify\u001b[39m\n"
     ]
    },
    {
     "name": "stderr",
     "output_type": "stream",
     "text": [
      "\u001b[32m  ✓ \u001b[39m\u001b[90mLibtiff_jll\u001b[39m\n"
     ]
    },
    {
     "name": "stderr",
     "output_type": "stream",
     "text": [
      "\u001b[32m  ✓ \u001b[39m\u001b[90mLibgcrypt_jll\u001b[39m\n"
     ]
    },
    {
     "name": "stderr",
     "output_type": "stream",
     "text": [
      "\u001b[32m  ✓ \u001b[39m\u001b[90mlibinput_jll\u001b[39m\n"
     ]
    },
    {
     "name": "stderr",
     "output_type": "stream",
     "text": [
      "\u001b[32m  ✓ \u001b[39m\u001b[90mFontconfig_jll\u001b[39m\n"
     ]
    },
    {
     "name": "stderr",
     "output_type": "stream",
     "text": [
      "\u001b[32m  ✓ \u001b[39m\u001b[90mGettext_jll\u001b[39m\n"
     ]
    },
    {
     "name": "stderr",
     "output_type": "stream",
     "text": [
      "\u001b[32m  ✓ \u001b[39m\u001b[90mWayland_jll\u001b[39m\n"
     ]
    },
    {
     "name": "stderr",
     "output_type": "stream",
     "text": [
      "\u001b[32m  ✓ \u001b[39m\u001b[90mXSLT_jll\u001b[39m\n"
     ]
    },
    {
     "name": "stderr",
     "output_type": "stream",
     "text": [
      "\u001b[32m  ✓ \u001b[39m\u001b[90mGlib_jll\u001b[39m\n"
     ]
    },
    {
     "name": "stderr",
     "output_type": "stream",
     "text": [
      "\u001b[32m  ✓ \u001b[39m\u001b[90mXorg_libxcb_jll\u001b[39m\n"
     ]
    },
    {
     "name": "stderr",
     "output_type": "stream",
     "text": [
      "\u001b[32m  ✓ \u001b[39m\u001b[90mXorg_xcb_util_jll\u001b[39m\n"
     ]
    },
    {
     "name": "stderr",
     "output_type": "stream",
     "text": [
      "\u001b[32m  ✓ \u001b[39m\u001b[90mXorg_libX11_jll\u001b[39m\n"
     ]
    },
    {
     "name": "stderr",
     "output_type": "stream",
     "text": [
      "\u001b[32m  ✓ \u001b[39m\u001b[90mXorg_xcb_util_image_jll\u001b[39m\n"
     ]
    },
    {
     "name": "stderr",
     "output_type": "stream",
     "text": [
      "\u001b[32m  ✓ \u001b[39m\u001b[90mXorg_xcb_util_keysyms_jll\u001b[39m\n"
     ]
    },
    {
     "name": "stderr",
     "output_type": "stream",
     "text": [
      "\u001b[32m  ✓ \u001b[39m\u001b[90mHTTP\u001b[39m\n"
     ]
    },
    {
     "name": "stderr",
     "output_type": "stream",
     "text": [
      "\u001b[32m  ✓ \u001b[39m\u001b[90mXorg_xcb_util_renderutil_jll\u001b[39m\n"
     ]
    },
    {
     "name": "stderr",
     "output_type": "stream",
     "text": [
      "\u001b[32m  ✓ \u001b[39m\u001b[90mXorg_xcb_util_wm_jll\u001b[39m\n"
     ]
    },
    {
     "name": "stderr",
     "output_type": "stream",
     "text": [
      "\u001b[32m  ✓ \u001b[39m\u001b[90mXorg_libXrender_jll\u001b[39m\n"
     ]
    },
    {
     "name": "stderr",
     "output_type": "stream",
     "text": [
      "\u001b[32m  ✓ \u001b[39m\u001b[90mXorg_libXext_jll\u001b[39m\n"
     ]
    },
    {
     "name": "stderr",
     "output_type": "stream",
     "text": [
      "\u001b[32m  ✓ \u001b[39m\u001b[90mXorg_libXfixes_jll\u001b[39m\n"
     ]
    },
    {
     "name": "stderr",
     "output_type": "stream",
     "text": [
      "\u001b[32m  ✓ \u001b[39m\u001b[90mXorg_libxkbfile_jll\u001b[39m\n"
     ]
    },
    {
     "name": "stderr",
     "output_type": "stream",
     "text": [
      "\u001b[32m  ✓ \u001b[39m\u001b[90mXorg_xcb_util_cursor_jll\u001b[39m\n"
     ]
    },
    {
     "name": "stderr",
     "output_type": "stream",
     "text": [
      "\u001b[32m  ✓ \u001b[39m\u001b[90mLibglvnd_jll\u001b[39m\n"
     ]
    },
    {
     "name": "stderr",
     "output_type": "stream",
     "text": [
      "\u001b[32m  ✓ \u001b[39m\u001b[90mXorg_libXinerama_jll\u001b[39m\n"
     ]
    },
    {
     "name": "stderr",
     "output_type": "stream",
     "text": [
      "\u001b[32m  ✓ \u001b[39m\u001b[90mXorg_libXrandr_jll\u001b[39m\n"
     ]
    },
    {
     "name": "stderr",
     "output_type": "stream",
     "text": [
      "\u001b[32m  ✓ \u001b[39m\u001b[90mXorg_libXcursor_jll\u001b[39m\n"
     ]
    },
    {
     "name": "stderr",
     "output_type": "stream",
     "text": [
      "\u001b[32m  ✓ \u001b[39m\u001b[90mXorg_libXi_jll\u001b[39m\n"
     ]
    },
    {
     "name": "stderr",
     "output_type": "stream",
     "text": [
      "\u001b[32m  ✓ \u001b[39m\u001b[90mCairo_jll\u001b[39m\n"
     ]
    },
    {
     "name": "stderr",
     "output_type": "stream",
     "text": [
      "\u001b[32m  ✓ \u001b[39m\u001b[90mXorg_xkbcomp_jll\u001b[39m\n"
     ]
    },
    {
     "name": "stderr",
     "output_type": "stream",
     "text": [
      "\u001b[32m  ✓ \u001b[39m\u001b[90mGLFW_jll\u001b[39m\n"
     ]
    },
    {
     "name": "stderr",
     "output_type": "stream",
     "text": [
      "\u001b[32m  ✓ \u001b[39m\u001b[90mXorg_xkeyboard_config_jll\u001b[39m\n"
     ]
    },
    {
     "name": "stderr",
     "output_type": "stream",
     "text": [
      "\u001b[32m  ✓ \u001b[39m\u001b[90mColorSchemes\u001b[39m\n"
     ]
    },
    {
     "name": "stderr",
     "output_type": "stream",
     "text": [
      "\u001b[32m  ✓ \u001b[39m\u001b[90mHarfBuzz_jll\u001b[39m\n"
     ]
    },
    {
     "name": "stderr",
     "output_type": "stream",
     "text": [
      "\u001b[32m  ✓ \u001b[39m\u001b[90mxkbcommon_jll\u001b[39m\n"
     ]
    },
    {
     "name": "stderr",
     "output_type": "stream",
     "text": [
      "\u001b[32m  ✓ \u001b[39m\u001b[90mVulkan_Loader_jll\u001b[39m\n"
     ]
    },
    {
     "name": "stderr",
     "output_type": "stream",
     "text": [
      "\u001b[32m  ✓ \u001b[39m\u001b[90mlibass_jll\u001b[39m\n"
     ]
    },
    {
     "name": "stderr",
     "output_type": "stream",
     "text": [
      "\u001b[32m  ✓ \u001b[39m\u001b[90mFFMPEG_jll\u001b[39m\n"
     ]
    },
    {
     "name": "stderr",
     "output_type": "stream",
     "text": [
      "\u001b[32m  ✓ \u001b[39m\u001b[90mQt6Base_jll\u001b[39m\n"
     ]
    },
    {
     "name": "stderr",
     "output_type": "stream",
     "text": [
      "\u001b[32m  ✓ \u001b[39m\u001b[90mFFMPEG\u001b[39m\n"
     ]
    },
    {
     "name": "stderr",
     "output_type": "stream",
     "text": [
      "\u001b[32m  ✓ \u001b[39m\u001b[90mGR_jll\u001b[39m\n"
     ]
    },
    {
     "name": "stderr",
     "output_type": "stream",
     "text": [
      "\u001b[32m  ✓ \u001b[39m\u001b[90mGR\u001b[39m\n"
     ]
    },
    {
     "name": "stderr",
     "output_type": "stream",
     "text": [
      "\u001b[32m  ✓ \u001b[39m\u001b[90mPlotUtils\u001b[39m\n"
     ]
    },
    {
     "name": "stderr",
     "output_type": "stream",
     "text": [
      "\u001b[32m  ✓ \u001b[39m\u001b[90mPlotThemes\u001b[39m\n"
     ]
    },
    {
     "name": "stderr",
     "output_type": "stream",
     "text": [
      "\u001b[32m  ✓ \u001b[39m\u001b[90mRecipesPipeline\u001b[39m\n"
     ]
    },
    {
     "name": "stderr",
     "output_type": "stream",
     "text": [
      "\u001b[32m  ✓ \u001b[39m\u001b[90mUnitful\u001b[39m\n"
     ]
    },
    {
     "name": "stderr",
     "output_type": "stream",
     "text": [
      "\u001b[32m  ✓ \u001b[39m\u001b[90mUnitfulLatexify\u001b[39m\n"
     ]
    },
    {
     "name": "stderr",
     "output_type": "stream",
     "text": [
      "\u001b[32m  ✓ \u001b[39mPlots\n"
     ]
    },
    {
     "name": "stderr",
     "output_type": "stream",
     "text": [
      "\u001b[32m  ✓ \u001b[39m\u001b[90mPlots → FileIOExt\u001b[39m\n"
     ]
    },
    {
     "name": "stderr",
     "output_type": "stream",
     "text": [
      "\u001b[32m  ✓ \u001b[39m\u001b[90mPlots → IJuliaExt\u001b[39m\n"
     ]
    },
    {
     "name": "stderr",
     "output_type": "stream",
     "text": [
      "\u001b[32m  ✓ \u001b[39m\u001b[90mPlots → UnitfulExt\u001b[39m\n",
      "  101 dependencies successfully precompiled in 187 seconds. 77 already precompiled.\n"
     ]
    }
   ],
   "source": [
    "Pkg.add(\"Plots\")"
   ]
  },
  {
   "cell_type": "code",
   "execution_count": 69,
   "metadata": {},
   "outputs": [
    {
     "data": {
      "text/plain": [
       "1×8 Matrix{Float64}:\n",
       " 0.799264  0.783232  0.768799  0.877517  …  0.900273  0.90645  0.919823"
      ]
     },
     "metadata": {},
     "output_type": "display_data"
    }
   ],
   "source": [
    "mean_ci_interval_left_b1"
   ]
  },
  {
   "cell_type": "code",
   "execution_count": 70,
   "metadata": {},
   "outputs": [
    {
     "data": {
      "text/plain": [
       "1×8 Matrix{Float64}:\n",
       " 1.20501  0.953323  0.87607  0.957607  0.951965  0.952645  0.951125  0.958982"
      ]
     },
     "metadata": {},
     "output_type": "display_data"
    }
   ],
   "source": [
    "mean_ci_interval_right_b1"
   ]
  },
  {
   "cell_type": "code",
   "execution_count": 84,
   "metadata": {},
   "outputs": [
    {
     "data": {
      "image/png": "[encoded data removed]",
      "image/svg+xml": "<?xml version=\"1.0\" encoding=\"utf-8\"?>\n<svg xmlns=\"http://www.w3.org/2000/svg\" xmlns:xlink=\"http://www.w3.org/1999/xlink\" width=\"600\" height=\"400\" viewBox=\"0 0 2400 1600\">\n<defs>\n  <clipPath id=\"clip240\">\n    <rect x=\"0\" y=\"0\" width=\"2400\" height=\"1600\"/>\n  </clipPath>\n</defs>\n<path clip-path=\"url(#clip240)\" d=\"M0 1600 L2400 1600 L2400 0 L0 0  Z\" fill=\"#ffffff\" fill-rule=\"evenodd\" fill-opacity=\"1\"/>\n<defs>\n  <clipPath id=\"clip241\">\n    <rect x=\"480\" y=\"0\" width=\"1681\" height=\"1600\"/>\n  </clipPath>\n</defs>\n<path clip-path=\"url(#clip240)\" d=\"M256.209 1423.18 L2352.76 1423.18 L2352.76 123.472 L256.209 123.472  Z\" fill=\"#ffffff\" fill-rule=\"evenodd\" fill-opacity=\"1\"/>\n<defs>\n  <clipPath id=\"clip242\">\n    <rect x=\"256\" y=\"123\" width=\"2098\" height=\"1301\"/>\n  </clipPath>\n</defs>\n<polyline clip-path=\"url(#clip242)\" style=\"stroke:#000000; stroke-linecap:round; stroke-linejoin:round; stroke-width:2; stroke-opacity:0.1; fill:none\" points=\"598.098,1423.18 598.098,123.472 \"/>\n<polyline clip-path=\"url(#clip242)\" style=\"stroke:#000000; stroke-linecap:round; stroke-linejoin:round; stroke-width:2; stroke-opacity:0.1; fill:none\" points=\"1163.21,1423.18 1163.21,123.472 \"/>\n<polyline clip-path=\"url(#clip242)\" style=\"stroke:#000000; stroke-linecap:round; stroke-linejoin:round; stroke-width:2; stroke-opacity:0.1; fill:none\" points=\"1728.31,1423.18 1728.31,123.472 \"/>\n<polyline clip-path=\"url(#clip242)\" style=\"stroke:#000000; stroke-linecap:round; stroke-linejoin:round; stroke-width:2; stroke-opacity:0.1; fill:none\" points=\"2293.42,1423.18 2293.42,123.472 \"/>\n<polyline clip-path=\"url(#clip240)\" style=\"stroke:#000000; stroke-linecap:round; stroke-linejoin:round; stroke-width:4; stroke-opacity:1; fill:none\" points=\"256.209,1423.18 2352.76,1423.18 \"/>\n<polyline clip-path=\"url(#clip240)\" style=\"stroke:#000000; stroke-linecap:round; stroke-linejoin:round; stroke-width:4; stroke-opacity:1; fill:none\" points=\"598.098,1423.18 598.098,1404.28 \"/>\n<polyline clip-path=\"url(#clip240)\" style=\"stroke:#000000; stroke-linecap:round; stroke-linejoin:round; stroke-width:4; stroke-opacity:1; fill:none\" points=\"1163.21,1423.18 1163.21,1404.28 \"/>\n<polyline clip-path=\"url(#clip240)\" style=\"stroke:#000000; stroke-linecap:round; stroke-linejoin:round; stroke-width:4; stroke-opacity:1; fill:none\" points=\"1728.31,1423.18 1728.31,1404.28 \"/>\n<polyline clip-path=\"url(#clip240)\" style=\"stroke:#000000; stroke-linecap:round; stroke-linejoin:round; stroke-width:4; stroke-opacity:1; fill:none\" points=\"2293.42,1423.18 2293.42,1404.28 \"/>\n<path clip-path=\"url(#clip240)\" d=\"M557.705 1481.64 L565.344 1481.64 L565.344 1455.28 L557.034 1456.95 L557.034 1452.69 L565.298 1451.02 L569.974 1451.02 L569.974 1481.64 L577.612 1481.64 L577.612 1485.58 L557.705 1485.58 L557.705 1481.64 Z\" fill=\"#000000\" fill-rule=\"nonzero\" fill-opacity=\"1\" /><path clip-path=\"url(#clip240)\" d=\"M597.057 1454.1 Q593.446 1454.1 591.617 1457.66 Q589.811 1461.2 589.811 1468.33 Q589.811 1475.44 591.617 1479.01 Q593.446 1482.55 597.057 1482.55 Q600.691 1482.55 602.497 1479.01 Q604.325 1475.44 604.325 1468.33 Q604.325 1461.2 602.497 1457.66 Q600.691 1454.1 597.057 1454.1 M597.057 1450.39 Q602.867 1450.39 605.922 1455 Q609.001 1459.58 609.001 1468.33 Q609.001 1477.06 605.922 1481.67 Q602.867 1486.25 597.057 1486.25 Q591.247 1486.25 588.168 1481.67 Q585.112 1477.06 585.112 1468.33 Q585.112 1459.58 588.168 1455 Q591.247 1450.39 597.057 1450.39 Z\" fill=\"#000000\" fill-rule=\"nonzero\" fill-opacity=\"1\" /><path clip-path=\"url(#clip240)\" d=\"M627.219 1454.1 Q623.608 1454.1 621.779 1457.66 Q619.973 1461.2 619.973 1468.33 Q619.973 1475.44 621.779 1479.01 Q623.608 1482.55 627.219 1482.55 Q630.853 1482.55 632.658 1479.01 Q634.487 1475.44 634.487 1468.33 Q634.487 1461.2 632.658 1457.66 Q630.853 1454.1 627.219 1454.1 M627.219 1450.39 Q633.029 1450.39 636.084 1455 Q639.163 1459.58 639.163 1468.33 Q639.163 1477.06 636.084 1481.67 Q633.029 1486.25 627.219 1486.25 Q621.409 1486.25 618.33 1481.67 Q615.274 1477.06 615.274 1468.33 Q615.274 1459.58 618.33 1455 Q621.409 1450.39 627.219 1450.39 Z\" fill=\"#000000\" fill-rule=\"nonzero\" fill-opacity=\"1\" /><path clip-path=\"url(#clip240)\" d=\"M1126.9 1481.64 L1143.22 1481.64 L1143.22 1485.58 L1121.27 1485.58 L1121.27 1481.64 Q1123.93 1478.89 1128.52 1474.26 Q1133.12 1469.61 1134.31 1468.27 Q1136.55 1465.74 1137.43 1464.01 Q1138.33 1462.25 1138.33 1460.56 Q1138.33 1457.8 1136.39 1456.07 Q1134.47 1454.33 1131.37 1454.33 Q1129.17 1454.33 1126.71 1455.09 Q1124.28 1455.86 1121.5 1457.41 L1121.5 1452.69 Q1124.33 1451.55 1126.78 1450.97 Q1129.24 1450.39 1131.27 1450.39 Q1136.64 1450.39 1139.84 1453.08 Q1143.03 1455.77 1143.03 1460.26 Q1143.03 1462.39 1142.22 1464.31 Q1141.43 1466.2 1139.33 1468.8 Q1138.75 1469.47 1135.65 1472.69 Q1132.55 1475.88 1126.9 1481.64 Z\" fill=\"#000000\" fill-rule=\"nonzero\" fill-opacity=\"1\" /><path clip-path=\"url(#clip240)\" d=\"M1163.03 1454.1 Q1159.42 1454.1 1157.59 1457.66 Q1155.79 1461.2 1155.79 1468.33 Q1155.79 1475.44 1157.59 1479.01 Q1159.42 1482.55 1163.03 1482.55 Q1166.67 1482.55 1168.47 1479.01 Q1170.3 1475.44 1170.3 1468.33 Q1170.3 1461.2 1168.47 1457.66 Q1166.67 1454.1 1163.03 1454.1 M1163.03 1450.39 Q1168.84 1450.39 1171.9 1455 Q1174.98 1459.58 1174.98 1468.33 Q1174.98 1477.06 1171.9 1481.67 Q1168.84 1486.25 1163.03 1486.25 Q1157.22 1486.25 1154.14 1481.67 Q1151.09 1477.06 1151.09 1468.33 Q1151.09 1459.58 1154.14 1455 Q1157.22 1450.39 1163.03 1450.39 Z\" fill=\"#000000\" fill-rule=\"nonzero\" fill-opacity=\"1\" /><path clip-path=\"url(#clip240)\" d=\"M1193.19 1454.1 Q1189.58 1454.1 1187.75 1457.66 Q1185.95 1461.2 1185.95 1468.33 Q1185.95 1475.44 1187.75 1479.01 Q1189.58 1482.55 1193.19 1482.55 Q1196.83 1482.55 1198.63 1479.01 Q1200.46 1475.44 1200.46 1468.33 Q1200.46 1461.2 1198.63 1457.66 Q1196.83 1454.1 1193.19 1454.1 M1193.19 1450.39 Q1199 1450.39 1202.06 1455 Q1205.14 1459.58 1205.14 1468.33 Q1205.14 1477.06 1202.06 1481.67 Q1199 1486.25 1193.19 1486.25 Q1187.38 1486.25 1184.3 1481.67 Q1181.25 1477.06 1181.25 1468.33 Q1181.25 1459.58 1184.3 1455 Q1187.38 1450.39 1193.19 1450.39 Z\" fill=\"#000000\" fill-rule=\"nonzero\" fill-opacity=\"1\" /><path clip-path=\"url(#clip240)\" d=\"M1702.07 1466.95 Q1705.43 1467.66 1707.31 1469.93 Q1709.2 1472.2 1709.2 1475.53 Q1709.2 1480.65 1705.69 1483.45 Q1702.17 1486.25 1695.69 1486.25 Q1693.51 1486.25 1691.19 1485.81 Q1688.9 1485.39 1686.45 1484.54 L1686.45 1480.02 Q1688.39 1481.16 1690.71 1481.74 Q1693.02 1482.32 1695.55 1482.32 Q1699.94 1482.32 1702.24 1480.58 Q1704.55 1478.84 1704.55 1475.53 Q1704.55 1472.48 1702.4 1470.77 Q1700.27 1469.03 1696.45 1469.03 L1692.42 1469.03 L1692.42 1465.19 L1696.63 1465.19 Q1700.08 1465.19 1701.91 1463.82 Q1703.74 1462.43 1703.74 1459.84 Q1703.74 1457.18 1701.84 1455.77 Q1699.97 1454.33 1696.45 1454.33 Q1694.53 1454.33 1692.33 1454.75 Q1690.13 1455.16 1687.49 1456.04 L1687.49 1451.88 Q1690.15 1451.14 1692.47 1450.77 Q1694.81 1450.39 1696.87 1450.39 Q1702.19 1450.39 1705.29 1452.83 Q1708.39 1455.23 1708.39 1459.35 Q1708.39 1462.22 1706.75 1464.21 Q1705.11 1466.18 1702.07 1466.95 Z\" fill=\"#000000\" fill-rule=\"nonzero\" fill-opacity=\"1\" /><path clip-path=\"url(#clip240)\" d=\"M1728.07 1454.1 Q1724.46 1454.1 1722.63 1457.66 Q1720.82 1461.2 1720.82 1468.33 Q1720.82 1475.44 1722.63 1479.01 Q1724.46 1482.55 1728.07 1482.55 Q1731.7 1482.55 1733.51 1479.01 Q1735.34 1475.44 1735.34 1468.33 Q1735.34 1461.2 1733.51 1457.66 Q1731.7 1454.1 1728.07 1454.1 M1728.07 1450.39 Q1733.88 1450.39 1736.94 1455 Q1740.01 1459.58 1740.01 1468.33 Q1740.01 1477.06 1736.94 1481.67 Q1733.88 1486.25 1728.07 1486.25 Q1722.26 1486.25 1719.18 1481.67 Q1716.13 1477.06 1716.13 1468.33 Q1716.13 1459.58 1719.18 1455 Q1722.26 1450.39 1728.07 1450.39 Z\" fill=\"#000000\" fill-rule=\"nonzero\" fill-opacity=\"1\" /><path clip-path=\"url(#clip240)\" d=\"M1758.23 1454.1 Q1754.62 1454.1 1752.79 1457.66 Q1750.99 1461.2 1750.99 1468.33 Q1750.99 1475.44 1752.79 1479.01 Q1754.62 1482.55 1758.23 1482.55 Q1761.87 1482.55 1763.67 1479.01 Q1765.5 1475.44 1765.5 1468.33 Q1765.5 1461.2 1763.67 1457.66 Q1761.87 1454.1 1758.23 1454.1 M1758.23 1450.39 Q1764.04 1450.39 1767.1 1455 Q1770.18 1459.58 1770.18 1468.33 Q1770.18 1477.06 1767.1 1481.67 Q1764.04 1486.25 1758.23 1486.25 Q1752.42 1486.25 1749.34 1481.67 Q1746.29 1477.06 1746.29 1468.33 Q1746.29 1459.58 1749.34 1455 Q1752.42 1450.39 1758.23 1450.39 Z\" fill=\"#000000\" fill-rule=\"nonzero\" fill-opacity=\"1\" /><path clip-path=\"url(#clip240)\" d=\"M2266.51 1455.09 L2254.7 1473.54 L2266.51 1473.54 L2266.51 1455.09 M2265.28 1451.02 L2271.16 1451.02 L2271.16 1473.54 L2276.09 1473.54 L2276.09 1477.43 L2271.16 1477.43 L2271.16 1485.58 L2266.51 1485.58 L2266.51 1477.43 L2250.91 1477.43 L2250.91 1472.92 L2265.28 1451.02 Z\" fill=\"#000000\" fill-rule=\"nonzero\" fill-opacity=\"1\" /><path clip-path=\"url(#clip240)\" d=\"M2293.82 1454.1 Q2290.21 1454.1 2288.38 1457.66 Q2286.58 1461.2 2286.58 1468.33 Q2286.58 1475.44 2288.38 1479.01 Q2290.21 1482.55 2293.82 1482.55 Q2297.46 1482.55 2299.26 1479.01 Q2301.09 1475.44 2301.09 1468.33 Q2301.09 1461.2 2299.26 1457.66 Q2297.46 1454.1 2293.82 1454.1 M2293.82 1450.39 Q2299.63 1450.39 2302.69 1455 Q2305.77 1459.58 2305.77 1468.33 Q2305.77 1477.06 2302.69 1481.67 Q2299.63 1486.25 2293.82 1486.25 Q2288.01 1486.25 2284.94 1481.67 Q2281.88 1477.06 2281.88 1468.33 Q2281.88 1459.58 2284.94 1455 Q2288.01 1450.39 2293.82 1450.39 Z\" fill=\"#000000\" fill-rule=\"nonzero\" fill-opacity=\"1\" /><path clip-path=\"url(#clip240)\" d=\"M2323.99 1454.1 Q2320.38 1454.1 2318.55 1457.66 Q2316.74 1461.2 2316.74 1468.33 Q2316.74 1475.44 2318.55 1479.01 Q2320.38 1482.55 2323.99 1482.55 Q2327.62 1482.55 2329.43 1479.01 Q2331.26 1475.44 2331.26 1468.33 Q2331.26 1461.2 2329.43 1457.66 Q2327.62 1454.1 2323.99 1454.1 M2323.99 1450.39 Q2329.8 1450.39 2332.85 1455 Q2335.93 1459.58 2335.93 1468.33 Q2335.93 1477.06 2332.85 1481.67 Q2329.8 1486.25 2323.99 1486.25 Q2318.18 1486.25 2315.1 1481.67 Q2312.04 1477.06 2312.04 1468.33 Q2312.04 1459.58 2315.1 1455 Q2318.18 1450.39 2323.99 1450.39 Z\" fill=\"#000000\" fill-rule=\"nonzero\" fill-opacity=\"1\" /><path clip-path=\"url(#clip240)\" d=\"M1139.48 1522.08 L1139.48 1528.35 Q1135.82 1526.6 1132.58 1525.74 Q1129.33 1524.88 1126.31 1524.88 Q1121.05 1524.88 1118.19 1526.92 Q1115.36 1528.96 1115.36 1532.71 Q1115.36 1535.87 1117.24 1537.49 Q1119.14 1539.08 1124.43 1540.07 L1128.31 1540.86 Q1135.5 1542.23 1138.91 1545.7 Q1142.35 1549.14 1142.35 1554.93 Q1142.35 1561.84 1137.7 1565.4 Q1133.09 1568.97 1124.14 1568.97 Q1120.77 1568.97 1116.95 1568.2 Q1113.16 1567.44 1109.09 1565.94 L1109.09 1559.32 Q1113 1561.52 1116.76 1562.63 Q1120.51 1563.75 1124.14 1563.75 Q1129.65 1563.75 1132.64 1561.58 Q1135.63 1559.42 1135.63 1555.41 Q1135.63 1551.91 1133.47 1549.93 Q1131.34 1547.96 1126.43 1546.97 L1122.52 1546.21 Q1115.33 1544.78 1112.11 1541.72 Q1108.9 1538.67 1108.9 1533.22 Q1108.9 1526.92 1113.32 1523.29 Q1117.78 1519.66 1125.57 1519.66 Q1128.92 1519.66 1132.39 1520.27 Q1135.85 1520.87 1139.48 1522.08 Z\" fill=\"#000000\" fill-rule=\"nonzero\" fill-opacity=\"1\" /><path clip-path=\"url(#clip240)\" d=\"M1168.32 1550.12 Q1161.22 1550.12 1158.48 1551.75 Q1155.75 1553.37 1155.75 1557.29 Q1155.75 1560.4 1157.78 1562.25 Q1159.85 1564.07 1163.39 1564.07 Q1168.26 1564.07 1171.18 1560.63 Q1174.14 1557.16 1174.14 1551.43 L1174.14 1550.12 L1168.32 1550.12 M1180 1547.71 L1180 1568.04 L1174.14 1568.04 L1174.14 1562.63 Q1172.14 1565.88 1169.15 1567.44 Q1166.16 1568.97 1161.83 1568.97 Q1156.35 1568.97 1153.11 1565.91 Q1149.89 1562.82 1149.89 1557.67 Q1149.89 1551.65 1153.9 1548.6 Q1157.94 1545.54 1165.93 1545.54 L1174.14 1545.54 L1174.14 1544.97 Q1174.14 1540.93 1171.47 1538.73 Q1168.83 1536.5 1164.02 1536.5 Q1160.97 1536.5 1158.07 1537.23 Q1155.17 1537.97 1152.5 1539.43 L1152.5 1534.02 Q1155.72 1532.78 1158.74 1532.17 Q1161.76 1531.54 1164.63 1531.54 Q1172.36 1531.54 1176.18 1535.55 Q1180 1539.56 1180 1547.71 Z\" fill=\"#000000\" fill-rule=\"nonzero\" fill-opacity=\"1\" /><path clip-path=\"url(#clip240)\" d=\"M1219.82 1539.24 Q1222.01 1535.29 1225.07 1533.41 Q1228.13 1531.54 1232.26 1531.54 Q1237.83 1531.54 1240.86 1535.45 Q1243.88 1539.33 1243.88 1546.53 L1243.88 1568.04 L1237.99 1568.04 L1237.99 1546.72 Q1237.99 1541.59 1236.18 1539.11 Q1234.36 1536.63 1230.64 1536.63 Q1226.09 1536.63 1223.45 1539.65 Q1220.81 1542.68 1220.81 1547.9 L1220.81 1568.04 L1214.92 1568.04 L1214.92 1546.72 Q1214.92 1541.56 1213.1 1539.11 Q1211.29 1536.63 1207.5 1536.63 Q1203.01 1536.63 1200.37 1539.68 Q1197.73 1542.71 1197.73 1547.9 L1197.73 1568.04 L1191.84 1568.04 L1191.84 1532.4 L1197.73 1532.4 L1197.73 1537.93 Q1199.73 1534.66 1202.54 1533.1 Q1205.34 1531.54 1209.19 1531.54 Q1213.07 1531.54 1215.78 1533.51 Q1218.51 1535.48 1219.82 1539.24 Z\" fill=\"#000000\" fill-rule=\"nonzero\" fill-opacity=\"1\" /><path clip-path=\"url(#clip240)\" d=\"M1261.23 1562.7 L1261.23 1581.6 L1255.34 1581.6 L1255.34 1532.4 L1261.23 1532.4 L1261.23 1537.81 Q1263.07 1534.62 1265.87 1533.1 Q1268.71 1531.54 1272.62 1531.54 Q1279.11 1531.54 1283.16 1536.69 Q1287.23 1541.85 1287.23 1550.25 Q1287.23 1558.65 1283.16 1563.81 Q1279.11 1568.97 1272.62 1568.97 Q1268.71 1568.97 1265.87 1567.44 Q1263.07 1565.88 1261.23 1562.7 M1281.15 1550.25 Q1281.15 1543.79 1278.48 1540.13 Q1275.84 1536.44 1271.19 1536.44 Q1266.54 1536.44 1263.87 1540.13 Q1261.23 1543.79 1261.23 1550.25 Q1261.23 1556.71 1263.87 1560.4 Q1266.54 1564.07 1271.19 1564.07 Q1275.84 1564.07 1278.48 1560.4 Q1281.15 1556.71 1281.15 1550.25 Z\" fill=\"#000000\" fill-rule=\"nonzero\" fill-opacity=\"1\" /><path clip-path=\"url(#clip240)\" d=\"M1296.94 1518.52 L1302.8 1518.52 L1302.8 1568.04 L1296.94 1568.04 L1296.94 1518.52 Z\" fill=\"#000000\" fill-rule=\"nonzero\" fill-opacity=\"1\" /><path clip-path=\"url(#clip240)\" d=\"M1345.54 1548.76 L1345.54 1551.62 L1318.61 1551.62 Q1319 1557.67 1322.24 1560.85 Q1325.52 1564 1331.35 1564 Q1334.72 1564 1337.87 1563.17 Q1341.05 1562.35 1344.17 1560.69 L1344.17 1566.23 Q1341.02 1567.57 1337.71 1568.27 Q1334.4 1568.97 1331 1568.97 Q1322.47 1568.97 1317.47 1564 Q1312.5 1559.04 1312.5 1550.57 Q1312.5 1541.82 1317.21 1536.69 Q1321.96 1531.54 1329.98 1531.54 Q1337.17 1531.54 1341.34 1536.18 Q1345.54 1540.8 1345.54 1548.76 M1339.68 1547.04 Q1339.62 1542.23 1336.98 1539.37 Q1334.37 1536.5 1330.04 1536.5 Q1325.14 1536.5 1322.18 1539.27 Q1319.25 1542.04 1318.81 1547.07 L1339.68 1547.04 Z\" fill=\"#000000\" fill-rule=\"nonzero\" fill-opacity=\"1\" /><path clip-path=\"url(#clip240)\" d=\"M1404.61 1522.08 L1404.61 1528.35 Q1400.95 1526.6 1397.71 1525.74 Q1394.46 1524.88 1391.44 1524.88 Q1386.19 1524.88 1383.32 1526.92 Q1380.49 1528.96 1380.49 1532.71 Q1380.49 1535.87 1382.37 1537.49 Q1384.28 1539.08 1389.56 1540.07 L1393.44 1540.86 Q1400.64 1542.23 1404.04 1545.7 Q1407.48 1549.14 1407.48 1554.93 Q1407.48 1561.84 1402.83 1565.4 Q1398.22 1568.97 1389.27 1568.97 Q1385.9 1568.97 1382.08 1568.2 Q1378.29 1567.44 1374.22 1565.94 L1374.22 1559.32 Q1378.13 1561.52 1381.89 1562.63 Q1385.65 1563.75 1389.27 1563.75 Q1394.78 1563.75 1397.77 1561.58 Q1400.76 1559.42 1400.76 1555.41 Q1400.76 1551.91 1398.6 1549.93 Q1396.47 1547.96 1391.57 1546.97 L1387.65 1546.21 Q1380.46 1544.78 1377.24 1541.72 Q1374.03 1538.67 1374.03 1533.22 Q1374.03 1526.92 1378.45 1523.29 Q1382.91 1519.66 1390.71 1519.66 Q1394.05 1519.66 1397.52 1520.27 Q1400.99 1520.87 1404.61 1522.08 Z\" fill=\"#000000\" fill-rule=\"nonzero\" fill-opacity=\"1\" /><path clip-path=\"url(#clip240)\" d=\"M1417.25 1532.4 L1423.11 1532.4 L1423.11 1568.04 L1417.25 1568.04 L1417.25 1532.4 M1417.25 1518.52 L1423.11 1518.52 L1423.11 1525.93 L1417.25 1525.93 L1417.25 1518.52 Z\" fill=\"#000000\" fill-rule=\"nonzero\" fill-opacity=\"1\" /><path clip-path=\"url(#clip240)\" d=\"M1432.81 1532.4 L1460.63 1532.4 L1460.63 1537.74 L1438.61 1563.37 L1460.63 1563.37 L1460.63 1568.04 L1432.02 1568.04 L1432.02 1562.7 L1454.04 1537.07 L1432.81 1537.07 L1432.81 1532.4 Z\" fill=\"#000000\" fill-rule=\"nonzero\" fill-opacity=\"1\" /><path clip-path=\"url(#clip240)\" d=\"M1500.07 1548.76 L1500.07 1551.62 L1473.14 1551.62 Q1473.52 1557.67 1476.77 1560.85 Q1480.05 1564 1485.87 1564 Q1489.25 1564 1492.4 1563.17 Q1495.58 1562.35 1498.7 1560.69 L1498.7 1566.23 Q1495.55 1567.57 1492.24 1568.27 Q1488.93 1568.97 1485.52 1568.97 Q1476.99 1568.97 1472 1564 Q1467.03 1559.04 1467.03 1550.57 Q1467.03 1541.82 1471.74 1536.69 Q1476.48 1531.54 1484.5 1531.54 Q1491.7 1531.54 1495.87 1536.18 Q1500.07 1540.8 1500.07 1548.76 M1494.21 1547.04 Q1494.15 1542.23 1491.51 1539.37 Q1488.9 1536.5 1484.57 1536.5 Q1479.67 1536.5 1476.71 1539.27 Q1473.78 1542.04 1473.33 1547.07 L1494.21 1547.04 Z\" fill=\"#000000\" fill-rule=\"nonzero\" fill-opacity=\"1\" /><polyline clip-path=\"url(#clip242)\" style=\"stroke:#000000; stroke-linecap:round; stroke-linejoin:round; stroke-width:2; stroke-opacity:0.1; fill:none\" points=\"256.209,1415.29 2352.76,1415.29 \"/>\n<polyline clip-path=\"url(#clip242)\" style=\"stroke:#000000; stroke-linecap:round; stroke-linejoin:round; stroke-width:2; stroke-opacity:0.1; fill:none\" points=\"256.209,1201.6 2352.76,1201.6 \"/>\n<polyline clip-path=\"url(#clip242)\" style=\"stroke:#000000; stroke-linecap:round; stroke-linejoin:round; stroke-width:2; stroke-opacity:0.1; fill:none\" points=\"256.209,987.922 2352.76,987.922 \"/>\n<polyline clip-path=\"url(#clip242)\" style=\"stroke:#000000; stroke-linecap:round; stroke-linejoin:round; stroke-width:2; stroke-opacity:0.1; fill:none\" points=\"256.209,774.24 2352.76,774.24 \"/>\n<polyline clip-path=\"url(#clip242)\" style=\"stroke:#000000; stroke-linecap:round; stroke-linejoin:round; stroke-width:2; stroke-opacity:0.1; fill:none\" points=\"256.209,560.557 2352.76,560.557 \"/>\n<polyline clip-path=\"url(#clip242)\" style=\"stroke:#000000; stroke-linecap:round; stroke-linejoin:round; stroke-width:2; stroke-opacity:0.1; fill:none\" points=\"256.209,346.875 2352.76,346.875 \"/>\n<polyline clip-path=\"url(#clip242)\" style=\"stroke:#000000; stroke-linecap:round; stroke-linejoin:round; stroke-width:2; stroke-opacity:0.1; fill:none\" points=\"256.209,133.193 2352.76,133.193 \"/>\n<polyline clip-path=\"url(#clip240)\" style=\"stroke:#000000; stroke-linecap:round; stroke-linejoin:round; stroke-width:4; stroke-opacity:1; fill:none\" points=\"256.209,1423.18 256.209,123.472 \"/>\n<polyline clip-path=\"url(#clip240)\" style=\"stroke:#000000; stroke-linecap:round; stroke-linejoin:round; stroke-width:4; stroke-opacity:1; fill:none\" points=\"256.209,1415.29 275.106,1415.29 \"/>\n<polyline clip-path=\"url(#clip240)\" style=\"stroke:#000000; stroke-linecap:round; stroke-linejoin:round; stroke-width:4; stroke-opacity:1; fill:none\" points=\"256.209,1201.6 275.106,1201.6 \"/>\n<polyline clip-path=\"url(#clip240)\" style=\"stroke:#000000; stroke-linecap:round; stroke-linejoin:round; stroke-width:4; stroke-opacity:1; fill:none\" points=\"256.209,987.922 275.106,987.922 \"/>\n<polyline clip-path=\"url(#clip240)\" style=\"stroke:#000000; stroke-linecap:round; stroke-linejoin:round; stroke-width:4; stroke-opacity:1; fill:none\" points=\"256.209,774.24 275.106,774.24 \"/>\n<polyline clip-path=\"url(#clip240)\" style=\"stroke:#000000; stroke-linecap:round; stroke-linejoin:round; stroke-width:4; stroke-opacity:1; fill:none\" points=\"256.209,560.557 275.106,560.557 \"/>\n<polyline clip-path=\"url(#clip240)\" style=\"stroke:#000000; stroke-linecap:round; stroke-linejoin:round; stroke-width:4; stroke-opacity:1; fill:none\" points=\"256.209,346.875 275.106,346.875 \"/>\n<polyline clip-path=\"url(#clip240)\" style=\"stroke:#000000; stroke-linecap:round; stroke-linejoin:round; stroke-width:4; stroke-opacity:1; fill:none\" points=\"256.209,133.193 275.106,133.193 \"/>\n<path clip-path=\"url(#clip240)\" d=\"M114.26 1415.74 L143.936 1415.74 L143.936 1419.67 L114.26 1419.67 L114.26 1415.74 Z\" fill=\"#000000\" fill-rule=\"nonzero\" fill-opacity=\"1\" /><path clip-path=\"url(#clip240)\" d=\"M164.028 1401.09 Q160.417 1401.09 158.589 1404.65 Q156.783 1408.19 156.783 1415.32 Q156.783 1422.43 158.589 1425.99 Q160.417 1429.53 164.028 1429.53 Q167.663 1429.53 169.468 1425.99 Q171.297 1422.43 171.297 1415.32 Q171.297 1408.19 169.468 1404.65 Q167.663 1401.09 164.028 1401.09 M164.028 1397.38 Q169.839 1397.38 172.894 1401.99 Q175.973 1406.57 175.973 1415.32 Q175.973 1424.05 172.894 1428.65 Q169.839 1433.24 164.028 1433.24 Q158.218 1433.24 155.14 1428.65 Q152.084 1424.05 152.084 1415.32 Q152.084 1406.57 155.14 1401.99 Q158.218 1397.38 164.028 1397.38 Z\" fill=\"#000000\" fill-rule=\"nonzero\" fill-opacity=\"1\" /><path clip-path=\"url(#clip240)\" d=\"M184.19 1426.69 L189.075 1426.69 L189.075 1432.57 L184.19 1432.57 L184.19 1426.69 Z\" fill=\"#000000\" fill-rule=\"nonzero\" fill-opacity=\"1\" /><path clip-path=\"url(#clip240)\" d=\"M199.306 1398.01 L217.662 1398.01 L217.662 1401.94 L203.588 1401.94 L203.588 1410.41 Q204.607 1410.07 205.625 1409.9 Q206.644 1409.72 207.662 1409.72 Q213.449 1409.72 216.829 1412.89 Q220.209 1416.06 220.209 1421.48 Q220.209 1427.06 216.736 1430.16 Q213.264 1433.24 206.945 1433.24 Q204.769 1433.24 202.5 1432.87 Q200.255 1432.5 197.848 1431.76 L197.848 1427.06 Q199.931 1428.19 202.153 1428.75 Q204.375 1429.3 206.852 1429.3 Q210.857 1429.3 213.195 1427.2 Q215.533 1425.09 215.533 1421.48 Q215.533 1417.87 213.195 1415.76 Q210.857 1413.65 206.852 1413.65 Q204.977 1413.65 203.102 1414.07 Q201.25 1414.49 199.306 1415.37 L199.306 1398.01 Z\" fill=\"#000000\" fill-rule=\"nonzero\" fill-opacity=\"1\" /><path clip-path=\"url(#clip240)\" d=\"M163.033 1187.4 Q159.422 1187.4 157.593 1190.97 Q155.788 1194.51 155.788 1201.64 Q155.788 1208.75 157.593 1212.31 Q159.422 1215.85 163.033 1215.85 Q166.667 1215.85 168.473 1212.31 Q170.302 1208.75 170.302 1201.64 Q170.302 1194.51 168.473 1190.97 Q166.667 1187.4 163.033 1187.4 M163.033 1183.7 Q168.843 1183.7 171.899 1188.31 Q174.977 1192.89 174.977 1201.64 Q174.977 1210.37 171.899 1214.97 Q168.843 1219.56 163.033 1219.56 Q157.223 1219.56 154.144 1214.97 Q151.089 1210.37 151.089 1201.64 Q151.089 1192.89 154.144 1188.31 Q157.223 1183.7 163.033 1183.7 Z\" fill=\"#000000\" fill-rule=\"nonzero\" fill-opacity=\"1\" /><path clip-path=\"url(#clip240)\" d=\"M183.195 1213 L188.079 1213 L188.079 1218.88 L183.195 1218.88 L183.195 1213 Z\" fill=\"#000000\" fill-rule=\"nonzero\" fill-opacity=\"1\" /><path clip-path=\"url(#clip240)\" d=\"M208.264 1187.4 Q204.653 1187.4 202.824 1190.97 Q201.019 1194.51 201.019 1201.64 Q201.019 1208.75 202.824 1212.31 Q204.653 1215.85 208.264 1215.85 Q211.899 1215.85 213.704 1212.31 Q215.533 1208.75 215.533 1201.64 Q215.533 1194.51 213.704 1190.97 Q211.899 1187.4 208.264 1187.4 M208.264 1183.7 Q214.074 1183.7 217.13 1188.31 Q220.209 1192.89 220.209 1201.64 Q220.209 1210.37 217.13 1214.97 Q214.074 1219.56 208.264 1219.56 Q202.454 1219.56 199.375 1214.97 Q196.32 1210.37 196.32 1201.64 Q196.32 1192.89 199.375 1188.31 Q202.454 1183.7 208.264 1183.7 Z\" fill=\"#000000\" fill-rule=\"nonzero\" fill-opacity=\"1\" /><path clip-path=\"url(#clip240)\" d=\"M164.028 973.721 Q160.417 973.721 158.589 977.286 Q156.783 980.827 156.783 987.957 Q156.783 995.063 158.589 998.628 Q160.417 1002.17 164.028 1002.17 Q167.663 1002.17 169.468 998.628 Q171.297 995.063 171.297 987.957 Q171.297 980.827 169.468 977.286 Q167.663 973.721 164.028 973.721 M164.028 970.017 Q169.839 970.017 172.894 974.623 Q175.973 979.207 175.973 987.957 Q175.973 996.684 172.894 1001.29 Q169.839 1005.87 164.028 1005.87 Q158.218 1005.87 155.14 1001.29 Q152.084 996.684 152.084 987.957 Q152.084 979.207 155.14 974.623 Q158.218 970.017 164.028 970.017 Z\" fill=\"#000000\" fill-rule=\"nonzero\" fill-opacity=\"1\" /><path clip-path=\"url(#clip240)\" d=\"M184.19 999.322 L189.075 999.322 L189.075 1005.2 L184.19 1005.2 L184.19 999.322 Z\" fill=\"#000000\" fill-rule=\"nonzero\" fill-opacity=\"1\" /><path clip-path=\"url(#clip240)\" d=\"M199.306 970.642 L217.662 970.642 L217.662 974.577 L203.588 974.577 L203.588 983.049 Q204.607 982.702 205.625 982.54 Q206.644 982.355 207.662 982.355 Q213.449 982.355 216.829 985.526 Q220.209 988.697 220.209 994.114 Q220.209 999.693 216.736 1002.79 Q213.264 1005.87 206.945 1005.87 Q204.769 1005.87 202.5 1005.5 Q200.255 1005.13 197.848 1004.39 L197.848 999.693 Q199.931 1000.83 202.153 1001.38 Q204.375 1001.94 206.852 1001.94 Q210.857 1001.94 213.195 999.832 Q215.533 997.725 215.533 994.114 Q215.533 990.503 213.195 988.397 Q210.857 986.29 206.852 986.29 Q204.977 986.29 203.102 986.707 Q201.25 987.123 199.306 988.003 L199.306 970.642 Z\" fill=\"#000000\" fill-rule=\"nonzero\" fill-opacity=\"1\" /><path clip-path=\"url(#clip240)\" d=\"M153.843 787.584 L161.482 787.584 L161.482 761.219 L153.172 762.886 L153.172 758.626 L161.436 756.96 L166.112 756.96 L166.112 787.584 L173.751 787.584 L173.751 791.52 L153.843 791.52 L153.843 787.584 Z\" fill=\"#000000\" fill-rule=\"nonzero\" fill-opacity=\"1\" /><path clip-path=\"url(#clip240)\" d=\"M183.195 785.64 L188.079 785.64 L188.079 791.52 L183.195 791.52 L183.195 785.64 Z\" fill=\"#000000\" fill-rule=\"nonzero\" fill-opacity=\"1\" /><path clip-path=\"url(#clip240)\" d=\"M208.264 760.038 Q204.653 760.038 202.824 763.603 Q201.019 767.145 201.019 774.274 Q201.019 781.381 202.824 784.946 Q204.653 788.487 208.264 788.487 Q211.899 788.487 213.704 784.946 Q215.533 781.381 215.533 774.274 Q215.533 767.145 213.704 763.603 Q211.899 760.038 208.264 760.038 M208.264 756.335 Q214.074 756.335 217.13 760.941 Q220.209 765.524 220.209 774.274 Q220.209 783.001 217.13 787.608 Q214.074 792.191 208.264 792.191 Q202.454 792.191 199.375 787.608 Q196.32 783.001 196.32 774.274 Q196.32 765.524 199.375 760.941 Q202.454 756.335 208.264 756.335 Z\" fill=\"#000000\" fill-rule=\"nonzero\" fill-opacity=\"1\" /><path clip-path=\"url(#clip240)\" d=\"M154.839 573.902 L162.477 573.902 L162.477 547.537 L154.167 549.203 L154.167 544.944 L162.431 543.277 L167.107 543.277 L167.107 573.902 L174.746 573.902 L174.746 577.837 L154.839 577.837 L154.839 573.902 Z\" fill=\"#000000\" fill-rule=\"nonzero\" fill-opacity=\"1\" /><path clip-path=\"url(#clip240)\" d=\"M184.19 571.958 L189.075 571.958 L189.075 577.837 L184.19 577.837 L184.19 571.958 Z\" fill=\"#000000\" fill-rule=\"nonzero\" fill-opacity=\"1\" /><path clip-path=\"url(#clip240)\" d=\"M199.306 543.277 L217.662 543.277 L217.662 547.212 L203.588 547.212 L203.588 555.685 Q204.607 555.337 205.625 555.175 Q206.644 554.99 207.662 554.99 Q213.449 554.99 216.829 558.161 Q220.209 561.333 220.209 566.749 Q220.209 572.328 216.736 575.43 Q213.264 578.509 206.945 578.509 Q204.769 578.509 202.5 578.138 Q200.255 577.768 197.848 577.027 L197.848 572.328 Q199.931 573.462 202.153 574.018 Q204.375 574.573 206.852 574.573 Q210.857 574.573 213.195 572.467 Q215.533 570.36 215.533 566.749 Q215.533 563.138 213.195 561.032 Q210.857 558.925 206.852 558.925 Q204.977 558.925 203.102 559.342 Q201.25 559.759 199.306 560.638 L199.306 543.277 Z\" fill=\"#000000\" fill-rule=\"nonzero\" fill-opacity=\"1\" /><path clip-path=\"url(#clip240)\" d=\"M157.061 360.22 L173.38 360.22 L173.38 364.155 L151.436 364.155 L151.436 360.22 Q154.098 357.465 158.681 352.836 Q163.288 348.183 164.468 346.84 Q166.714 344.317 167.593 342.581 Q168.496 340.822 168.496 339.132 Q168.496 336.377 166.552 334.641 Q164.63 332.905 161.528 332.905 Q159.329 332.905 156.876 333.669 Q154.445 334.433 151.667 335.984 L151.667 331.262 Q154.491 330.127 156.945 329.549 Q159.399 328.97 161.436 328.97 Q166.806 328.97 170.001 331.655 Q173.195 334.34 173.195 338.831 Q173.195 340.961 172.385 342.882 Q171.598 344.78 169.491 347.373 Q168.913 348.044 165.811 351.261 Q162.709 354.456 157.061 360.22 Z\" fill=\"#000000\" fill-rule=\"nonzero\" fill-opacity=\"1\" /><path clip-path=\"url(#clip240)\" d=\"M183.195 358.275 L188.079 358.275 L188.079 364.155 L183.195 364.155 L183.195 358.275 Z\" fill=\"#000000\" fill-rule=\"nonzero\" fill-opacity=\"1\" /><path clip-path=\"url(#clip240)\" d=\"M208.264 332.674 Q204.653 332.674 202.824 336.238 Q201.019 339.78 201.019 346.91 Q201.019 354.016 202.824 357.581 Q204.653 361.123 208.264 361.123 Q211.899 361.123 213.704 357.581 Q215.533 354.016 215.533 346.91 Q215.533 339.78 213.704 336.238 Q211.899 332.674 208.264 332.674 M208.264 328.97 Q214.074 328.97 217.13 333.576 Q220.209 338.16 220.209 346.91 Q220.209 355.636 217.13 360.243 Q214.074 364.826 208.264 364.826 Q202.454 364.826 199.375 360.243 Q196.32 355.636 196.32 346.91 Q196.32 338.16 199.375 333.576 Q202.454 328.97 208.264 328.97 Z\" fill=\"#000000\" fill-rule=\"nonzero\" fill-opacity=\"1\" /><path clip-path=\"url(#clip240)\" d=\"M158.056 146.537 L174.376 146.537 L174.376 150.473 L152.431 150.473 L152.431 146.537 Q155.093 143.783 159.677 139.153 Q164.283 134.5 165.464 133.158 Q167.709 130.635 168.589 128.899 Q169.491 127.139 169.491 125.45 Q169.491 122.695 167.547 120.959 Q165.626 119.223 162.524 119.223 Q160.325 119.223 157.871 119.987 Q155.44 120.75 152.663 122.301 L152.663 117.579 Q155.487 116.445 157.94 115.866 Q160.394 115.288 162.431 115.288 Q167.802 115.288 170.996 117.973 Q174.19 120.658 174.19 125.149 Q174.19 127.278 173.38 129.199 Q172.593 131.098 170.487 133.69 Q169.908 134.362 166.806 137.579 Q163.704 140.774 158.056 146.537 Z\" fill=\"#000000\" fill-rule=\"nonzero\" fill-opacity=\"1\" /><path clip-path=\"url(#clip240)\" d=\"M184.19 144.593 L189.075 144.593 L189.075 150.473 L184.19 150.473 L184.19 144.593 Z\" fill=\"#000000\" fill-rule=\"nonzero\" fill-opacity=\"1\" /><path clip-path=\"url(#clip240)\" d=\"M199.306 115.913 L217.662 115.913 L217.662 119.848 L203.588 119.848 L203.588 128.32 Q204.607 127.973 205.625 127.811 Q206.644 127.625 207.662 127.625 Q213.449 127.625 216.829 130.797 Q220.209 133.968 220.209 139.385 Q220.209 144.963 216.736 148.065 Q213.264 151.144 206.945 151.144 Q204.769 151.144 202.5 150.773 Q200.255 150.403 197.848 149.662 L197.848 144.963 Q199.931 146.098 202.153 146.653 Q204.375 147.209 206.852 147.209 Q210.857 147.209 213.195 145.102 Q215.533 142.996 215.533 139.385 Q215.533 135.774 213.195 133.667 Q210.857 131.561 206.852 131.561 Q204.977 131.561 203.102 131.977 Q201.25 132.394 199.306 133.274 L199.306 115.913 Z\" fill=\"#000000\" fill-rule=\"nonzero\" fill-opacity=\"1\" /><path clip-path=\"url(#clip240)\" d=\"M63.0175 1166.39 L57.161 1166.39 Q58.3069 1163.97 58.9116 1161.49 Q59.5163 1159.01 59.5163 1156.62 Q59.5163 1150.26 55.2513 1146.91 Q50.9545 1143.54 42.2334 1143.06 Q44.9707 1144.91 46.4348 1147.74 Q47.8989 1150.57 47.8989 1154.01 Q47.8989 1161.14 43.6021 1165.31 Q39.2734 1169.45 31.7937 1169.45 Q24.4731 1169.45 20.049 1165.12 Q15.6248 1160.79 15.6248 1153.6 Q15.6248 1145.35 21.9587 1141.03 Q28.2607 1136.66 40.2919 1136.66 Q51.5274 1136.66 58.2432 1142.01 Q64.9272 1147.33 64.9272 1156.33 Q64.9272 1158.75 64.4498 1161.24 Q63.9723 1163.72 63.0175 1166.39 M42.87 1153.6 Q42.87 1149.27 39.91 1146.75 Q36.9499 1144.21 31.7937 1144.21 Q26.6693 1144.21 23.7092 1146.75 Q20.7174 1149.27 20.7174 1153.6 Q20.7174 1157.93 23.7092 1160.47 Q26.6693 1162.99 31.7937 1162.99 Q36.9499 1162.99 39.91 1160.47 Q42.87 1157.93 42.87 1153.6 Z\" fill=\"#000000\" fill-rule=\"nonzero\" fill-opacity=\"1\" /><path clip-path=\"url(#clip240)\" d=\"M16.4842 1125.05 L16.4842 1099.81 L21.895 1099.81 L21.895 1119.16 L33.5443 1119.16 Q33.0668 1117.76 32.844 1116.36 Q32.5894 1114.96 32.5894 1113.56 Q32.5894 1105.6 36.9499 1100.95 Q41.3104 1096.31 48.7583 1096.31 Q56.429 1096.31 60.694 1101.08 Q64.9272 1105.85 64.9272 1114.54 Q64.9272 1117.54 64.4179 1120.65 Q63.9087 1123.74 62.8902 1127.05 L56.429 1127.05 Q57.9886 1124.19 58.7524 1121.13 Q59.5163 1118.08 59.5163 1114.67 Q59.5163 1109.16 56.6199 1105.95 Q53.7235 1102.74 48.7583 1102.74 Q43.793 1102.74 40.8966 1105.95 Q38.0002 1109.16 38.0002 1114.67 Q38.0002 1117.25 38.5732 1119.83 Q39.1461 1122.37 40.3556 1125.05 L16.4842 1125.05 Z\" fill=\"#000000\" fill-rule=\"nonzero\" fill-opacity=\"1\" /><path clip-path=\"url(#clip240)\" d=\"M43.0928 1043.22 Q43.0928 1045.99 45.4481 1047.58 Q47.8034 1049.14 52.0048 1049.14 Q56.1425 1049.14 58.5296 1047.58 Q60.885 1045.99 60.885 1043.22 Q60.885 1040.51 58.5296 1038.95 Q56.1425 1037.36 52.0048 1037.36 Q47.8353 1037.36 45.48 1038.95 Q43.0928 1040.51 43.0928 1043.22 M39.0506 1043.22 Q39.0506 1038.19 42.5517 1035.23 Q46.0529 1032.27 52.0048 1032.27 Q57.9567 1032.27 61.4579 1035.26 Q64.9272 1038.22 64.9272 1043.22 Q64.9272 1048.31 61.4579 1051.27 Q57.9567 1054.23 52.0048 1054.23 Q46.021 1054.23 42.5517 1051.27 Q39.0506 1048.28 39.0506 1043.22 M19.667 1076.06 Q19.667 1078.8 22.0542 1080.39 Q24.4095 1081.95 28.5472 1081.95 Q32.7485 1081.95 35.1038 1080.39 Q37.4592 1078.83 37.4592 1076.06 Q37.4592 1073.29 35.1038 1071.73 Q32.7485 1070.14 28.5472 1070.14 Q24.4413 1070.14 22.0542 1071.73 Q19.667 1073.33 19.667 1076.06 M15.6248 1047.32 L15.6248 1042.23 L64.9272 1071.96 L64.9272 1077.05 L15.6248 1047.32 M15.6248 1076.06 Q15.6248 1071.03 19.1259 1068.04 Q22.5952 1065.05 28.5472 1065.05 Q34.5628 1065.05 38.0321 1068.04 Q41.5014 1071 41.5014 1076.06 Q41.5014 1081.12 38.0321 1084.08 Q34.5309 1087.01 28.5472 1087.01 Q22.6271 1087.01 19.1259 1084.05 Q15.6248 1081.09 15.6248 1076.06 Z\" fill=\"#000000\" fill-rule=\"nonzero\" fill-opacity=\"1\" /><path clip-path=\"url(#clip240)\" d=\"M20.1444 965.968 L26.9239 965.968 Q23.9002 969.215 22.4043 972.907 Q20.9083 976.567 20.9083 980.705 Q20.9083 988.853 25.9054 993.182 Q30.8707 997.51 40.2919 997.51 Q49.6813 997.51 54.6784 993.182 Q59.6436 988.853 59.6436 980.705 Q59.6436 976.567 58.1477 972.907 Q56.6518 969.215 53.6281 965.968 L60.3439 965.968 Q62.6355 969.342 63.7814 973.13 Q64.9272 976.885 64.9272 981.087 Q64.9272 991.877 58.3387 998.083 Q51.7183 1004.29 40.2919 1004.29 Q28.8336 1004.29 22.2451 998.083 Q15.6248 991.877 15.6248 981.087 Q15.6248 976.822 16.7706 973.066 Q17.8846 969.278 20.1444 965.968 Z\" fill=\"#000000\" fill-rule=\"nonzero\" fill-opacity=\"1\" /><path clip-path=\"url(#clip240)\" d=\"M32.4621 942.479 Q32.4621 947.189 36.1542 949.927 Q39.8145 952.664 46.212 952.664 Q52.6095 952.664 56.3017 949.958 Q59.9619 947.221 59.9619 942.479 Q59.9619 937.8 56.2698 935.063 Q52.5777 932.325 46.212 932.325 Q39.8781 932.325 36.186 935.063 Q32.4621 937.8 32.4621 942.479 M27.4968 942.479 Q27.4968 934.84 32.4621 930.479 Q37.4273 926.119 46.212 926.119 Q54.9649 926.119 59.9619 930.479 Q64.9272 934.84 64.9272 942.479 Q64.9272 950.149 59.9619 954.51 Q54.9649 958.839 46.212 958.839 Q37.4273 958.839 32.4621 954.51 Q27.4968 950.149 27.4968 942.479 Z\" fill=\"#000000\" fill-rule=\"nonzero\" fill-opacity=\"1\" /><path clip-path=\"url(#clip240)\" d=\"M42.4881 886.779 L64.0042 886.779 L64.0042 892.635 L42.679 892.635 Q37.6183 892.635 35.1038 894.609 Q32.5894 896.582 32.5894 900.529 Q32.5894 905.271 35.6131 908.008 Q38.6368 910.746 43.8567 910.746 L64.0042 910.746 L64.0042 916.634 L28.3562 916.634 L28.3562 910.746 L33.8944 910.746 Q30.6797 908.645 29.0883 905.812 Q27.4968 902.948 27.4968 899.224 Q27.4968 893.081 31.3163 889.93 Q35.1038 886.779 42.4881 886.779 Z\" fill=\"#000000\" fill-rule=\"nonzero\" fill-opacity=\"1\" /><path clip-path=\"url(#clip240)\" d=\"M14.479 857.051 L19.3487 857.051 L19.3487 862.653 Q19.3487 865.804 20.6219 867.045 Q21.895 868.255 25.2052 868.255 L28.3562 868.255 L28.3562 858.611 L32.9077 858.611 L32.9077 868.255 L64.0042 868.255 L64.0042 874.143 L32.9077 874.143 L32.9077 879.745 L28.3562 879.745 L28.3562 874.143 L25.8736 874.143 Q19.9216 874.143 17.2162 871.374 Q14.479 868.605 14.479 862.589 L14.479 857.051 Z\" fill=\"#000000\" fill-rule=\"nonzero\" fill-opacity=\"1\" /><path clip-path=\"url(#clip240)\" d=\"M28.3562 852.149 L28.3562 846.293 L64.0042 846.293 L64.0042 852.149 L28.3562 852.149 M14.479 852.149 L14.479 846.293 L21.895 846.293 L21.895 852.149 L14.479 852.149 Z\" fill=\"#000000\" fill-rule=\"nonzero\" fill-opacity=\"1\" /><path clip-path=\"url(#clip240)\" d=\"M33.7671 810.581 L14.479 810.581 L14.479 804.725 L64.0042 804.725 L64.0042 810.581 L58.657 810.581 Q61.8398 812.427 63.3994 815.26 Q64.9272 818.061 64.9272 822.008 Q64.9272 828.469 59.771 832.543 Q54.6147 836.585 46.212 836.585 Q37.8093 836.585 32.6531 832.543 Q27.4968 828.469 27.4968 822.008 Q27.4968 818.061 29.0564 815.26 Q30.5842 812.427 33.7671 810.581 M46.212 830.538 Q52.6732 830.538 56.3653 827.896 Q60.0256 825.222 60.0256 820.575 Q60.0256 815.928 56.3653 813.255 Q52.6732 810.581 46.212 810.581 Q39.7508 810.581 36.0905 813.255 Q32.3984 815.928 32.3984 820.575 Q32.3984 825.222 36.0905 827.896 Q39.7508 830.538 46.212 830.538 Z\" fill=\"#000000\" fill-rule=\"nonzero\" fill-opacity=\"1\" /><path clip-path=\"url(#clip240)\" d=\"M44.7161 762.17 L47.5806 762.17 L47.5806 789.097 Q53.6281 788.715 56.8109 785.469 Q59.9619 782.19 59.9619 776.366 Q59.9619 772.992 59.1344 769.841 Q58.3069 766.658 56.6518 763.539 L62.1899 763.539 Q63.5267 766.69 64.227 770 Q64.9272 773.31 64.9272 776.716 Q64.9272 785.246 59.9619 790.243 Q54.9967 795.208 46.5303 795.208 Q37.7774 795.208 32.6531 790.497 Q27.4968 785.755 27.4968 777.734 Q27.4968 770.541 32.1438 766.371 Q36.7589 762.17 44.7161 762.17 M42.9973 768.027 Q38.1912 768.09 35.3266 770.732 Q32.4621 773.342 32.4621 777.671 Q32.4621 782.572 35.2312 785.532 Q38.0002 788.46 43.0292 788.906 L42.9973 768.027 Z\" fill=\"#000000\" fill-rule=\"nonzero\" fill-opacity=\"1\" /><path clip-path=\"url(#clip240)\" d=\"M42.4881 722.926 L64.0042 722.926 L64.0042 728.782 L42.679 728.782 Q37.6183 728.782 35.1038 730.755 Q32.5894 732.729 32.5894 736.675 Q32.5894 741.418 35.6131 744.155 Q38.6368 746.892 43.8567 746.892 L64.0042 746.892 L64.0042 752.781 L28.3562 752.781 L28.3562 746.892 L33.8944 746.892 Q30.6797 744.792 29.0883 741.959 Q27.4968 739.094 27.4968 735.37 Q27.4968 729.228 31.3163 726.077 Q35.1038 722.926 42.4881 722.926 Z\" fill=\"#000000\" fill-rule=\"nonzero\" fill-opacity=\"1\" /><path clip-path=\"url(#clip240)\" d=\"M29.7248 685.591 L35.1993 685.591 Q33.8307 688.073 33.1623 690.588 Q32.4621 693.07 32.4621 695.617 Q32.4621 701.314 36.0905 704.465 Q39.6872 707.616 46.212 707.616 Q52.7369 707.616 56.3653 704.465 Q59.9619 701.314 59.9619 695.617 Q59.9619 693.07 59.2935 690.588 Q58.5933 688.073 57.2247 685.591 L62.6355 685.591 Q63.7814 688.041 64.3543 690.683 Q64.9272 693.293 64.9272 696.253 Q64.9272 704.306 59.8664 709.048 Q54.8057 713.791 46.212 713.791 Q37.491 713.791 32.4939 709.016 Q27.4968 704.21 27.4968 695.871 Q27.4968 693.166 28.0697 690.588 Q28.6108 688.01 29.7248 685.591 Z\" fill=\"#000000\" fill-rule=\"nonzero\" fill-opacity=\"1\" /><path clip-path=\"url(#clip240)\" d=\"M44.7161 644.914 L47.5806 644.914 L47.5806 671.841 Q53.6281 671.459 56.8109 668.212 Q59.9619 664.934 59.9619 659.109 Q59.9619 655.735 59.1344 652.584 Q58.3069 649.402 56.6518 646.282 L62.1899 646.282 Q63.5267 649.433 64.227 652.744 Q64.9272 656.054 64.9272 659.459 Q64.9272 667.989 59.9619 672.987 Q54.9967 677.952 46.5303 677.952 Q37.7774 677.952 32.6531 673.241 Q27.4968 668.499 27.4968 660.478 Q27.4968 653.285 32.1438 649.115 Q36.7589 644.914 44.7161 644.914 M42.9973 650.77 Q38.1912 650.834 35.3266 653.476 Q32.4621 656.086 32.4621 660.414 Q32.4621 665.316 35.2312 668.276 Q38.0002 671.204 43.0292 671.65 L42.9973 650.77 Z\" fill=\"#000000\" fill-rule=\"nonzero\" fill-opacity=\"1\" /><path clip-path=\"url(#clip240)\" d=\"M16.4842 614.327 L16.4842 607.897 L64.0042 607.897 L64.0042 614.327 L16.4842 614.327 Z\" fill=\"#000000\" fill-rule=\"nonzero\" fill-opacity=\"1\" /><path clip-path=\"url(#clip240)\" d=\"M42.4881 565.724 L64.0042 565.724 L64.0042 571.581 L42.679 571.581 Q37.6183 571.581 35.1038 573.554 Q32.5894 575.528 32.5894 579.474 Q32.5894 584.217 35.6131 586.954 Q38.6368 589.691 43.8567 589.691 L64.0042 589.691 L64.0042 595.58 L28.3562 595.58 L28.3562 589.691 L33.8944 589.691 Q30.6797 587.591 29.0883 584.758 Q27.4968 581.893 27.4968 578.169 Q27.4968 572.026 31.3163 568.875 Q35.1038 565.724 42.4881 565.724 Z\" fill=\"#000000\" fill-rule=\"nonzero\" fill-opacity=\"1\" /><path clip-path=\"url(#clip240)\" d=\"M18.2347 548.251 L28.3562 548.251 L28.3562 536.187 L32.9077 536.187 L32.9077 548.251 L52.2594 548.251 Q56.6199 548.251 57.8613 547.073 Q59.1026 545.863 59.1026 542.203 L59.1026 536.187 L64.0042 536.187 L64.0042 542.203 Q64.0042 548.983 61.4897 551.561 Q58.9434 554.139 52.2594 554.139 L32.9077 554.139 L32.9077 558.436 L28.3562 558.436 L28.3562 554.139 L18.2347 554.139 L18.2347 548.251 Z\" fill=\"#000000\" fill-rule=\"nonzero\" fill-opacity=\"1\" /><path clip-path=\"url(#clip240)\" d=\"M44.7161 497.993 L47.5806 497.993 L47.5806 524.92 Q53.6281 524.538 56.8109 521.292 Q59.9619 518.013 59.9619 512.189 Q59.9619 508.815 59.1344 505.664 Q58.3069 502.481 56.6518 499.362 L62.1899 499.362 Q63.5267 502.513 64.227 505.823 Q64.9272 509.133 64.9272 512.539 Q64.9272 521.069 59.9619 526.066 Q54.9967 531.031 46.5303 531.031 Q37.7774 531.031 32.6531 526.321 Q27.4968 521.578 27.4968 513.557 Q27.4968 506.364 32.1438 502.195 Q36.7589 497.993 44.7161 497.993 M42.9973 503.85 Q38.1912 503.913 35.3266 506.555 Q32.4621 509.165 32.4621 513.494 Q32.4621 518.395 35.2312 521.355 Q38.0002 524.284 43.0292 524.729 L42.9973 503.85 Z\" fill=\"#000000\" fill-rule=\"nonzero\" fill-opacity=\"1\" /><path clip-path=\"url(#clip240)\" d=\"M33.8307 467.724 Q33.2578 468.711 33.0032 469.889 Q32.7167 471.034 32.7167 472.435 Q32.7167 477.4 35.9632 480.074 Q39.1779 482.716 45.2253 482.716 L64.0042 482.716 L64.0042 488.604 L28.3562 488.604 L28.3562 482.716 L33.8944 482.716 Q30.6479 480.87 29.0883 477.909 Q27.4968 474.949 27.4968 470.716 Q27.4968 470.111 27.5923 469.379 Q27.656 468.647 27.8151 467.756 L33.8307 467.724 Z\" fill=\"#000000\" fill-rule=\"nonzero\" fill-opacity=\"1\" /><path clip-path=\"url(#clip240)\" d=\"M28.3562 465.783 L28.3562 459.576 L58.275 448.436 L28.3562 437.296 L28.3562 431.09 L64.0042 444.458 L64.0042 452.415 L28.3562 465.783 Z\" fill=\"#000000\" fill-rule=\"nonzero\" fill-opacity=\"1\" /><path clip-path=\"url(#clip240)\" d=\"M46.0847 406.805 Q46.0847 413.902 47.7079 416.64 Q49.3312 419.377 53.2461 419.377 Q56.3653 419.377 58.2114 417.34 Q60.0256 415.271 60.0256 411.738 Q60.0256 406.868 56.5881 403.94 Q53.1188 400.98 47.3897 400.98 L46.0847 400.98 L46.0847 406.805 M43.6657 395.123 L64.0042 395.123 L64.0042 400.98 L58.5933 400.98 Q61.8398 402.985 63.3994 405.977 Q64.9272 408.969 64.9272 413.298 Q64.9272 418.772 61.8716 422.019 Q58.7843 425.233 53.6281 425.233 Q47.6125 425.233 44.5569 421.223 Q41.5014 417.181 41.5014 409.192 L41.5014 400.98 L40.9285 400.98 Q36.8862 400.98 34.6901 403.653 Q32.4621 406.295 32.4621 411.101 Q32.4621 414.157 33.1941 417.053 Q33.9262 419.95 35.3903 422.623 L29.9795 422.623 Q28.7381 419.409 28.1334 416.385 Q27.4968 413.361 27.4968 410.497 Q27.4968 402.762 31.5072 398.943 Q35.5176 395.123 43.6657 395.123 Z\" fill=\"#000000\" fill-rule=\"nonzero\" fill-opacity=\"1\" /><path clip-path=\"url(#clip240)\" d=\"M14.479 383.06 L14.479 377.204 L64.0042 377.204 L64.0042 383.06 L14.479 383.06 Z\" fill=\"#000000\" fill-rule=\"nonzero\" fill-opacity=\"1\" /><path clip-path=\"url(#clip240)\" d=\"M752.182 16.7545 L752.182 25.383 Q748.05 21.5346 743.351 19.6307 Q738.692 17.7268 733.426 17.7268 Q723.056 17.7268 717.547 24.0867 Q712.038 30.4061 712.038 42.3968 Q712.038 54.3469 717.547 60.7069 Q723.056 67.0263 733.426 67.0263 Q738.692 67.0263 743.351 65.1223 Q748.05 63.2184 752.182 59.3701 L752.182 67.9175 Q747.888 70.8341 743.067 72.2924 Q738.287 73.7508 732.94 73.7508 Q719.208 73.7508 711.308 65.3654 Q703.409 56.9395 703.409 42.3968 Q703.409 27.8135 711.308 19.4281 Q719.208 11.0023 732.94 11.0023 Q738.368 11.0023 743.148 12.4606 Q747.969 13.8784 752.182 16.7545 Z\" fill=\"#000000\" fill-rule=\"nonzero\" fill-opacity=\"1\" /><path clip-path=\"url(#clip240)\" d=\"M782.078 32.4315 Q776.082 32.4315 772.599 37.1306 Q769.115 41.7891 769.115 49.9314 Q769.115 58.0738 772.558 62.7728 Q776.042 67.4314 782.078 67.4314 Q788.033 67.4314 791.516 62.7323 Q795 58.0333 795 49.9314 Q795 41.8701 791.516 37.1711 Q788.033 32.4315 782.078 32.4315 M782.078 26.1121 Q791.8 26.1121 797.35 32.4315 Q802.899 38.7509 802.899 49.9314 Q802.899 61.0714 797.35 67.4314 Q791.8 73.7508 782.078 73.7508 Q772.315 73.7508 766.765 67.4314 Q761.256 61.0714 761.256 49.9314 Q761.256 38.7509 766.765 32.4315 Q772.315 26.1121 782.078 26.1121 Z\" fill=\"#000000\" fill-rule=\"nonzero\" fill-opacity=\"1\" /><path clip-path=\"url(#clip240)\" d=\"M852.969 45.1919 L852.969 72.576 L845.515 72.576 L845.515 45.4349 Q845.515 38.994 843.003 35.7938 Q840.492 32.5936 835.469 32.5936 Q829.433 32.5936 825.949 36.4419 Q822.465 40.2903 822.465 46.9338 L822.465 72.576 L814.971 72.576 L814.971 27.2059 L822.465 27.2059 L822.465 34.2544 Q825.139 30.163 828.744 28.1376 Q832.39 26.1121 837.129 26.1121 Q844.948 26.1121 848.958 30.9732 Q852.969 35.7938 852.969 45.1919 Z\" fill=\"#000000\" fill-rule=\"nonzero\" fill-opacity=\"1\" /><path clip-path=\"url(#clip240)\" d=\"M890.804 9.54393 L890.804 15.7418 L883.674 15.7418 Q879.664 15.7418 878.084 17.3622 Q876.545 18.9825 876.545 23.1955 L876.545 27.2059 L888.819 27.2059 L888.819 32.9987 L876.545 32.9987 L876.545 72.576 L869.051 72.576 L869.051 32.9987 L861.921 32.9987 L861.921 27.2059 L869.051 27.2059 L869.051 24.0462 Q869.051 16.471 872.575 13.0277 Q876.099 9.54393 883.755 9.54393 L890.804 9.54393 Z\" fill=\"#000000\" fill-rule=\"nonzero\" fill-opacity=\"1\" /><path clip-path=\"url(#clip240)\" d=\"M897.042 27.2059 L904.496 27.2059 L904.496 72.576 L897.042 72.576 L897.042 27.2059 M897.042 9.54393 L904.496 9.54393 L904.496 18.9825 L897.042 18.9825 L897.042 9.54393 Z\" fill=\"#000000\" fill-rule=\"nonzero\" fill-opacity=\"1\" /><path clip-path=\"url(#clip240)\" d=\"M949.947 34.0924 L949.947 9.54393 L957.401 9.54393 L957.401 72.576 L949.947 72.576 L949.947 65.7705 Q947.598 69.8214 943.992 71.8063 Q940.428 73.7508 935.404 73.7508 Q927.181 73.7508 921.996 67.1883 Q916.851 60.6258 916.851 49.9314 Q916.851 39.2371 921.996 32.6746 Q927.181 26.1121 935.404 26.1121 Q940.428 26.1121 943.992 28.0971 Q947.598 30.0415 949.947 34.0924 M924.548 49.9314 Q924.548 58.1548 927.91 62.8538 Q931.313 67.5124 937.227 67.5124 Q943.142 67.5124 946.544 62.8538 Q949.947 58.1548 949.947 49.9314 Q949.947 41.7081 946.544 37.0496 Q943.142 32.3505 937.227 32.3505 Q931.313 32.3505 927.91 37.0496 Q924.548 41.7081 924.548 49.9314 Z\" fill=\"#000000\" fill-rule=\"nonzero\" fill-opacity=\"1\" /><path clip-path=\"url(#clip240)\" d=\"M1011.56 48.0275 L1011.56 51.6733 L977.291 51.6733 Q977.777 59.3701 981.909 63.421 Q986.081 67.4314 993.494 67.4314 Q997.788 67.4314 1001.8 66.3781 Q1005.85 65.3249 1009.82 63.2184 L1009.82 70.267 Q1005.81 71.9684 1001.6 72.8596 Q997.383 73.7508 993.049 73.7508 Q982.192 73.7508 975.832 67.4314 Q969.513 61.1119 969.513 50.3365 Q969.513 39.1965 975.508 32.6746 Q981.544 26.1121 991.752 26.1121 Q1000.91 26.1121 1006.21 32.0264 Q1011.56 37.9003 1011.56 48.0275 M1004.11 45.84 Q1004.03 39.7232 1000.66 36.0774 Q997.343 32.4315 991.833 32.4315 Q985.595 32.4315 981.828 35.9558 Q978.101 39.4801 977.534 45.8805 L1004.11 45.84 Z\" fill=\"#000000\" fill-rule=\"nonzero\" fill-opacity=\"1\" /><path clip-path=\"url(#clip240)\" d=\"M1061.51 45.1919 L1061.51 72.576 L1054.06 72.576 L1054.06 45.4349 Q1054.06 38.994 1051.54 35.7938 Q1049.03 32.5936 1044.01 32.5936 Q1037.97 32.5936 1034.49 36.4419 Q1031.01 40.2903 1031.01 46.9338 L1031.01 72.576 L1023.51 72.576 L1023.51 27.2059 L1031.01 27.2059 L1031.01 34.2544 Q1033.68 30.163 1037.28 28.1376 Q1040.93 26.1121 1045.67 26.1121 Q1053.49 26.1121 1057.5 30.9732 Q1061.51 35.7938 1061.51 45.1919 Z\" fill=\"#000000\" fill-rule=\"nonzero\" fill-opacity=\"1\" /><path clip-path=\"url(#clip240)\" d=\"M1109.03 28.9478 L1109.03 35.9153 Q1105.87 34.1734 1102.67 33.3227 Q1099.51 32.4315 1096.27 32.4315 Q1089.01 32.4315 1085 37.0496 Q1080.99 41.6271 1080.99 49.9314 Q1080.99 58.2358 1085 62.8538 Q1089.01 67.4314 1096.27 67.4314 Q1099.51 67.4314 1102.67 66.5807 Q1105.87 65.6895 1109.03 63.9476 L1109.03 70.8341 Q1105.91 72.2924 1102.54 73.0216 Q1099.22 73.7508 1095.46 73.7508 Q1085.21 73.7508 1079.17 67.3098 Q1073.14 60.8689 1073.14 49.9314 Q1073.14 38.832 1079.21 32.472 Q1085.33 26.1121 1095.94 26.1121 Q1099.39 26.1121 1102.67 26.8413 Q1105.95 27.5299 1109.03 28.9478 Z\" fill=\"#000000\" fill-rule=\"nonzero\" fill-opacity=\"1\" /><path clip-path=\"url(#clip240)\" d=\"M1160.8 48.0275 L1160.8 51.6733 L1126.53 51.6733 Q1127.01 59.3701 1131.14 63.421 Q1135.32 67.4314 1142.73 67.4314 Q1147.02 67.4314 1151.03 66.3781 Q1155.08 65.3249 1159.05 63.2184 L1159.05 70.267 Q1155.04 71.9684 1150.83 72.8596 Q1146.62 73.7508 1142.28 73.7508 Q1131.43 73.7508 1125.07 67.4314 Q1118.75 61.1119 1118.75 50.3365 Q1118.75 39.1965 1124.74 32.6746 Q1130.78 26.1121 1140.99 26.1121 Q1150.14 26.1121 1155.45 32.0264 Q1160.8 37.9003 1160.8 48.0275 M1153.34 45.84 Q1153.26 39.7232 1149.9 36.0774 Q1146.58 32.4315 1141.07 32.4315 Q1134.83 32.4315 1131.06 35.9558 Q1127.34 39.4801 1126.77 45.8805 L1153.34 45.84 Z\" fill=\"#000000\" fill-rule=\"nonzero\" fill-opacity=\"1\" /><path clip-path=\"url(#clip240)\" d=\"M1199.73 12.096 L1207.91 12.096 L1207.91 72.576 L1199.73 72.576 L1199.73 12.096 Z\" fill=\"#000000\" fill-rule=\"nonzero\" fill-opacity=\"1\" /><path clip-path=\"url(#clip240)\" d=\"M1261.58 45.1919 L1261.58 72.576 L1254.13 72.576 L1254.13 45.4349 Q1254.13 38.994 1251.62 35.7938 Q1249.11 32.5936 1244.08 32.5936 Q1238.05 32.5936 1234.56 36.4419 Q1231.08 40.2903 1231.08 46.9338 L1231.08 72.576 L1223.59 72.576 L1223.59 27.2059 L1231.08 27.2059 L1231.08 34.2544 Q1233.75 30.163 1237.36 28.1376 Q1241 26.1121 1245.74 26.1121 Q1253.56 26.1121 1257.57 30.9732 Q1261.58 35.7938 1261.58 45.1919 Z\" fill=\"#000000\" fill-rule=\"nonzero\" fill-opacity=\"1\" /><path clip-path=\"url(#clip240)\" d=\"M1283.82 14.324 L1283.82 27.2059 L1299.18 27.2059 L1299.18 32.9987 L1283.82 32.9987 L1283.82 57.6282 Q1283.82 63.1779 1285.32 64.7578 Q1286.86 66.3376 1291.52 66.3376 L1299.18 66.3376 L1299.18 72.576 L1291.52 72.576 Q1282.89 72.576 1279.61 69.3758 Q1276.33 66.1351 1276.33 57.6282 L1276.33 32.9987 L1270.86 32.9987 L1270.86 27.2059 L1276.33 27.2059 L1276.33 14.324 L1283.82 14.324 Z\" fill=\"#000000\" fill-rule=\"nonzero\" fill-opacity=\"1\" /><path clip-path=\"url(#clip240)\" d=\"M1347.79 48.0275 L1347.79 51.6733 L1313.52 51.6733 Q1314 59.3701 1318.13 63.421 Q1322.31 67.4314 1329.72 67.4314 Q1334.01 67.4314 1338.02 66.3781 Q1342.07 65.3249 1346.04 63.2184 L1346.04 70.267 Q1342.03 71.9684 1337.82 72.8596 Q1333.61 73.7508 1329.27 73.7508 Q1318.42 73.7508 1312.06 67.4314 Q1305.74 61.1119 1305.74 50.3365 Q1305.74 39.1965 1311.73 32.6746 Q1317.77 26.1121 1327.98 26.1121 Q1337.13 26.1121 1342.44 32.0264 Q1347.79 37.9003 1347.79 48.0275 M1340.33 45.84 Q1340.25 39.7232 1336.89 36.0774 Q1333.57 32.4315 1328.06 32.4315 Q1321.82 32.4315 1318.05 35.9558 Q1314.33 39.4801 1313.76 45.8805 L1340.33 45.84 Z\" fill=\"#000000\" fill-rule=\"nonzero\" fill-opacity=\"1\" /><path clip-path=\"url(#clip240)\" d=\"M1386.31 34.1734 Q1385.05 33.4443 1383.56 33.1202 Q1382.1 32.7556 1380.32 32.7556 Q1374 32.7556 1370.59 36.8875 Q1367.23 40.9789 1367.23 48.6757 L1367.23 72.576 L1359.74 72.576 L1359.74 27.2059 L1367.23 27.2059 L1367.23 34.2544 Q1369.58 30.1225 1373.35 28.1376 Q1377.11 26.1121 1382.5 26.1121 Q1383.27 26.1121 1384.2 26.2337 Q1385.14 26.3147 1386.27 26.5172 L1386.31 34.1734 Z\" fill=\"#000000\" fill-rule=\"nonzero\" fill-opacity=\"1\" /><path clip-path=\"url(#clip240)\" d=\"M1388.78 27.2059 L1396.68 27.2059 L1410.86 65.2844 L1425.04 27.2059 L1432.94 27.2059 L1415.92 72.576 L1405.8 72.576 L1388.78 27.2059 Z\" fill=\"#000000\" fill-rule=\"nonzero\" fill-opacity=\"1\" /><path clip-path=\"url(#clip240)\" d=\"M1463.84 49.7694 Q1454.81 49.7694 1451.33 51.8354 Q1447.84 53.9013 1447.84 58.8839 Q1447.84 62.8538 1450.44 65.2034 Q1453.07 67.5124 1457.57 67.5124 Q1463.76 67.5124 1467.49 63.1374 Q1471.26 58.7219 1471.26 51.4303 L1471.26 49.7694 L1463.84 49.7694 M1478.71 46.6907 L1478.71 72.576 L1471.26 72.576 L1471.26 65.6895 Q1468.71 69.8214 1464.9 71.8063 Q1461.09 73.7508 1455.58 73.7508 Q1448.61 73.7508 1444.48 69.8619 Q1440.39 65.9325 1440.39 59.3701 Q1440.39 51.7138 1445.49 47.825 Q1450.64 43.9361 1460.81 43.9361 L1471.26 43.9361 L1471.26 43.2069 Q1471.26 38.0623 1467.86 35.2672 Q1464.49 32.4315 1458.38 32.4315 Q1454.49 32.4315 1450.8 33.3632 Q1447.11 34.295 1443.71 36.1584 L1443.71 29.2718 Q1447.8 27.692 1451.65 26.9223 Q1455.5 26.1121 1459.15 26.1121 Q1468.99 26.1121 1473.85 31.2163 Q1478.71 36.3204 1478.71 46.6907 Z\" fill=\"#000000\" fill-rule=\"nonzero\" fill-opacity=\"1\" /><path clip-path=\"url(#clip240)\" d=\"M1494.06 9.54393 L1501.52 9.54393 L1501.52 72.576 L1494.06 72.576 L1494.06 9.54393 Z\" fill=\"#000000\" fill-rule=\"nonzero\" fill-opacity=\"1\" /><path clip-path=\"url(#clip240)\" d=\"M1546.04 28.5427 L1546.04 35.5912 Q1542.88 33.9709 1539.48 33.1607 Q1536.07 32.3505 1532.43 32.3505 Q1526.88 32.3505 1524.08 34.0519 Q1521.33 35.7533 1521.33 39.156 Q1521.33 41.7486 1523.31 43.2475 Q1525.3 44.7058 1531.29 46.0426 L1533.84 46.6097 Q1541.78 48.3111 1545.11 51.4303 Q1548.47 54.509 1548.47 60.0587 Q1548.47 66.3781 1543.45 70.0644 Q1538.46 73.7508 1529.71 73.7508 Q1526.07 73.7508 1522.1 73.0216 Q1518.17 72.3329 1513.79 70.9151 L1513.79 63.2184 Q1517.92 65.3654 1521.93 66.4591 Q1525.95 67.5124 1529.87 67.5124 Q1535.14 67.5124 1537.98 65.73 Q1540.81 63.9071 1540.81 60.6258 Q1540.81 57.5877 1538.75 55.9673 Q1536.72 54.3469 1529.79 52.8481 L1527.2 52.2405 Q1520.27 50.7821 1517.2 47.7845 Q1514.12 44.7463 1514.12 39.4801 Q1514.12 33.0797 1518.65 29.5959 Q1523.19 26.1121 1531.54 26.1121 Q1535.67 26.1121 1539.31 26.7198 Q1542.96 27.3274 1546.04 28.5427 Z\" fill=\"#000000\" fill-rule=\"nonzero\" fill-opacity=\"1\" /><path clip-path=\"url(#clip240)\" d=\"M1604.29 32.4315 Q1598.29 32.4315 1594.81 37.1306 Q1591.33 41.7891 1591.33 49.9314 Q1591.33 58.0738 1594.77 62.7728 Q1598.25 67.4314 1604.29 67.4314 Q1610.24 67.4314 1613.73 62.7323 Q1617.21 58.0333 1617.21 49.9314 Q1617.21 41.8701 1613.73 37.1711 Q1610.24 32.4315 1604.29 32.4315 M1604.29 26.1121 Q1614.01 26.1121 1619.56 32.4315 Q1625.11 38.7509 1625.11 49.9314 Q1625.11 61.0714 1619.56 67.4314 Q1614.01 73.7508 1604.29 73.7508 Q1594.53 73.7508 1588.98 67.4314 Q1583.47 61.0714 1583.47 49.9314 Q1583.47 38.7509 1588.98 32.4315 Q1594.53 26.1121 1604.29 26.1121 Z\" fill=\"#000000\" fill-rule=\"nonzero\" fill-opacity=\"1\" /><path clip-path=\"url(#clip240)\" d=\"M1660.44 9.54393 L1660.44 15.7418 L1653.31 15.7418 Q1649.3 15.7418 1647.72 17.3622 Q1646.18 18.9825 1646.18 23.1955 L1646.18 27.2059 L1658.45 27.2059 L1658.45 32.9987 L1646.18 32.9987 L1646.18 72.576 L1638.68 72.576 L1638.68 32.9987 L1631.55 32.9987 L1631.55 27.2059 L1638.68 27.2059 L1638.68 24.0462 Q1638.68 16.471 1642.21 13.0277 Q1645.73 9.54393 1653.39 9.54393 L1660.44 9.54393 Z\" fill=\"#000000\" fill-rule=\"nonzero\" fill-opacity=\"1\" /><path clip-path=\"url(#clip240)\" d=\"M1700.5 69.7809 L1700.5 89.8329 L1693 89.8329 L1693 27.4894 Q1693 9.01731 1710.26 9.01731 Q1727.84 9.01731 1727.84 24.6133 Q1727.84 35.7128 1720.87 39.7637 Q1732.22 43.4095 1732.22 54.2254 Q1732.22 73.4267 1712.69 73.4267 Q1704.1 73.4267 1700.5 69.7809 M1700.5 60.0587 Q1705 67.0668 1712.98 67.0668 Q1724.64 67.0668 1724.64 54.3469 Q1724.64 42.9234 1705.85 43.8146 L1705.85 36.928 Q1720.55 36.928 1720.55 23.9651 Q1720.55 15.0937 1711.07 15.0937 Q1700.5 15.0937 1700.5 27.7325 L1700.5 60.0587 Z\" fill=\"#000000\" fill-rule=\"nonzero\" fill-opacity=\"1\" /><path clip-path=\"url(#clip240)\" d=\"M1773.33 34.9026 L1825.27 34.9026 L1825.27 41.7081 L1773.33 41.7081 L1773.33 34.9026 M1773.33 51.4303 L1825.27 51.4303 L1825.27 58.3168 L1773.33 58.3168 L1773.33 51.4303 Z\" fill=\"#000000\" fill-rule=\"nonzero\" fill-opacity=\"1\" /><path clip-path=\"url(#clip240)\" d=\"M1870.72 65.6895 L1884.09 65.6895 L1884.09 19.5497 L1869.54 22.4663 L1869.54 15.0127 L1884 12.096 L1892.19 12.096 L1892.19 65.6895 L1905.56 65.6895 L1905.56 72.576 L1870.72 72.576 L1870.72 65.6895 Z\" fill=\"#000000\" fill-rule=\"nonzero\" fill-opacity=\"1\" /><polyline clip-path=\"url(#clip242)\" style=\"stroke:#0000ff; stroke-linecap:round; stroke-linejoin:round; stroke-width:8; stroke-opacity:1; fill:none\" points=\"315.545,1386.4 315.545,160.256 \"/>\n<polyline clip-path=\"url(#clip242)\" style=\"stroke:#0000ff; stroke-linecap:round; stroke-linejoin:round; stroke-width:8; stroke-opacity:1; fill:none\" points=\"598.098,1193.99 598.098,467.08 \"/>\n<polyline clip-path=\"url(#clip242)\" style=\"stroke:#0000ff; stroke-linecap:round; stroke-linejoin:round; stroke-width:8; stroke-opacity:1; fill:none\" points=\"880.652,1130.86 880.652,569.389 \"/>\n<polyline clip-path=\"url(#clip242)\" style=\"stroke:#0000ff; stroke-linecap:round; stroke-linejoin:round; stroke-width:8; stroke-opacity:1; fill:none\" points=\"1163.21,1051.5 1163.21,567.444 \"/>\n<polyline clip-path=\"url(#clip242)\" style=\"stroke:#0000ff; stroke-linecap:round; stroke-linejoin:round; stroke-width:8; stroke-opacity:1; fill:none\" points=\"1445.76,1022.14 1445.76,594.443 \"/>\n<polyline clip-path=\"url(#clip242)\" style=\"stroke:#0000ff; stroke-linecap:round; stroke-linejoin:round; stroke-width:8; stroke-opacity:1; fill:none\" points=\"1728.31,999.503 1728.31,611.834 \"/>\n<polyline clip-path=\"url(#clip242)\" style=\"stroke:#0000ff; stroke-linecap:round; stroke-linejoin:round; stroke-width:8; stroke-opacity:1; fill:none\" points=\"2010.87,983.267 2010.87,626.08 \"/>\n<polyline clip-path=\"url(#clip242)\" style=\"stroke:#0000ff; stroke-linecap:round; stroke-linejoin:round; stroke-width:8; stroke-opacity:1; fill:none\" points=\"2293.42,967.488 2293.42,632.786 \"/>\n<path clip-path=\"url(#clip240)\" d=\"M1898.56 270.476 L2282.87 270.476 L2282.87 166.796 L1898.56 166.796  Z\" fill=\"#ffffff\" fill-rule=\"evenodd\" fill-opacity=\"1\"/>\n<polyline clip-path=\"url(#clip240)\" style=\"stroke:#000000; stroke-linecap:round; stroke-linejoin:round; stroke-width:4; stroke-opacity:1; fill:none\" points=\"1898.56,270.476 2282.87,270.476 2282.87,166.796 1898.56,166.796 1898.56,270.476 \"/>\n<polyline clip-path=\"url(#clip240)\" style=\"stroke:#0000ff; stroke-linecap:round; stroke-linejoin:round; stroke-width:8; stroke-opacity:1; fill:none\" points=\"1921.86,218.636 2061.63,218.636 \"/>\n<path clip-path=\"url(#clip240)\" d=\"M2100.94 204.527 Q2095.85 204.527 2092.84 208.323 Q2089.85 212.12 2089.85 218.67 Q2089.85 225.198 2092.84 228.994 Q2095.85 232.791 2100.94 232.791 Q2106.04 232.791 2109 228.994 Q2111.98 225.198 2111.98 218.67 Q2111.98 212.12 2109 208.323 Q2106.04 204.527 2100.94 204.527 M2100.94 200.731 Q2108.21 200.731 2112.56 205.615 Q2116.91 210.476 2116.91 218.67 Q2116.91 226.842 2112.56 231.726 Q2108.21 236.587 2100.94 236.587 Q2093.65 236.587 2089.28 231.726 Q2084.92 226.865 2084.92 218.67 Q2084.92 210.476 2089.28 205.615 Q2093.65 200.731 2100.94 200.731 Z\" fill=\"#000000\" fill-rule=\"nonzero\" fill-opacity=\"1\" /><path clip-path=\"url(#clip240)\" d=\"M2145.6 220.268 L2145.6 235.916 L2141.34 235.916 L2141.34 220.407 Q2141.34 216.726 2139.9 214.897 Q2138.47 213.069 2135.6 213.069 Q2132.15 213.069 2130.16 215.268 Q2128.16 217.467 2128.16 221.263 L2128.16 235.916 L2123.88 235.916 L2123.88 209.99 L2128.16 209.99 L2128.16 214.018 Q2129.69 211.68 2131.75 210.522 Q2133.84 209.365 2136.54 209.365 Q2141.01 209.365 2143.3 212.143 Q2145.6 214.897 2145.6 220.268 Z\" fill=\"#000000\" fill-rule=\"nonzero\" fill-opacity=\"1\" /><path clip-path=\"url(#clip240)\" d=\"M2154.09 199.897 L2158.35 199.897 L2158.35 235.916 L2154.09 235.916 L2154.09 199.897 Z\" fill=\"#000000\" fill-rule=\"nonzero\" fill-opacity=\"1\" /><path clip-path=\"url(#clip240)\" d=\"M2167.26 209.99 L2171.52 209.99 L2171.52 235.916 L2167.26 235.916 L2167.26 209.99 M2167.26 199.897 L2171.52 199.897 L2171.52 205.291 L2167.26 205.291 L2167.26 199.897 Z\" fill=\"#000000\" fill-rule=\"nonzero\" fill-opacity=\"1\" /><path clip-path=\"url(#clip240)\" d=\"M2201.98 220.268 L2201.98 235.916 L2197.72 235.916 L2197.72 220.407 Q2197.72 216.726 2196.29 214.897 Q2194.85 213.069 2191.98 213.069 Q2188.53 213.069 2186.54 215.268 Q2184.55 217.467 2184.55 221.263 L2184.55 235.916 L2180.27 235.916 L2180.27 209.99 L2184.55 209.99 L2184.55 214.018 Q2186.08 211.68 2188.14 210.522 Q2190.22 209.365 2192.93 209.365 Q2197.4 209.365 2199.69 212.143 Q2201.98 214.897 2201.98 220.268 Z\" fill=\"#000000\" fill-rule=\"nonzero\" fill-opacity=\"1\" /><path clip-path=\"url(#clip240)\" d=\"M2232.65 221.888 L2232.65 223.971 L2213.07 223.971 Q2213.35 228.369 2215.71 230.684 Q2218.09 232.976 2222.33 232.976 Q2224.78 232.976 2227.08 232.374 Q2229.39 231.772 2231.66 230.569 L2231.66 234.596 Q2229.37 235.568 2226.96 236.078 Q2224.55 236.587 2222.08 236.587 Q2215.87 236.587 2212.24 232.976 Q2208.63 229.365 2208.63 223.207 Q2208.63 216.842 2212.05 213.115 Q2215.5 209.365 2221.34 209.365 Q2226.57 209.365 2229.6 212.745 Q2232.65 216.101 2232.65 221.888 M2228.4 220.638 Q2228.35 217.143 2226.43 215.059 Q2224.53 212.976 2221.38 212.976 Q2217.82 212.976 2215.66 214.99 Q2213.53 217.004 2213.21 220.661 L2228.4 220.638 Z\" fill=\"#000000\" fill-rule=\"nonzero\" fill-opacity=\"1\" /><path clip-path=\"url(#clip240)\" d=\"M2254.9 201.356 L2259.58 201.356 L2259.58 235.916 L2254.9 235.916 L2254.9 201.356 Z\" fill=\"#000000\" fill-rule=\"nonzero\" fill-opacity=\"1\" /></svg>\n",
      "text/html": [
       "<?xml version=\"1.0\" encoding=\"utf-8\"?>\n",
       "<svg xmlns=\"http://www.w3.org/2000/svg\" xmlns:xlink=\"http://www.w3.org/1999/xlink\" width=\"600\" height=\"400\" viewBox=\"0 0 2400 1600\">\n",
       "<defs>\n",
       "  <clipPath id=\"clip290\">\n",
       "    <rect x=\"0\" y=\"0\" width=\"2400\" height=\"1600\"/>\n",
       "  </clipPath>\n",
       "</defs>\n",
       "<path clip-path=\"url(#clip290)\" d=\"M0 1600 L2400 1600 L2400 0 L0 0  Z\" fill=\"#ffffff\" fill-rule=\"evenodd\" fill-opacity=\"1\"/>\n",
       "<defs>\n",
       "  <clipPath id=\"clip291\">\n",
       "    <rect x=\"480\" y=\"0\" width=\"1681\" height=\"1600\"/>\n",
       "  </clipPath>\n",
       "</defs>\n",
       "<path clip-path=\"url(#clip290)\" d=\"M256.209 1423.18 L2352.76 1423.18 L2352.76 123.472 L256.209 123.472  Z\" fill=\"#ffffff\" fill-rule=\"evenodd\" fill-opacity=\"1\"/>\n",
       "<defs>\n",
       "  <clipPath id=\"clip292\">\n",
       "    <rect x=\"256\" y=\"123\" width=\"2098\" height=\"1301\"/>\n",
       "  </clipPath>\n",
       "</defs>\n",
       "<polyline clip-path=\"url(#clip292)\" style=\"stroke:#000000; stroke-linecap:round; stroke-linejoin:round; stroke-width:2; stroke-opacity:0.1; fill:none\" points=\"598.098,1423.18 598.098,123.472 \"/>\n",
       "<polyline clip-path=\"url(#clip292)\" style=\"stroke:#000000; stroke-linecap:round; stroke-linejoin:round; stroke-width:2; stroke-opacity:0.1; fill:none\" points=\"1163.21,1423.18 1163.21,123.472 \"/>\n",
       "<polyline clip-path=\"url(#clip292)\" style=\"stroke:#000000; stroke-linecap:round; stroke-linejoin:round; stroke-width:2; stroke-opacity:0.1; fill:none\" points=\"1728.31,1423.18 1728.31,123.472 \"/>\n",
       "<polyline clip-path=\"url(#clip292)\" style=\"stroke:#000000; stroke-linecap:round; stroke-linejoin:round; stroke-width:2; stroke-opacity:0.1; fill:none\" points=\"2293.42,1423.18 2293.42,123.472 \"/>\n",
       "<polyline clip-path=\"url(#clip290)\" style=\"stroke:#000000; stroke-linecap:round; stroke-linejoin:round; stroke-width:4; stroke-opacity:1; fill:none\" points=\"256.209,1423.18 2352.76,1423.18 \"/>\n",
       "<polyline clip-path=\"url(#clip290)\" style=\"stroke:#000000; stroke-linecap:round; stroke-linejoin:round; stroke-width:4; stroke-opacity:1; fill:none\" points=\"598.098,1423.18 598.098,1404.28 \"/>\n",
       "<polyline clip-path=\"url(#clip290)\" style=\"stroke:#000000; stroke-linecap:round; stroke-linejoin:round; stroke-width:4; stroke-opacity:1; fill:none\" points=\"1163.21,1423.18 1163.21,1404.28 \"/>\n",
       "<polyline clip-path=\"url(#clip290)\" style=\"stroke:#000000; stroke-linecap:round; stroke-linejoin:round; stroke-width:4; stroke-opacity:1; fill:none\" points=\"1728.31,1423.18 1728.31,1404.28 \"/>\n",
       "<polyline clip-path=\"url(#clip290)\" style=\"stroke:#000000; stroke-linecap:round; stroke-linejoin:round; stroke-width:4; stroke-opacity:1; fill:none\" points=\"2293.42,1423.18 2293.42,1404.28 \"/>\n",
       "<path clip-path=\"url(#clip290)\" d=\"M557.705 1481.64 L565.344 1481.64 L565.344 1455.28 L557.034 1456.95 L557.034 1452.69 L565.298 1451.02 L569.974 1451.02 L569.974 1481.64 L577.612 1481.64 L577.612 1485.58 L557.705 1485.58 L557.705 1481.64 Z\" fill=\"#000000\" fill-rule=\"nonzero\" fill-opacity=\"1\" /><path clip-path=\"url(#clip290)\" d=\"M597.057 1454.1 Q593.446 1454.1 591.617 1457.66 Q589.811 1461.2 589.811 1468.33 Q589.811 1475.44 591.617 1479.01 Q593.446 1482.55 597.057 1482.55 Q600.691 1482.55 602.497 1479.01 Q604.325 1475.44 604.325 1468.33 Q604.325 1461.2 602.497 1457.66 Q600.691 1454.1 597.057 1454.1 M597.057 1450.39 Q602.867 1450.39 605.922 1455 Q609.001 1459.58 609.001 1468.33 Q609.001 1477.06 605.922 1481.67 Q602.867 1486.25 597.057 1486.25 Q591.247 1486.25 588.168 1481.67 Q585.112 1477.06 585.112 1468.33 Q585.112 1459.58 588.168 1455 Q591.247 1450.39 597.057 1450.39 Z\" fill=\"#000000\" fill-rule=\"nonzero\" fill-opacity=\"1\" /><path clip-path=\"url(#clip290)\" d=\"M627.219 1454.1 Q623.608 1454.1 621.779 1457.66 Q619.973 1461.2 619.973 1468.33 Q619.973 1475.44 621.779 1479.01 Q623.608 1482.55 627.219 1482.55 Q630.853 1482.55 632.658 1479.01 Q634.487 1475.44 634.487 1468.33 Q634.487 1461.2 632.658 1457.66 Q630.853 1454.1 627.219 1454.1 M627.219 1450.39 Q633.029 1450.39 636.084 1455 Q639.163 1459.58 639.163 1468.33 Q639.163 1477.06 636.084 1481.67 Q633.029 1486.25 627.219 1486.25 Q621.409 1486.25 618.33 1481.67 Q615.274 1477.06 615.274 1468.33 Q615.274 1459.58 618.33 1455 Q621.409 1450.39 627.219 1450.39 Z\" fill=\"#000000\" fill-rule=\"nonzero\" fill-opacity=\"1\" /><path clip-path=\"url(#clip290)\" d=\"M1126.9 1481.64 L1143.22 1481.64 L1143.22 1485.58 L1121.27 1485.58 L1121.27 1481.64 Q1123.93 1478.89 1128.52 1474.26 Q1133.12 1469.61 1134.31 1468.27 Q1136.55 1465.74 1137.43 1464.01 Q1138.33 1462.25 1138.33 1460.56 Q1138.33 1457.8 1136.39 1456.07 Q1134.47 1454.33 1131.37 1454.33 Q1129.17 1454.33 1126.71 1455.09 Q1124.28 1455.86 1121.5 1457.41 L1121.5 1452.69 Q1124.33 1451.55 1126.78 1450.97 Q1129.24 1450.39 1131.27 1450.39 Q1136.64 1450.39 1139.84 1453.08 Q1143.03 1455.77 1143.03 1460.26 Q1143.03 1462.39 1142.22 1464.31 Q1141.43 1466.2 1139.33 1468.8 Q1138.75 1469.47 1135.65 1472.69 Q1132.55 1475.88 1126.9 1481.64 Z\" fill=\"#000000\" fill-rule=\"nonzero\" fill-opacity=\"1\" /><path clip-path=\"url(#clip290)\" d=\"M1163.03 1454.1 Q1159.42 1454.1 1157.59 1457.66 Q1155.79 1461.2 1155.79 1468.33 Q1155.79 1475.44 1157.59 1479.01 Q1159.42 1482.55 1163.03 1482.55 Q1166.67 1482.55 1168.47 1479.01 Q1170.3 1475.44 1170.3 1468.33 Q1170.3 1461.2 1168.47 1457.66 Q1166.67 1454.1 1163.03 1454.1 M1163.03 1450.39 Q1168.84 1450.39 1171.9 1455 Q1174.98 1459.58 1174.98 1468.33 Q1174.98 1477.06 1171.9 1481.67 Q1168.84 1486.25 1163.03 1486.25 Q1157.22 1486.25 1154.14 1481.67 Q1151.09 1477.06 1151.09 1468.33 Q1151.09 1459.58 1154.14 1455 Q1157.22 1450.39 1163.03 1450.39 Z\" fill=\"#000000\" fill-rule=\"nonzero\" fill-opacity=\"1\" /><path clip-path=\"url(#clip290)\" d=\"M1193.19 1454.1 Q1189.58 1454.1 1187.75 1457.66 Q1185.95 1461.2 1185.95 1468.33 Q1185.95 1475.44 1187.75 1479.01 Q1189.58 1482.55 1193.19 1482.55 Q1196.83 1482.55 1198.63 1479.01 Q1200.46 1475.44 1200.46 1468.33 Q1200.46 1461.2 1198.63 1457.66 Q1196.83 1454.1 1193.19 1454.1 M1193.19 1450.39 Q1199 1450.39 1202.06 1455 Q1205.14 1459.58 1205.14 1468.33 Q1205.14 1477.06 1202.06 1481.67 Q1199 1486.25 1193.19 1486.25 Q1187.38 1486.25 1184.3 1481.67 Q1181.25 1477.06 1181.25 1468.33 Q1181.25 1459.58 1184.3 1455 Q1187.38 1450.39 1193.19 1450.39 Z\" fill=\"#000000\" fill-rule=\"nonzero\" fill-opacity=\"1\" /><path clip-path=\"url(#clip290)\" d=\"M1702.07 1466.95 Q1705.43 1467.66 1707.31 1469.93 Q1709.2 1472.2 1709.2 1475.53 Q1709.2 1480.65 1705.69 1483.45 Q1702.17 1486.25 1695.69 1486.25 Q1693.51 1486.25 1691.19 1485.81 Q1688.9 1485.39 1686.45 1484.54 L1686.45 1480.02 Q1688.39 1481.16 1690.71 1481.74 Q1693.02 1482.32 1695.55 1482.32 Q1699.94 1482.32 1702.24 1480.58 Q1704.55 1478.84 1704.55 1475.53 Q1704.55 1472.48 1702.4 1470.77 Q1700.27 1469.03 1696.45 1469.03 L1692.42 1469.03 L1692.42 1465.19 L1696.63 1465.19 Q1700.08 1465.19 1701.91 1463.82 Q1703.74 1462.43 1703.74 1459.84 Q1703.74 1457.18 1701.84 1455.77 Q1699.97 1454.33 1696.45 1454.33 Q1694.53 1454.33 1692.33 1454.75 Q1690.13 1455.16 1687.49 1456.04 L1687.49 1451.88 Q1690.15 1451.14 1692.47 1450.77 Q1694.81 1450.39 1696.87 1450.39 Q1702.19 1450.39 1705.29 1452.83 Q1708.39 1455.23 1708.39 1459.35 Q1708.39 1462.22 1706.75 1464.21 Q1705.11 1466.18 1702.07 1466.95 Z\" fill=\"#000000\" fill-rule=\"nonzero\" fill-opacity=\"1\" /><path clip-path=\"url(#clip290)\" d=\"M1728.07 1454.1 Q1724.46 1454.1 1722.63 1457.66 Q1720.82 1461.2 1720.82 1468.33 Q1720.82 1475.44 1722.63 1479.01 Q1724.46 1482.55 1728.07 1482.55 Q1731.7 1482.55 1733.51 1479.01 Q1735.34 1475.44 1735.34 1468.33 Q1735.34 1461.2 1733.51 1457.66 Q1731.7 1454.1 1728.07 1454.1 M1728.07 1450.39 Q1733.88 1450.39 1736.94 1455 Q1740.01 1459.58 1740.01 1468.33 Q1740.01 1477.06 1736.94 1481.67 Q1733.88 1486.25 1728.07 1486.25 Q1722.26 1486.25 1719.18 1481.67 Q1716.13 1477.06 1716.13 1468.33 Q1716.13 1459.58 1719.18 1455 Q1722.26 1450.39 1728.07 1450.39 Z\" fill=\"#000000\" fill-rule=\"nonzero\" fill-opacity=\"1\" /><path clip-path=\"url(#clip290)\" d=\"M1758.23 1454.1 Q1754.62 1454.1 1752.79 1457.66 Q1750.99 1461.2 1750.99 1468.33 Q1750.99 1475.44 1752.79 1479.01 Q1754.62 1482.55 1758.23 1482.55 Q1761.87 1482.55 1763.67 1479.01 Q1765.5 1475.44 1765.5 1468.33 Q1765.5 1461.2 1763.67 1457.66 Q1761.87 1454.1 1758.23 1454.1 M1758.23 1450.39 Q1764.04 1450.39 1767.1 1455 Q1770.18 1459.58 1770.18 1468.33 Q1770.18 1477.06 1767.1 1481.67 Q1764.04 1486.25 1758.23 1486.25 Q1752.42 1486.25 1749.34 1481.67 Q1746.29 1477.06 1746.29 1468.33 Q1746.29 1459.58 1749.34 1455 Q1752.42 1450.39 1758.23 1450.39 Z\" fill=\"#000000\" fill-rule=\"nonzero\" fill-opacity=\"1\" /><path clip-path=\"url(#clip290)\" d=\"M2266.51 1455.09 L2254.7 1473.54 L2266.51 1473.54 L2266.51 1455.09 M2265.28 1451.02 L2271.16 1451.02 L2271.16 1473.54 L2276.09 1473.54 L2276.09 1477.43 L2271.16 1477.43 L2271.16 1485.58 L2266.51 1485.58 L2266.51 1477.43 L2250.91 1477.43 L2250.91 1472.92 L2265.28 1451.02 Z\" fill=\"#000000\" fill-rule=\"nonzero\" fill-opacity=\"1\" /><path clip-path=\"url(#clip290)\" d=\"M2293.82 1454.1 Q2290.21 1454.1 2288.38 1457.66 Q2286.58 1461.2 2286.58 1468.33 Q2286.58 1475.44 2288.38 1479.01 Q2290.21 1482.55 2293.82 1482.55 Q2297.46 1482.55 2299.26 1479.01 Q2301.09 1475.44 2301.09 1468.33 Q2301.09 1461.2 2299.26 1457.66 Q2297.46 1454.1 2293.82 1454.1 M2293.82 1450.39 Q2299.63 1450.39 2302.69 1455 Q2305.77 1459.58 2305.77 1468.33 Q2305.77 1477.06 2302.69 1481.67 Q2299.63 1486.25 2293.82 1486.25 Q2288.01 1486.25 2284.94 1481.67 Q2281.88 1477.06 2281.88 1468.33 Q2281.88 1459.58 2284.94 1455 Q2288.01 1450.39 2293.82 1450.39 Z\" fill=\"#000000\" fill-rule=\"nonzero\" fill-opacity=\"1\" /><path clip-path=\"url(#clip290)\" d=\"M2323.99 1454.1 Q2320.38 1454.1 2318.55 1457.66 Q2316.74 1461.2 2316.74 1468.33 Q2316.74 1475.44 2318.55 1479.01 Q2320.38 1482.55 2323.99 1482.55 Q2327.62 1482.55 2329.43 1479.01 Q2331.26 1475.44 2331.26 1468.33 Q2331.26 1461.2 2329.43 1457.66 Q2327.62 1454.1 2323.99 1454.1 M2323.99 1450.39 Q2329.8 1450.39 2332.85 1455 Q2335.93 1459.58 2335.93 1468.33 Q2335.93 1477.06 2332.85 1481.67 Q2329.8 1486.25 2323.99 1486.25 Q2318.18 1486.25 2315.1 1481.67 Q2312.04 1477.06 2312.04 1468.33 Q2312.04 1459.58 2315.1 1455 Q2318.18 1450.39 2323.99 1450.39 Z\" fill=\"#000000\" fill-rule=\"nonzero\" fill-opacity=\"1\" /><path clip-path=\"url(#clip290)\" d=\"M1139.48 1522.08 L1139.48 1528.35 Q1135.82 1526.6 1132.58 1525.74 Q1129.33 1524.88 1126.31 1524.88 Q1121.05 1524.88 1118.19 1526.92 Q1115.36 1528.96 1115.36 1532.71 Q1115.36 1535.87 1117.24 1537.49 Q1119.14 1539.08 1124.43 1540.07 L1128.31 1540.86 Q1135.5 1542.23 1138.91 1545.7 Q1142.35 1549.14 1142.35 1554.93 Q1142.35 1561.84 1137.7 1565.4 Q1133.09 1568.97 1124.14 1568.97 Q1120.77 1568.97 1116.95 1568.2 Q1113.16 1567.44 1109.09 1565.94 L1109.09 1559.32 Q1113 1561.52 1116.76 1562.63 Q1120.51 1563.75 1124.14 1563.75 Q1129.65 1563.75 1132.64 1561.58 Q1135.63 1559.42 1135.63 1555.41 Q1135.63 1551.91 1133.47 1549.93 Q1131.34 1547.96 1126.43 1546.97 L1122.52 1546.21 Q1115.33 1544.78 1112.11 1541.72 Q1108.9 1538.67 1108.9 1533.22 Q1108.9 1526.92 1113.32 1523.29 Q1117.78 1519.66 1125.57 1519.66 Q1128.92 1519.66 1132.39 1520.27 Q1135.85 1520.87 1139.48 1522.08 Z\" fill=\"#000000\" fill-rule=\"nonzero\" fill-opacity=\"1\" /><path clip-path=\"url(#clip290)\" d=\"M1168.32 1550.12 Q1161.22 1550.12 1158.48 1551.75 Q1155.75 1553.37 1155.75 1557.29 Q1155.75 1560.4 1157.78 1562.25 Q1159.85 1564.07 1163.39 1564.07 Q1168.26 1564.07 1171.18 1560.63 Q1174.14 1557.16 1174.14 1551.43 L1174.14 1550.12 L1168.32 1550.12 M1180 1547.71 L1180 1568.04 L1174.14 1568.04 L1174.14 1562.63 Q1172.14 1565.88 1169.15 1567.44 Q1166.16 1568.97 1161.83 1568.97 Q1156.35 1568.97 1153.11 1565.91 Q1149.89 1562.82 1149.89 1557.67 Q1149.89 1551.65 1153.9 1548.6 Q1157.94 1545.54 1165.93 1545.54 L1174.14 1545.54 L1174.14 1544.97 Q1174.14 1540.93 1171.47 1538.73 Q1168.83 1536.5 1164.02 1536.5 Q1160.97 1536.5 1158.07 1537.23 Q1155.17 1537.97 1152.5 1539.43 L1152.5 1534.02 Q1155.72 1532.78 1158.74 1532.17 Q1161.76 1531.54 1164.63 1531.54 Q1172.36 1531.54 1176.18 1535.55 Q1180 1539.56 1180 1547.71 Z\" fill=\"#000000\" fill-rule=\"nonzero\" fill-opacity=\"1\" /><path clip-path=\"url(#clip290)\" d=\"M1219.82 1539.24 Q1222.01 1535.29 1225.07 1533.41 Q1228.13 1531.54 1232.26 1531.54 Q1237.83 1531.54 1240.86 1535.45 Q1243.88 1539.33 1243.88 1546.53 L1243.88 1568.04 L1237.99 1568.04 L1237.99 1546.72 Q1237.99 1541.59 1236.18 1539.11 Q1234.36 1536.63 1230.64 1536.63 Q1226.09 1536.63 1223.45 1539.65 Q1220.81 1542.68 1220.81 1547.9 L1220.81 1568.04 L1214.92 1568.04 L1214.92 1546.72 Q1214.92 1541.56 1213.1 1539.11 Q1211.29 1536.63 1207.5 1536.63 Q1203.01 1536.63 1200.37 1539.68 Q1197.73 1542.71 1197.73 1547.9 L1197.73 1568.04 L1191.84 1568.04 L1191.84 1532.4 L1197.73 1532.4 L1197.73 1537.93 Q1199.73 1534.66 1202.54 1533.1 Q1205.34 1531.54 1209.19 1531.54 Q1213.07 1531.54 1215.78 1533.51 Q1218.51 1535.48 1219.82 1539.24 Z\" fill=\"#000000\" fill-rule=\"nonzero\" fill-opacity=\"1\" /><path clip-path=\"url(#clip290)\" d=\"M1261.23 1562.7 L1261.23 1581.6 L1255.34 1581.6 L1255.34 1532.4 L1261.23 1532.4 L1261.23 1537.81 Q1263.07 1534.62 1265.87 1533.1 Q1268.71 1531.54 1272.62 1531.54 Q1279.11 1531.54 1283.16 1536.69 Q1287.23 1541.85 1287.23 1550.25 Q1287.23 1558.65 1283.16 1563.81 Q1279.11 1568.97 1272.62 1568.97 Q1268.71 1568.97 1265.87 1567.44 Q1263.07 1565.88 1261.23 1562.7 M1281.15 1550.25 Q1281.15 1543.79 1278.48 1540.13 Q1275.84 1536.44 1271.19 1536.44 Q1266.54 1536.44 1263.87 1540.13 Q1261.23 1543.79 1261.23 1550.25 Q1261.23 1556.71 1263.87 1560.4 Q1266.54 1564.07 1271.19 1564.07 Q1275.84 1564.07 1278.48 1560.4 Q1281.15 1556.71 1281.15 1550.25 Z\" fill=\"#000000\" fill-rule=\"nonzero\" fill-opacity=\"1\" /><path clip-path=\"url(#clip290)\" d=\"M1296.94 1518.52 L1302.8 1518.52 L1302.8 1568.04 L1296.94 1568.04 L1296.94 1518.52 Z\" fill=\"#000000\" fill-rule=\"nonzero\" fill-opacity=\"1\" /><path clip-path=\"url(#clip290)\" d=\"M1345.54 1548.76 L1345.54 1551.62 L1318.61 1551.62 Q1319 1557.67 1322.24 1560.85 Q1325.52 1564 1331.35 1564 Q1334.72 1564 1337.87 1563.17 Q1341.05 1562.35 1344.17 1560.69 L1344.17 1566.23 Q1341.02 1567.57 1337.71 1568.27 Q1334.4 1568.97 1331 1568.97 Q1322.47 1568.97 1317.47 1564 Q1312.5 1559.04 1312.5 1550.57 Q1312.5 1541.82 1317.21 1536.69 Q1321.96 1531.54 1329.98 1531.54 Q1337.17 1531.54 1341.34 1536.18 Q1345.54 1540.8 1345.54 1548.76 M1339.68 1547.04 Q1339.62 1542.23 1336.98 1539.37 Q1334.37 1536.5 1330.04 1536.5 Q1325.14 1536.5 1322.18 1539.27 Q1319.25 1542.04 1318.81 1547.07 L1339.68 1547.04 Z\" fill=\"#000000\" fill-rule=\"nonzero\" fill-opacity=\"1\" /><path clip-path=\"url(#clip290)\" d=\"M1404.61 1522.08 L1404.61 1528.35 Q1400.95 1526.6 1397.71 1525.74 Q1394.46 1524.88 1391.44 1524.88 Q1386.19 1524.88 1383.32 1526.92 Q1380.49 1528.96 1380.49 1532.71 Q1380.49 1535.87 1382.37 1537.49 Q1384.28 1539.08 1389.56 1540.07 L1393.44 1540.86 Q1400.64 1542.23 1404.04 1545.7 Q1407.48 1549.14 1407.48 1554.93 Q1407.48 1561.84 1402.83 1565.4 Q1398.22 1568.97 1389.27 1568.97 Q1385.9 1568.97 1382.08 1568.2 Q1378.29 1567.44 1374.22 1565.94 L1374.22 1559.32 Q1378.13 1561.52 1381.89 1562.63 Q1385.65 1563.75 1389.27 1563.75 Q1394.78 1563.75 1397.77 1561.58 Q1400.76 1559.42 1400.76 1555.41 Q1400.76 1551.91 1398.6 1549.93 Q1396.47 1547.96 1391.57 1546.97 L1387.65 1546.21 Q1380.46 1544.78 1377.24 1541.72 Q1374.03 1538.67 1374.03 1533.22 Q1374.03 1526.92 1378.45 1523.29 Q1382.91 1519.66 1390.71 1519.66 Q1394.05 1519.66 1397.52 1520.27 Q1400.99 1520.87 1404.61 1522.08 Z\" fill=\"#000000\" fill-rule=\"nonzero\" fill-opacity=\"1\" /><path clip-path=\"url(#clip290)\" d=\"M1417.25 1532.4 L1423.11 1532.4 L1423.11 1568.04 L1417.25 1568.04 L1417.25 1532.4 M1417.25 1518.52 L1423.11 1518.52 L1423.11 1525.93 L1417.25 1525.93 L1417.25 1518.52 Z\" fill=\"#000000\" fill-rule=\"nonzero\" fill-opacity=\"1\" /><path clip-path=\"url(#clip290)\" d=\"M1432.81 1532.4 L1460.63 1532.4 L1460.63 1537.74 L1438.61 1563.37 L1460.63 1563.37 L1460.63 1568.04 L1432.02 1568.04 L1432.02 1562.7 L1454.04 1537.07 L1432.81 1537.07 L1432.81 1532.4 Z\" fill=\"#000000\" fill-rule=\"nonzero\" fill-opacity=\"1\" /><path clip-path=\"url(#clip290)\" d=\"M1500.07 1548.76 L1500.07 1551.62 L1473.14 1551.62 Q1473.52 1557.67 1476.77 1560.85 Q1480.05 1564 1485.87 1564 Q1489.25 1564 1492.4 1563.17 Q1495.58 1562.35 1498.7 1560.69 L1498.7 1566.23 Q1495.55 1567.57 1492.24 1568.27 Q1488.93 1568.97 1485.52 1568.97 Q1476.99 1568.97 1472 1564 Q1467.03 1559.04 1467.03 1550.57 Q1467.03 1541.82 1471.74 1536.69 Q1476.48 1531.54 1484.5 1531.54 Q1491.7 1531.54 1495.87 1536.18 Q1500.07 1540.8 1500.07 1548.76 M1494.21 1547.04 Q1494.15 1542.23 1491.51 1539.37 Q1488.9 1536.5 1484.57 1536.5 Q1479.67 1536.5 1476.71 1539.27 Q1473.78 1542.04 1473.33 1547.07 L1494.21 1547.04 Z\" fill=\"#000000\" fill-rule=\"nonzero\" fill-opacity=\"1\" /><polyline clip-path=\"url(#clip292)\" style=\"stroke:#000000; stroke-linecap:round; stroke-linejoin:round; stroke-width:2; stroke-opacity:0.1; fill:none\" points=\"256.209,1415.29 2352.76,1415.29 \"/>\n",
       "<polyline clip-path=\"url(#clip292)\" style=\"stroke:#000000; stroke-linecap:round; stroke-linejoin:round; stroke-width:2; stroke-opacity:0.1; fill:none\" points=\"256.209,1201.6 2352.76,1201.6 \"/>\n",
       "<polyline clip-path=\"url(#clip292)\" style=\"stroke:#000000; stroke-linecap:round; stroke-linejoin:round; stroke-width:2; stroke-opacity:0.1; fill:none\" points=\"256.209,987.922 2352.76,987.922 \"/>\n",
       "<polyline clip-path=\"url(#clip292)\" style=\"stroke:#000000; stroke-linecap:round; stroke-linejoin:round; stroke-width:2; stroke-opacity:0.1; fill:none\" points=\"256.209,774.24 2352.76,774.24 \"/>\n",
       "<polyline clip-path=\"url(#clip292)\" style=\"stroke:#000000; stroke-linecap:round; stroke-linejoin:round; stroke-width:2; stroke-opacity:0.1; fill:none\" points=\"256.209,560.557 2352.76,560.557 \"/>\n",
       "<polyline clip-path=\"url(#clip292)\" style=\"stroke:#000000; stroke-linecap:round; stroke-linejoin:round; stroke-width:2; stroke-opacity:0.1; fill:none\" points=\"256.209,346.875 2352.76,346.875 \"/>\n",
       "<polyline clip-path=\"url(#clip292)\" style=\"stroke:#000000; stroke-linecap:round; stroke-linejoin:round; stroke-width:2; stroke-opacity:0.1; fill:none\" points=\"256.209,133.193 2352.76,133.193 \"/>\n",
       "<polyline clip-path=\"url(#clip290)\" style=\"stroke:#000000; stroke-linecap:round; stroke-linejoin:round; stroke-width:4; stroke-opacity:1; fill:none\" points=\"256.209,1423.18 256.209,123.472 \"/>\n",
       "<polyline clip-path=\"url(#clip290)\" style=\"stroke:#000000; stroke-linecap:round; stroke-linejoin:round; stroke-width:4; stroke-opacity:1; fill:none\" points=\"256.209,1415.29 275.106,1415.29 \"/>\n",
       "<polyline clip-path=\"url(#clip290)\" style=\"stroke:#000000; stroke-linecap:round; stroke-linejoin:round; stroke-width:4; stroke-opacity:1; fill:none\" points=\"256.209,1201.6 275.106,1201.6 \"/>\n",
       "<polyline clip-path=\"url(#clip290)\" style=\"stroke:#000000; stroke-linecap:round; stroke-linejoin:round; stroke-width:4; stroke-opacity:1; fill:none\" points=\"256.209,987.922 275.106,987.922 \"/>\n",
       "<polyline clip-path=\"url(#clip290)\" style=\"stroke:#000000; stroke-linecap:round; stroke-linejoin:round; stroke-width:4; stroke-opacity:1; fill:none\" points=\"256.209,774.24 275.106,774.24 \"/>\n",
       "<polyline clip-path=\"url(#clip290)\" style=\"stroke:#000000; stroke-linecap:round; stroke-linejoin:round; stroke-width:4; stroke-opacity:1; fill:none\" points=\"256.209,560.557 275.106,560.557 \"/>\n",
       "<polyline clip-path=\"url(#clip290)\" style=\"stroke:#000000; stroke-linecap:round; stroke-linejoin:round; stroke-width:4; stroke-opacity:1; fill:none\" points=\"256.209,346.875 275.106,346.875 \"/>\n",
       "<polyline clip-path=\"url(#clip290)\" style=\"stroke:#000000; stroke-linecap:round; stroke-linejoin:round; stroke-width:4; stroke-opacity:1; fill:none\" points=\"256.209,133.193 275.106,133.193 \"/>\n",
       "<path clip-path=\"url(#clip290)\" d=\"M114.26 1415.74 L143.936 1415.74 L143.936 1419.67 L114.26 1419.67 L114.26 1415.74 Z\" fill=\"#000000\" fill-rule=\"nonzero\" fill-opacity=\"1\" /><path clip-path=\"url(#clip290)\" d=\"M164.028 1401.09 Q160.417 1401.09 158.589 1404.65 Q156.783 1408.19 156.783 1415.32 Q156.783 1422.43 158.589 1425.99 Q160.417 1429.53 164.028 1429.53 Q167.663 1429.53 169.468 1425.99 Q171.297 1422.43 171.297 1415.32 Q171.297 1408.19 169.468 1404.65 Q167.663 1401.09 164.028 1401.09 M164.028 1397.38 Q169.839 1397.38 172.894 1401.99 Q175.973 1406.57 175.973 1415.32 Q175.973 1424.05 172.894 1428.65 Q169.839 1433.24 164.028 1433.24 Q158.218 1433.24 155.14 1428.65 Q152.084 1424.05 152.084 1415.32 Q152.084 1406.57 155.14 1401.99 Q158.218 1397.38 164.028 1397.38 Z\" fill=\"#000000\" fill-rule=\"nonzero\" fill-opacity=\"1\" /><path clip-path=\"url(#clip290)\" d=\"M184.19 1426.69 L189.075 1426.69 L189.075 1432.57 L184.19 1432.57 L184.19 1426.69 Z\" fill=\"#000000\" fill-rule=\"nonzero\" fill-opacity=\"1\" /><path clip-path=\"url(#clip290)\" d=\"M199.306 1398.01 L217.662 1398.01 L217.662 1401.94 L203.588 1401.94 L203.588 1410.41 Q204.607 1410.07 205.625 1409.9 Q206.644 1409.72 207.662 1409.72 Q213.449 1409.72 216.829 1412.89 Q220.209 1416.06 220.209 1421.48 Q220.209 1427.06 216.736 1430.16 Q213.264 1433.24 206.945 1433.24 Q204.769 1433.24 202.5 1432.87 Q200.255 1432.5 197.848 1431.76 L197.848 1427.06 Q199.931 1428.19 202.153 1428.75 Q204.375 1429.3 206.852 1429.3 Q210.857 1429.3 213.195 1427.2 Q215.533 1425.09 215.533 1421.48 Q215.533 1417.87 213.195 1415.76 Q210.857 1413.65 206.852 1413.65 Q204.977 1413.65 203.102 1414.07 Q201.25 1414.49 199.306 1415.37 L199.306 1398.01 Z\" fill=\"#000000\" fill-rule=\"nonzero\" fill-opacity=\"1\" /><path clip-path=\"url(#clip290)\" d=\"M163.033 1187.4 Q159.422 1187.4 157.593 1190.97 Q155.788 1194.51 155.788 1201.64 Q155.788 1208.75 157.593 1212.31 Q159.422 1215.85 163.033 1215.85 Q166.667 1215.85 168.473 1212.31 Q170.302 1208.75 170.302 1201.64 Q170.302 1194.51 168.473 1190.97 Q166.667 1187.4 163.033 1187.4 M163.033 1183.7 Q168.843 1183.7 171.899 1188.31 Q174.977 1192.89 174.977 1201.64 Q174.977 1210.37 171.899 1214.97 Q168.843 1219.56 163.033 1219.56 Q157.223 1219.56 154.144 1214.97 Q151.089 1210.37 151.089 1201.64 Q151.089 1192.89 154.144 1188.31 Q157.223 1183.7 163.033 1183.7 Z\" fill=\"#000000\" fill-rule=\"nonzero\" fill-opacity=\"1\" /><path clip-path=\"url(#clip290)\" d=\"M183.195 1213 L188.079 1213 L188.079 1218.88 L183.195 1218.88 L183.195 1213 Z\" fill=\"#000000\" fill-rule=\"nonzero\" fill-opacity=\"1\" /><path clip-path=\"url(#clip290)\" d=\"M208.264 1187.4 Q204.653 1187.4 202.824 1190.97 Q201.019 1194.51 201.019 1201.64 Q201.019 1208.75 202.824 1212.31 Q204.653 1215.85 208.264 1215.85 Q211.899 1215.85 213.704 1212.31 Q215.533 1208.75 215.533 1201.64 Q215.533 1194.51 213.704 1190.97 Q211.899 1187.4 208.264 1187.4 M208.264 1183.7 Q214.074 1183.7 217.13 1188.31 Q220.209 1192.89 220.209 1201.64 Q220.209 1210.37 217.13 1214.97 Q214.074 1219.56 208.264 1219.56 Q202.454 1219.56 199.375 1214.97 Q196.32 1210.37 196.32 1201.64 Q196.32 1192.89 199.375 1188.31 Q202.454 1183.7 208.264 1183.7 Z\" fill=\"#000000\" fill-rule=\"nonzero\" fill-opacity=\"1\" /><path clip-path=\"url(#clip290)\" d=\"M164.028 973.721 Q160.417 973.721 158.589 977.286 Q156.783 980.827 156.783 987.957 Q156.783 995.063 158.589 998.628 Q160.417 1002.17 164.028 1002.17 Q167.663 1002.17 169.468 998.628 Q171.297 995.063 171.297 987.957 Q171.297 980.827 169.468 977.286 Q167.663 973.721 164.028 973.721 M164.028 970.017 Q169.839 970.017 172.894 974.623 Q175.973 979.207 175.973 987.957 Q175.973 996.684 172.894 1001.29 Q169.839 1005.87 164.028 1005.87 Q158.218 1005.87 155.14 1001.29 Q152.084 996.684 152.084 987.957 Q152.084 979.207 155.14 974.623 Q158.218 970.017 164.028 970.017 Z\" fill=\"#000000\" fill-rule=\"nonzero\" fill-opacity=\"1\" /><path clip-path=\"url(#clip290)\" d=\"M184.19 999.322 L189.075 999.322 L189.075 1005.2 L184.19 1005.2 L184.19 999.322 Z\" fill=\"#000000\" fill-rule=\"nonzero\" fill-opacity=\"1\" /><path clip-path=\"url(#clip290)\" d=\"M199.306 970.642 L217.662 970.642 L217.662 974.577 L203.588 974.577 L203.588 983.049 Q204.607 982.702 205.625 982.54 Q206.644 982.355 207.662 982.355 Q213.449 982.355 216.829 985.526 Q220.209 988.697 220.209 994.114 Q220.209 999.693 216.736 1002.79 Q213.264 1005.87 206.945 1005.87 Q204.769 1005.87 202.5 1005.5 Q200.255 1005.13 197.848 1004.39 L197.848 999.693 Q199.931 1000.83 202.153 1001.38 Q204.375 1001.94 206.852 1001.94 Q210.857 1001.94 213.195 999.832 Q215.533 997.725 215.533 994.114 Q215.533 990.503 213.195 988.397 Q210.857 986.29 206.852 986.29 Q204.977 986.29 203.102 986.707 Q201.25 987.123 199.306 988.003 L199.306 970.642 Z\" fill=\"#000000\" fill-rule=\"nonzero\" fill-opacity=\"1\" /><path clip-path=\"url(#clip290)\" d=\"M153.843 787.584 L161.482 787.584 L161.482 761.219 L153.172 762.886 L153.172 758.626 L161.436 756.96 L166.112 756.96 L166.112 787.584 L173.751 787.584 L173.751 791.52 L153.843 791.52 L153.843 787.584 Z\" fill=\"#000000\" fill-rule=\"nonzero\" fill-opacity=\"1\" /><path clip-path=\"url(#clip290)\" d=\"M183.195 785.64 L188.079 785.64 L188.079 791.52 L183.195 791.52 L183.195 785.64 Z\" fill=\"#000000\" fill-rule=\"nonzero\" fill-opacity=\"1\" /><path clip-path=\"url(#clip290)\" d=\"M208.264 760.038 Q204.653 760.038 202.824 763.603 Q201.019 767.145 201.019 774.274 Q201.019 781.381 202.824 784.946 Q204.653 788.487 208.264 788.487 Q211.899 788.487 213.704 784.946 Q215.533 781.381 215.533 774.274 Q215.533 767.145 213.704 763.603 Q211.899 760.038 208.264 760.038 M208.264 756.335 Q214.074 756.335 217.13 760.941 Q220.209 765.524 220.209 774.274 Q220.209 783.001 217.13 787.608 Q214.074 792.191 208.264 792.191 Q202.454 792.191 199.375 787.608 Q196.32 783.001 196.32 774.274 Q196.32 765.524 199.375 760.941 Q202.454 756.335 208.264 756.335 Z\" fill=\"#000000\" fill-rule=\"nonzero\" fill-opacity=\"1\" /><path clip-path=\"url(#clip290)\" d=\"M154.839 573.902 L162.477 573.902 L162.477 547.537 L154.167 549.203 L154.167 544.944 L162.431 543.277 L167.107 543.277 L167.107 573.902 L174.746 573.902 L174.746 577.837 L154.839 577.837 L154.839 573.902 Z\" fill=\"#000000\" fill-rule=\"nonzero\" fill-opacity=\"1\" /><path clip-path=\"url(#clip290)\" d=\"M184.19 571.958 L189.075 571.958 L189.075 577.837 L184.19 577.837 L184.19 571.958 Z\" fill=\"#000000\" fill-rule=\"nonzero\" fill-opacity=\"1\" /><path clip-path=\"url(#clip290)\" d=\"M199.306 543.277 L217.662 543.277 L217.662 547.212 L203.588 547.212 L203.588 555.685 Q204.607 555.337 205.625 555.175 Q206.644 554.99 207.662 554.99 Q213.449 554.99 216.829 558.161 Q220.209 561.333 220.209 566.749 Q220.209 572.328 216.736 575.43 Q213.264 578.509 206.945 578.509 Q204.769 578.509 202.5 578.138 Q200.255 577.768 197.848 577.027 L197.848 572.328 Q199.931 573.462 202.153 574.018 Q204.375 574.573 206.852 574.573 Q210.857 574.573 213.195 572.467 Q215.533 570.36 215.533 566.749 Q215.533 563.138 213.195 561.032 Q210.857 558.925 206.852 558.925 Q204.977 558.925 203.102 559.342 Q201.25 559.759 199.306 560.638 L199.306 543.277 Z\" fill=\"#000000\" fill-rule=\"nonzero\" fill-opacity=\"1\" /><path clip-path=\"url(#clip290)\" d=\"M157.061 360.22 L173.38 360.22 L173.38 364.155 L151.436 364.155 L151.436 360.22 Q154.098 357.465 158.681 352.836 Q163.288 348.183 164.468 346.84 Q166.714 344.317 167.593 342.581 Q168.496 340.822 168.496 339.132 Q168.496 336.377 166.552 334.641 Q164.63 332.905 161.528 332.905 Q159.329 332.905 156.876 333.669 Q154.445 334.433 151.667 335.984 L151.667 331.262 Q154.491 330.127 156.945 329.549 Q159.399 328.97 161.436 328.97 Q166.806 328.97 170.001 331.655 Q173.195 334.34 173.195 338.831 Q173.195 340.961 172.385 342.882 Q171.598 344.78 169.491 347.373 Q168.913 348.044 165.811 351.261 Q162.709 354.456 157.061 360.22 Z\" fill=\"#000000\" fill-rule=\"nonzero\" fill-opacity=\"1\" /><path clip-path=\"url(#clip290)\" d=\"M183.195 358.275 L188.079 358.275 L188.079 364.155 L183.195 364.155 L183.195 358.275 Z\" fill=\"#000000\" fill-rule=\"nonzero\" fill-opacity=\"1\" /><path clip-path=\"url(#clip290)\" d=\"M208.264 332.674 Q204.653 332.674 202.824 336.238 Q201.019 339.78 201.019 346.91 Q201.019 354.016 202.824 357.581 Q204.653 361.123 208.264 361.123 Q211.899 361.123 213.704 357.581 Q215.533 354.016 215.533 346.91 Q215.533 339.78 213.704 336.238 Q211.899 332.674 208.264 332.674 M208.264 328.97 Q214.074 328.97 217.13 333.576 Q220.209 338.16 220.209 346.91 Q220.209 355.636 217.13 360.243 Q214.074 364.826 208.264 364.826 Q202.454 364.826 199.375 360.243 Q196.32 355.636 196.32 346.91 Q196.32 338.16 199.375 333.576 Q202.454 328.97 208.264 328.97 Z\" fill=\"#000000\" fill-rule=\"nonzero\" fill-opacity=\"1\" /><path clip-path=\"url(#clip290)\" d=\"M158.056 146.537 L174.376 146.537 L174.376 150.473 L152.431 150.473 L152.431 146.537 Q155.093 143.783 159.677 139.153 Q164.283 134.5 165.464 133.158 Q167.709 130.635 168.589 128.899 Q169.491 127.139 169.491 125.45 Q169.491 122.695 167.547 120.959 Q165.626 119.223 162.524 119.223 Q160.325 119.223 157.871 119.987 Q155.44 120.75 152.663 122.301 L152.663 117.579 Q155.487 116.445 157.94 115.866 Q160.394 115.288 162.431 115.288 Q167.802 115.288 170.996 117.973 Q174.19 120.658 174.19 125.149 Q174.19 127.278 173.38 129.199 Q172.593 131.098 170.487 133.69 Q169.908 134.362 166.806 137.579 Q163.704 140.774 158.056 146.537 Z\" fill=\"#000000\" fill-rule=\"nonzero\" fill-opacity=\"1\" /><path clip-path=\"url(#clip290)\" d=\"M184.19 144.593 L189.075 144.593 L189.075 150.473 L184.19 150.473 L184.19 144.593 Z\" fill=\"#000000\" fill-rule=\"nonzero\" fill-opacity=\"1\" /><path clip-path=\"url(#clip290)\" d=\"M199.306 115.913 L217.662 115.913 L217.662 119.848 L203.588 119.848 L203.588 128.32 Q204.607 127.973 205.625 127.811 Q206.644 127.625 207.662 127.625 Q213.449 127.625 216.829 130.797 Q220.209 133.968 220.209 139.385 Q220.209 144.963 216.736 148.065 Q213.264 151.144 206.945 151.144 Q204.769 151.144 202.5 150.773 Q200.255 150.403 197.848 149.662 L197.848 144.963 Q199.931 146.098 202.153 146.653 Q204.375 147.209 206.852 147.209 Q210.857 147.209 213.195 145.102 Q215.533 142.996 215.533 139.385 Q215.533 135.774 213.195 133.667 Q210.857 131.561 206.852 131.561 Q204.977 131.561 203.102 131.977 Q201.25 132.394 199.306 133.274 L199.306 115.913 Z\" fill=\"#000000\" fill-rule=\"nonzero\" fill-opacity=\"1\" /><path clip-path=\"url(#clip290)\" d=\"M63.0175 1166.39 L57.161 1166.39 Q58.3069 1163.97 58.9116 1161.49 Q59.5163 1159.01 59.5163 1156.62 Q59.5163 1150.26 55.2513 1146.91 Q50.9545 1143.54 42.2334 1143.06 Q44.9707 1144.91 46.4348 1147.74 Q47.8989 1150.57 47.8989 1154.01 Q47.8989 1161.14 43.6021 1165.31 Q39.2734 1169.45 31.7937 1169.45 Q24.4731 1169.45 20.049 1165.12 Q15.6248 1160.79 15.6248 1153.6 Q15.6248 1145.35 21.9587 1141.03 Q28.2607 1136.66 40.2919 1136.66 Q51.5274 1136.66 58.2432 1142.01 Q64.9272 1147.33 64.9272 1156.33 Q64.9272 1158.75 64.4498 1161.24 Q63.9723 1163.72 63.0175 1166.39 M42.87 1153.6 Q42.87 1149.27 39.91 1146.75 Q36.9499 1144.21 31.7937 1144.21 Q26.6693 1144.21 23.7092 1146.75 Q20.7174 1149.27 20.7174 1153.6 Q20.7174 1157.93 23.7092 1160.47 Q26.6693 1162.99 31.7937 1162.99 Q36.9499 1162.99 39.91 1160.47 Q42.87 1157.93 42.87 1153.6 Z\" fill=\"#000000\" fill-rule=\"nonzero\" fill-opacity=\"1\" /><path clip-path=\"url(#clip290)\" d=\"M16.4842 1125.05 L16.4842 1099.81 L21.895 1099.81 L21.895 1119.16 L33.5443 1119.16 Q33.0668 1117.76 32.844 1116.36 Q32.5894 1114.96 32.5894 1113.56 Q32.5894 1105.6 36.9499 1100.95 Q41.3104 1096.31 48.7583 1096.31 Q56.429 1096.31 60.694 1101.08 Q64.9272 1105.85 64.9272 1114.54 Q64.9272 1117.54 64.4179 1120.65 Q63.9087 1123.74 62.8902 1127.05 L56.429 1127.05 Q57.9886 1124.19 58.7524 1121.13 Q59.5163 1118.08 59.5163 1114.67 Q59.5163 1109.16 56.6199 1105.95 Q53.7235 1102.74 48.7583 1102.74 Q43.793 1102.74 40.8966 1105.95 Q38.0002 1109.16 38.0002 1114.67 Q38.0002 1117.25 38.5732 1119.83 Q39.1461 1122.37 40.3556 1125.05 L16.4842 1125.05 Z\" fill=\"#000000\" fill-rule=\"nonzero\" fill-opacity=\"1\" /><path clip-path=\"url(#clip290)\" d=\"M43.0928 1043.22 Q43.0928 1045.99 45.4481 1047.58 Q47.8034 1049.14 52.0048 1049.14 Q56.1425 1049.14 58.5296 1047.58 Q60.885 1045.99 60.885 1043.22 Q60.885 1040.51 58.5296 1038.95 Q56.1425 1037.36 52.0048 1037.36 Q47.8353 1037.36 45.48 1038.95 Q43.0928 1040.51 43.0928 1043.22 M39.0506 1043.22 Q39.0506 1038.19 42.5517 1035.23 Q46.0529 1032.27 52.0048 1032.27 Q57.9567 1032.27 61.4579 1035.26 Q64.9272 1038.22 64.9272 1043.22 Q64.9272 1048.31 61.4579 1051.27 Q57.9567 1054.23 52.0048 1054.23 Q46.021 1054.23 42.5517 1051.27 Q39.0506 1048.28 39.0506 1043.22 M19.667 1076.06 Q19.667 1078.8 22.0542 1080.39 Q24.4095 1081.95 28.5472 1081.95 Q32.7485 1081.95 35.1038 1080.39 Q37.4592 1078.83 37.4592 1076.06 Q37.4592 1073.29 35.1038 1071.73 Q32.7485 1070.14 28.5472 1070.14 Q24.4413 1070.14 22.0542 1071.73 Q19.667 1073.33 19.667 1076.06 M15.6248 1047.32 L15.6248 1042.23 L64.9272 1071.96 L64.9272 1077.05 L15.6248 1047.32 M15.6248 1076.06 Q15.6248 1071.03 19.1259 1068.04 Q22.5952 1065.05 28.5472 1065.05 Q34.5628 1065.05 38.0321 1068.04 Q41.5014 1071 41.5014 1076.06 Q41.5014 1081.12 38.0321 1084.08 Q34.5309 1087.01 28.5472 1087.01 Q22.6271 1087.01 19.1259 1084.05 Q15.6248 1081.09 15.6248 1076.06 Z\" fill=\"#000000\" fill-rule=\"nonzero\" fill-opacity=\"1\" /><path clip-path=\"url(#clip290)\" d=\"M20.1444 965.968 L26.9239 965.968 Q23.9002 969.215 22.4043 972.907 Q20.9083 976.567 20.9083 980.705 Q20.9083 988.853 25.9054 993.182 Q30.8707 997.51 40.2919 997.51 Q49.6813 997.51 54.6784 993.182 Q59.6436 988.853 59.6436 980.705 Q59.6436 976.567 58.1477 972.907 Q56.6518 969.215 53.6281 965.968 L60.3439 965.968 Q62.6355 969.342 63.7814 973.13 Q64.9272 976.885 64.9272 981.087 Q64.9272 991.877 58.3387 998.083 Q51.7183 1004.29 40.2919 1004.29 Q28.8336 1004.29 22.2451 998.083 Q15.6248 991.877 15.6248 981.087 Q15.6248 976.822 16.7706 973.066 Q17.8846 969.278 20.1444 965.968 Z\" fill=\"#000000\" fill-rule=\"nonzero\" fill-opacity=\"1\" /><path clip-path=\"url(#clip290)\" d=\"M32.4621 942.479 Q32.4621 947.189 36.1542 949.927 Q39.8145 952.664 46.212 952.664 Q52.6095 952.664 56.3017 949.958 Q59.9619 947.221 59.9619 942.479 Q59.9619 937.8 56.2698 935.063 Q52.5777 932.325 46.212 932.325 Q39.8781 932.325 36.186 935.063 Q32.4621 937.8 32.4621 942.479 M27.4968 942.479 Q27.4968 934.84 32.4621 930.479 Q37.4273 926.119 46.212 926.119 Q54.9649 926.119 59.9619 930.479 Q64.9272 934.84 64.9272 942.479 Q64.9272 950.149 59.9619 954.51 Q54.9649 958.839 46.212 958.839 Q37.4273 958.839 32.4621 954.51 Q27.4968 950.149 27.4968 942.479 Z\" fill=\"#000000\" fill-rule=\"nonzero\" fill-opacity=\"1\" /><path clip-path=\"url(#clip290)\" d=\"M42.4881 886.779 L64.0042 886.779 L64.0042 892.635 L42.679 892.635 Q37.6183 892.635 35.1038 894.609 Q32.5894 896.582 32.5894 900.529 Q32.5894 905.271 35.6131 908.008 Q38.6368 910.746 43.8567 910.746 L64.0042 910.746 L64.0042 916.634 L28.3562 916.634 L28.3562 910.746 L33.8944 910.746 Q30.6797 908.645 29.0883 905.812 Q27.4968 902.948 27.4968 899.224 Q27.4968 893.081 31.3163 889.93 Q35.1038 886.779 42.4881 886.779 Z\" fill=\"#000000\" fill-rule=\"nonzero\" fill-opacity=\"1\" /><path clip-path=\"url(#clip290)\" d=\"M14.479 857.051 L19.3487 857.051 L19.3487 862.653 Q19.3487 865.804 20.6219 867.045 Q21.895 868.255 25.2052 868.255 L28.3562 868.255 L28.3562 858.611 L32.9077 858.611 L32.9077 868.255 L64.0042 868.255 L64.0042 874.143 L32.9077 874.143 L32.9077 879.745 L28.3562 879.745 L28.3562 874.143 L25.8736 874.143 Q19.9216 874.143 17.2162 871.374 Q14.479 868.605 14.479 862.589 L14.479 857.051 Z\" fill=\"#000000\" fill-rule=\"nonzero\" fill-opacity=\"1\" /><path clip-path=\"url(#clip290)\" d=\"M28.3562 852.149 L28.3562 846.293 L64.0042 846.293 L64.0042 852.149 L28.3562 852.149 M14.479 852.149 L14.479 846.293 L21.895 846.293 L21.895 852.149 L14.479 852.149 Z\" fill=\"#000000\" fill-rule=\"nonzero\" fill-opacity=\"1\" /><path clip-path=\"url(#clip290)\" d=\"M33.7671 810.581 L14.479 810.581 L14.479 804.725 L64.0042 804.725 L64.0042 810.581 L58.657 810.581 Q61.8398 812.427 63.3994 815.26 Q64.9272 818.061 64.9272 822.008 Q64.9272 828.469 59.771 832.543 Q54.6147 836.585 46.212 836.585 Q37.8093 836.585 32.6531 832.543 Q27.4968 828.469 27.4968 822.008 Q27.4968 818.061 29.0564 815.26 Q30.5842 812.427 33.7671 810.581 M46.212 830.538 Q52.6732 830.538 56.3653 827.896 Q60.0256 825.222 60.0256 820.575 Q60.0256 815.928 56.3653 813.255 Q52.6732 810.581 46.212 810.581 Q39.7508 810.581 36.0905 813.255 Q32.3984 815.928 32.3984 820.575 Q32.3984 825.222 36.0905 827.896 Q39.7508 830.538 46.212 830.538 Z\" fill=\"#000000\" fill-rule=\"nonzero\" fill-opacity=\"1\" /><path clip-path=\"url(#clip290)\" d=\"M44.7161 762.17 L47.5806 762.17 L47.5806 789.097 Q53.6281 788.715 56.8109 785.469 Q59.9619 782.19 59.9619 776.366 Q59.9619 772.992 59.1344 769.841 Q58.3069 766.658 56.6518 763.539 L62.1899 763.539 Q63.5267 766.69 64.227 770 Q64.9272 773.31 64.9272 776.716 Q64.9272 785.246 59.9619 790.243 Q54.9967 795.208 46.5303 795.208 Q37.7774 795.208 32.6531 790.497 Q27.4968 785.755 27.4968 777.734 Q27.4968 770.541 32.1438 766.371 Q36.7589 762.17 44.7161 762.17 M42.9973 768.027 Q38.1912 768.09 35.3266 770.732 Q32.4621 773.342 32.4621 777.671 Q32.4621 782.572 35.2312 785.532 Q38.0002 788.46 43.0292 788.906 L42.9973 768.027 Z\" fill=\"#000000\" fill-rule=\"nonzero\" fill-opacity=\"1\" /><path clip-path=\"url(#clip290)\" d=\"M42.4881 722.926 L64.0042 722.926 L64.0042 728.782 L42.679 728.782 Q37.6183 728.782 35.1038 730.755 Q32.5894 732.729 32.5894 736.675 Q32.5894 741.418 35.6131 744.155 Q38.6368 746.892 43.8567 746.892 L64.0042 746.892 L64.0042 752.781 L28.3562 752.781 L28.3562 746.892 L33.8944 746.892 Q30.6797 744.792 29.0883 741.959 Q27.4968 739.094 27.4968 735.37 Q27.4968 729.228 31.3163 726.077 Q35.1038 722.926 42.4881 722.926 Z\" fill=\"#000000\" fill-rule=\"nonzero\" fill-opacity=\"1\" /><path clip-path=\"url(#clip290)\" d=\"M29.7248 685.591 L35.1993 685.591 Q33.8307 688.073 33.1623 690.588 Q32.4621 693.07 32.4621 695.617 Q32.4621 701.314 36.0905 704.465 Q39.6872 707.616 46.212 707.616 Q52.7369 707.616 56.3653 704.465 Q59.9619 701.314 59.9619 695.617 Q59.9619 693.07 59.2935 690.588 Q58.5933 688.073 57.2247 685.591 L62.6355 685.591 Q63.7814 688.041 64.3543 690.683 Q64.9272 693.293 64.9272 696.253 Q64.9272 704.306 59.8664 709.048 Q54.8057 713.791 46.212 713.791 Q37.491 713.791 32.4939 709.016 Q27.4968 704.21 27.4968 695.871 Q27.4968 693.166 28.0697 690.588 Q28.6108 688.01 29.7248 685.591 Z\" fill=\"#000000\" fill-rule=\"nonzero\" fill-opacity=\"1\" /><path clip-path=\"url(#clip290)\" d=\"M44.7161 644.914 L47.5806 644.914 L47.5806 671.841 Q53.6281 671.459 56.8109 668.212 Q59.9619 664.934 59.9619 659.109 Q59.9619 655.735 59.1344 652.584 Q58.3069 649.402 56.6518 646.282 L62.1899 646.282 Q63.5267 649.433 64.227 652.744 Q64.9272 656.054 64.9272 659.459 Q64.9272 667.989 59.9619 672.987 Q54.9967 677.952 46.5303 677.952 Q37.7774 677.952 32.6531 673.241 Q27.4968 668.499 27.4968 660.478 Q27.4968 653.285 32.1438 649.115 Q36.7589 644.914 44.7161 644.914 M42.9973 650.77 Q38.1912 650.834 35.3266 653.476 Q32.4621 656.086 32.4621 660.414 Q32.4621 665.316 35.2312 668.276 Q38.0002 671.204 43.0292 671.65 L42.9973 650.77 Z\" fill=\"#000000\" fill-rule=\"nonzero\" fill-opacity=\"1\" /><path clip-path=\"url(#clip290)\" d=\"M16.4842 614.327 L16.4842 607.897 L64.0042 607.897 L64.0042 614.327 L16.4842 614.327 Z\" fill=\"#000000\" fill-rule=\"nonzero\" fill-opacity=\"1\" /><path clip-path=\"url(#clip290)\" d=\"M42.4881 565.724 L64.0042 565.724 L64.0042 571.581 L42.679 571.581 Q37.6183 571.581 35.1038 573.554 Q32.5894 575.528 32.5894 579.474 Q32.5894 584.217 35.6131 586.954 Q38.6368 589.691 43.8567 589.691 L64.0042 589.691 L64.0042 595.58 L28.3562 595.58 L28.3562 589.691 L33.8944 589.691 Q30.6797 587.591 29.0883 584.758 Q27.4968 581.893 27.4968 578.169 Q27.4968 572.026 31.3163 568.875 Q35.1038 565.724 42.4881 565.724 Z\" fill=\"#000000\" fill-rule=\"nonzero\" fill-opacity=\"1\" /><path clip-path=\"url(#clip290)\" d=\"M18.2347 548.251 L28.3562 548.251 L28.3562 536.187 L32.9077 536.187 L32.9077 548.251 L52.2594 548.251 Q56.6199 548.251 57.8613 547.073 Q59.1026 545.863 59.1026 542.203 L59.1026 536.187 L64.0042 536.187 L64.0042 542.203 Q64.0042 548.983 61.4897 551.561 Q58.9434 554.139 52.2594 554.139 L32.9077 554.139 L32.9077 558.436 L28.3562 558.436 L28.3562 554.139 L18.2347 554.139 L18.2347 548.251 Z\" fill=\"#000000\" fill-rule=\"nonzero\" fill-opacity=\"1\" /><path clip-path=\"url(#clip290)\" d=\"M44.7161 497.993 L47.5806 497.993 L47.5806 524.92 Q53.6281 524.538 56.8109 521.292 Q59.9619 518.013 59.9619 512.189 Q59.9619 508.815 59.1344 505.664 Q58.3069 502.481 56.6518 499.362 L62.1899 499.362 Q63.5267 502.513 64.227 505.823 Q64.9272 509.133 64.9272 512.539 Q64.9272 521.069 59.9619 526.066 Q54.9967 531.031 46.5303 531.031 Q37.7774 531.031 32.6531 526.321 Q27.4968 521.578 27.4968 513.557 Q27.4968 506.364 32.1438 502.195 Q36.7589 497.993 44.7161 497.993 M42.9973 503.85 Q38.1912 503.913 35.3266 506.555 Q32.4621 509.165 32.4621 513.494 Q32.4621 518.395 35.2312 521.355 Q38.0002 524.284 43.0292 524.729 L42.9973 503.85 Z\" fill=\"#000000\" fill-rule=\"nonzero\" fill-opacity=\"1\" /><path clip-path=\"url(#clip290)\" d=\"M33.8307 467.724 Q33.2578 468.711 33.0032 469.889 Q32.7167 471.034 32.7167 472.435 Q32.7167 477.4 35.9632 480.074 Q39.1779 482.716 45.2253 482.716 L64.0042 482.716 L64.0042 488.604 L28.3562 488.604 L28.3562 482.716 L33.8944 482.716 Q30.6479 480.87 29.0883 477.909 Q27.4968 474.949 27.4968 470.716 Q27.4968 470.111 27.5923 469.379 Q27.656 468.647 27.8151 467.756 L33.8307 467.724 Z\" fill=\"#000000\" fill-rule=\"nonzero\" fill-opacity=\"1\" /><path clip-path=\"url(#clip290)\" d=\"M28.3562 465.783 L28.3562 459.576 L58.275 448.436 L28.3562 437.296 L28.3562 431.09 L64.0042 444.458 L64.0042 452.415 L28.3562 465.783 Z\" fill=\"#000000\" fill-rule=\"nonzero\" fill-opacity=\"1\" /><path clip-path=\"url(#clip290)\" d=\"M46.0847 406.805 Q46.0847 413.902 47.7079 416.64 Q49.3312 419.377 53.2461 419.377 Q56.3653 419.377 58.2114 417.34 Q60.0256 415.271 60.0256 411.738 Q60.0256 406.868 56.5881 403.94 Q53.1188 400.98 47.3897 400.98 L46.0847 400.98 L46.0847 406.805 M43.6657 395.123 L64.0042 395.123 L64.0042 400.98 L58.5933 400.98 Q61.8398 402.985 63.3994 405.977 Q64.9272 408.969 64.9272 413.298 Q64.9272 418.772 61.8716 422.019 Q58.7843 425.233 53.6281 425.233 Q47.6125 425.233 44.5569 421.223 Q41.5014 417.181 41.5014 409.192 L41.5014 400.98 L40.9285 400.98 Q36.8862 400.98 34.6901 403.653 Q32.4621 406.295 32.4621 411.101 Q32.4621 414.157 33.1941 417.053 Q33.9262 419.95 35.3903 422.623 L29.9795 422.623 Q28.7381 419.409 28.1334 416.385 Q27.4968 413.361 27.4968 410.497 Q27.4968 402.762 31.5072 398.943 Q35.5176 395.123 43.6657 395.123 Z\" fill=\"#000000\" fill-rule=\"nonzero\" fill-opacity=\"1\" /><path clip-path=\"url(#clip290)\" d=\"M14.479 383.06 L14.479 377.204 L64.0042 377.204 L64.0042 383.06 L14.479 383.06 Z\" fill=\"#000000\" fill-rule=\"nonzero\" fill-opacity=\"1\" /><path clip-path=\"url(#clip290)\" d=\"M752.182 16.7545 L752.182 25.383 Q748.05 21.5346 743.351 19.6307 Q738.692 17.7268 733.426 17.7268 Q723.056 17.7268 717.547 24.0867 Q712.038 30.4061 712.038 42.3968 Q712.038 54.3469 717.547 60.7069 Q723.056 67.0263 733.426 67.0263 Q738.692 67.0263 743.351 65.1223 Q748.05 63.2184 752.182 59.3701 L752.182 67.9175 Q747.888 70.8341 743.067 72.2924 Q738.287 73.7508 732.94 73.7508 Q719.208 73.7508 711.308 65.3654 Q703.409 56.9395 703.409 42.3968 Q703.409 27.8135 711.308 19.4281 Q719.208 11.0023 732.94 11.0023 Q738.368 11.0023 743.148 12.4606 Q747.969 13.8784 752.182 16.7545 Z\" fill=\"#000000\" fill-rule=\"nonzero\" fill-opacity=\"1\" /><path clip-path=\"url(#clip290)\" d=\"M782.078 32.4315 Q776.082 32.4315 772.599 37.1306 Q769.115 41.7891 769.115 49.9314 Q769.115 58.0738 772.558 62.7728 Q776.042 67.4314 782.078 67.4314 Q788.033 67.4314 791.516 62.7323 Q795 58.0333 795 49.9314 Q795 41.8701 791.516 37.1711 Q788.033 32.4315 782.078 32.4315 M782.078 26.1121 Q791.8 26.1121 797.35 32.4315 Q802.899 38.7509 802.899 49.9314 Q802.899 61.0714 797.35 67.4314 Q791.8 73.7508 782.078 73.7508 Q772.315 73.7508 766.765 67.4314 Q761.256 61.0714 761.256 49.9314 Q761.256 38.7509 766.765 32.4315 Q772.315 26.1121 782.078 26.1121 Z\" fill=\"#000000\" fill-rule=\"nonzero\" fill-opacity=\"1\" /><path clip-path=\"url(#clip290)\" d=\"M852.969 45.1919 L852.969 72.576 L845.515 72.576 L845.515 45.4349 Q845.515 38.994 843.003 35.7938 Q840.492 32.5936 835.469 32.5936 Q829.433 32.5936 825.949 36.4419 Q822.465 40.2903 822.465 46.9338 L822.465 72.576 L814.971 72.576 L814.971 27.2059 L822.465 27.2059 L822.465 34.2544 Q825.139 30.163 828.744 28.1376 Q832.39 26.1121 837.129 26.1121 Q844.948 26.1121 848.958 30.9732 Q852.969 35.7938 852.969 45.1919 Z\" fill=\"#000000\" fill-rule=\"nonzero\" fill-opacity=\"1\" /><path clip-path=\"url(#clip290)\" d=\"M890.804 9.54393 L890.804 15.7418 L883.674 15.7418 Q879.664 15.7418 878.084 17.3622 Q876.545 18.9825 876.545 23.1955 L876.545 27.2059 L888.819 27.2059 L888.819 32.9987 L876.545 32.9987 L876.545 72.576 L869.051 72.576 L869.051 32.9987 L861.921 32.9987 L861.921 27.2059 L869.051 27.2059 L869.051 24.0462 Q869.051 16.471 872.575 13.0277 Q876.099 9.54393 883.755 9.54393 L890.804 9.54393 Z\" fill=\"#000000\" fill-rule=\"nonzero\" fill-opacity=\"1\" /><path clip-path=\"url(#clip290)\" d=\"M897.042 27.2059 L904.496 27.2059 L904.496 72.576 L897.042 72.576 L897.042 27.2059 M897.042 9.54393 L904.496 9.54393 L904.496 18.9825 L897.042 18.9825 L897.042 9.54393 Z\" fill=\"#000000\" fill-rule=\"nonzero\" fill-opacity=\"1\" /><path clip-path=\"url(#clip290)\" d=\"M949.947 34.0924 L949.947 9.54393 L957.401 9.54393 L957.401 72.576 L949.947 72.576 L949.947 65.7705 Q947.598 69.8214 943.992 71.8063 Q940.428 73.7508 935.404 73.7508 Q927.181 73.7508 921.996 67.1883 Q916.851 60.6258 916.851 49.9314 Q916.851 39.2371 921.996 32.6746 Q927.181 26.1121 935.404 26.1121 Q940.428 26.1121 943.992 28.0971 Q947.598 30.0415 949.947 34.0924 M924.548 49.9314 Q924.548 58.1548 927.91 62.8538 Q931.313 67.5124 937.227 67.5124 Q943.142 67.5124 946.544 62.8538 Q949.947 58.1548 949.947 49.9314 Q949.947 41.7081 946.544 37.0496 Q943.142 32.3505 937.227 32.3505 Q931.313 32.3505 927.91 37.0496 Q924.548 41.7081 924.548 49.9314 Z\" fill=\"#000000\" fill-rule=\"nonzero\" fill-opacity=\"1\" /><path clip-path=\"url(#clip290)\" d=\"M1011.56 48.0275 L1011.56 51.6733 L977.291 51.6733 Q977.777 59.3701 981.909 63.421 Q986.081 67.4314 993.494 67.4314 Q997.788 67.4314 1001.8 66.3781 Q1005.85 65.3249 1009.82 63.2184 L1009.82 70.267 Q1005.81 71.9684 1001.6 72.8596 Q997.383 73.7508 993.049 73.7508 Q982.192 73.7508 975.832 67.4314 Q969.513 61.1119 969.513 50.3365 Q969.513 39.1965 975.508 32.6746 Q981.544 26.1121 991.752 26.1121 Q1000.91 26.1121 1006.21 32.0264 Q1011.56 37.9003 1011.56 48.0275 M1004.11 45.84 Q1004.03 39.7232 1000.66 36.0774 Q997.343 32.4315 991.833 32.4315 Q985.595 32.4315 981.828 35.9558 Q978.101 39.4801 977.534 45.8805 L1004.11 45.84 Z\" fill=\"#000000\" fill-rule=\"nonzero\" fill-opacity=\"1\" /><path clip-path=\"url(#clip290)\" d=\"M1061.51 45.1919 L1061.51 72.576 L1054.06 72.576 L1054.06 45.4349 Q1054.06 38.994 1051.54 35.7938 Q1049.03 32.5936 1044.01 32.5936 Q1037.97 32.5936 1034.49 36.4419 Q1031.01 40.2903 1031.01 46.9338 L1031.01 72.576 L1023.51 72.576 L1023.51 27.2059 L1031.01 27.2059 L1031.01 34.2544 Q1033.68 30.163 1037.28 28.1376 Q1040.93 26.1121 1045.67 26.1121 Q1053.49 26.1121 1057.5 30.9732 Q1061.51 35.7938 1061.51 45.1919 Z\" fill=\"#000000\" fill-rule=\"nonzero\" fill-opacity=\"1\" /><path clip-path=\"url(#clip290)\" d=\"M1109.03 28.9478 L1109.03 35.9153 Q1105.87 34.1734 1102.67 33.3227 Q1099.51 32.4315 1096.27 32.4315 Q1089.01 32.4315 1085 37.0496 Q1080.99 41.6271 1080.99 49.9314 Q1080.99 58.2358 1085 62.8538 Q1089.01 67.4314 1096.27 67.4314 Q1099.51 67.4314 1102.67 66.5807 Q1105.87 65.6895 1109.03 63.9476 L1109.03 70.8341 Q1105.91 72.2924 1102.54 73.0216 Q1099.22 73.7508 1095.46 73.7508 Q1085.21 73.7508 1079.17 67.3098 Q1073.14 60.8689 1073.14 49.9314 Q1073.14 38.832 1079.21 32.472 Q1085.33 26.1121 1095.94 26.1121 Q1099.39 26.1121 1102.67 26.8413 Q1105.95 27.5299 1109.03 28.9478 Z\" fill=\"#000000\" fill-rule=\"nonzero\" fill-opacity=\"1\" /><path clip-path=\"url(#clip290)\" d=\"M1160.8 48.0275 L1160.8 51.6733 L1126.53 51.6733 Q1127.01 59.3701 1131.14 63.421 Q1135.32 67.4314 1142.73 67.4314 Q1147.02 67.4314 1151.03 66.3781 Q1155.08 65.3249 1159.05 63.2184 L1159.05 70.267 Q1155.04 71.9684 1150.83 72.8596 Q1146.62 73.7508 1142.28 73.7508 Q1131.43 73.7508 1125.07 67.4314 Q1118.75 61.1119 1118.75 50.3365 Q1118.75 39.1965 1124.74 32.6746 Q1130.78 26.1121 1140.99 26.1121 Q1150.14 26.1121 1155.45 32.0264 Q1160.8 37.9003 1160.8 48.0275 M1153.34 45.84 Q1153.26 39.7232 1149.9 36.0774 Q1146.58 32.4315 1141.07 32.4315 Q1134.83 32.4315 1131.06 35.9558 Q1127.34 39.4801 1126.77 45.8805 L1153.34 45.84 Z\" fill=\"#000000\" fill-rule=\"nonzero\" fill-opacity=\"1\" /><path clip-path=\"url(#clip290)\" d=\"M1199.73 12.096 L1207.91 12.096 L1207.91 72.576 L1199.73 72.576 L1199.73 12.096 Z\" fill=\"#000000\" fill-rule=\"nonzero\" fill-opacity=\"1\" /><path clip-path=\"url(#clip290)\" d=\"M1261.58 45.1919 L1261.58 72.576 L1254.13 72.576 L1254.13 45.4349 Q1254.13 38.994 1251.62 35.7938 Q1249.11 32.5936 1244.08 32.5936 Q1238.05 32.5936 1234.56 36.4419 Q1231.08 40.2903 1231.08 46.9338 L1231.08 72.576 L1223.59 72.576 L1223.59 27.2059 L1231.08 27.2059 L1231.08 34.2544 Q1233.75 30.163 1237.36 28.1376 Q1241 26.1121 1245.74 26.1121 Q1253.56 26.1121 1257.57 30.9732 Q1261.58 35.7938 1261.58 45.1919 Z\" fill=\"#000000\" fill-rule=\"nonzero\" fill-opacity=\"1\" /><path clip-path=\"url(#clip290)\" d=\"M1283.82 14.324 L1283.82 27.2059 L1299.18 27.2059 L1299.18 32.9987 L1283.82 32.9987 L1283.82 57.6282 Q1283.82 63.1779 1285.32 64.7578 Q1286.86 66.3376 1291.52 66.3376 L1299.18 66.3376 L1299.18 72.576 L1291.52 72.576 Q1282.89 72.576 1279.61 69.3758 Q1276.33 66.1351 1276.33 57.6282 L1276.33 32.9987 L1270.86 32.9987 L1270.86 27.2059 L1276.33 27.2059 L1276.33 14.324 L1283.82 14.324 Z\" fill=\"#000000\" fill-rule=\"nonzero\" fill-opacity=\"1\" /><path clip-path=\"url(#clip290)\" d=\"M1347.79 48.0275 L1347.79 51.6733 L1313.52 51.6733 Q1314 59.3701 1318.13 63.421 Q1322.31 67.4314 1329.72 67.4314 Q1334.01 67.4314 1338.02 66.3781 Q1342.07 65.3249 1346.04 63.2184 L1346.04 70.267 Q1342.03 71.9684 1337.82 72.8596 Q1333.61 73.7508 1329.27 73.7508 Q1318.42 73.7508 1312.06 67.4314 Q1305.74 61.1119 1305.74 50.3365 Q1305.74 39.1965 1311.73 32.6746 Q1317.77 26.1121 1327.98 26.1121 Q1337.13 26.1121 1342.44 32.0264 Q1347.79 37.9003 1347.79 48.0275 M1340.33 45.84 Q1340.25 39.7232 1336.89 36.0774 Q1333.57 32.4315 1328.06 32.4315 Q1321.82 32.4315 1318.05 35.9558 Q1314.33 39.4801 1313.76 45.8805 L1340.33 45.84 Z\" fill=\"#000000\" fill-rule=\"nonzero\" fill-opacity=\"1\" /><path clip-path=\"url(#clip290)\" d=\"M1386.31 34.1734 Q1385.05 33.4443 1383.56 33.1202 Q1382.1 32.7556 1380.32 32.7556 Q1374 32.7556 1370.59 36.8875 Q1367.23 40.9789 1367.23 48.6757 L1367.23 72.576 L1359.74 72.576 L1359.74 27.2059 L1367.23 27.2059 L1367.23 34.2544 Q1369.58 30.1225 1373.35 28.1376 Q1377.11 26.1121 1382.5 26.1121 Q1383.27 26.1121 1384.2 26.2337 Q1385.14 26.3147 1386.27 26.5172 L1386.31 34.1734 Z\" fill=\"#000000\" fill-rule=\"nonzero\" fill-opacity=\"1\" /><path clip-path=\"url(#clip290)\" d=\"M1388.78 27.2059 L1396.68 27.2059 L1410.86 65.2844 L1425.04 27.2059 L1432.94 27.2059 L1415.92 72.576 L1405.8 72.576 L1388.78 27.2059 Z\" fill=\"#000000\" fill-rule=\"nonzero\" fill-opacity=\"1\" /><path clip-path=\"url(#clip290)\" d=\"M1463.84 49.7694 Q1454.81 49.7694 1451.33 51.8354 Q1447.84 53.9013 1447.84 58.8839 Q1447.84 62.8538 1450.44 65.2034 Q1453.07 67.5124 1457.57 67.5124 Q1463.76 67.5124 1467.49 63.1374 Q1471.26 58.7219 1471.26 51.4303 L1471.26 49.7694 L1463.84 49.7694 M1478.71 46.6907 L1478.71 72.576 L1471.26 72.576 L1471.26 65.6895 Q1468.71 69.8214 1464.9 71.8063 Q1461.09 73.7508 1455.58 73.7508 Q1448.61 73.7508 1444.48 69.8619 Q1440.39 65.9325 1440.39 59.3701 Q1440.39 51.7138 1445.49 47.825 Q1450.64 43.9361 1460.81 43.9361 L1471.26 43.9361 L1471.26 43.2069 Q1471.26 38.0623 1467.86 35.2672 Q1464.49 32.4315 1458.38 32.4315 Q1454.49 32.4315 1450.8 33.3632 Q1447.11 34.295 1443.71 36.1584 L1443.71 29.2718 Q1447.8 27.692 1451.65 26.9223 Q1455.5 26.1121 1459.15 26.1121 Q1468.99 26.1121 1473.85 31.2163 Q1478.71 36.3204 1478.71 46.6907 Z\" fill=\"#000000\" fill-rule=\"nonzero\" fill-opacity=\"1\" /><path clip-path=\"url(#clip290)\" d=\"M1494.06 9.54393 L1501.52 9.54393 L1501.52 72.576 L1494.06 72.576 L1494.06 9.54393 Z\" fill=\"#000000\" fill-rule=\"nonzero\" fill-opacity=\"1\" /><path clip-path=\"url(#clip290)\" d=\"M1546.04 28.5427 L1546.04 35.5912 Q1542.88 33.9709 1539.48 33.1607 Q1536.07 32.3505 1532.43 32.3505 Q1526.88 32.3505 1524.08 34.0519 Q1521.33 35.7533 1521.33 39.156 Q1521.33 41.7486 1523.31 43.2475 Q1525.3 44.7058 1531.29 46.0426 L1533.84 46.6097 Q1541.78 48.3111 1545.11 51.4303 Q1548.47 54.509 1548.47 60.0587 Q1548.47 66.3781 1543.45 70.0644 Q1538.46 73.7508 1529.71 73.7508 Q1526.07 73.7508 1522.1 73.0216 Q1518.17 72.3329 1513.79 70.9151 L1513.79 63.2184 Q1517.92 65.3654 1521.93 66.4591 Q1525.95 67.5124 1529.87 67.5124 Q1535.14 67.5124 1537.98 65.73 Q1540.81 63.9071 1540.81 60.6258 Q1540.81 57.5877 1538.75 55.9673 Q1536.72 54.3469 1529.79 52.8481 L1527.2 52.2405 Q1520.27 50.7821 1517.2 47.7845 Q1514.12 44.7463 1514.12 39.4801 Q1514.12 33.0797 1518.65 29.5959 Q1523.19 26.1121 1531.54 26.1121 Q1535.67 26.1121 1539.31 26.7198 Q1542.96 27.3274 1546.04 28.5427 Z\" fill=\"#000000\" fill-rule=\"nonzero\" fill-opacity=\"1\" /><path clip-path=\"url(#clip290)\" d=\"M1604.29 32.4315 Q1598.29 32.4315 1594.81 37.1306 Q1591.33 41.7891 1591.33 49.9314 Q1591.33 58.0738 1594.77 62.7728 Q1598.25 67.4314 1604.29 67.4314 Q1610.24 67.4314 1613.73 62.7323 Q1617.21 58.0333 1617.21 49.9314 Q1617.21 41.8701 1613.73 37.1711 Q1610.24 32.4315 1604.29 32.4315 M1604.29 26.1121 Q1614.01 26.1121 1619.56 32.4315 Q1625.11 38.7509 1625.11 49.9314 Q1625.11 61.0714 1619.56 67.4314 Q1614.01 73.7508 1604.29 73.7508 Q1594.53 73.7508 1588.98 67.4314 Q1583.47 61.0714 1583.47 49.9314 Q1583.47 38.7509 1588.98 32.4315 Q1594.53 26.1121 1604.29 26.1121 Z\" fill=\"#000000\" fill-rule=\"nonzero\" fill-opacity=\"1\" /><path clip-path=\"url(#clip290)\" d=\"M1660.44 9.54393 L1660.44 15.7418 L1653.31 15.7418 Q1649.3 15.7418 1647.72 17.3622 Q1646.18 18.9825 1646.18 23.1955 L1646.18 27.2059 L1658.45 27.2059 L1658.45 32.9987 L1646.18 32.9987 L1646.18 72.576 L1638.68 72.576 L1638.68 32.9987 L1631.55 32.9987 L1631.55 27.2059 L1638.68 27.2059 L1638.68 24.0462 Q1638.68 16.471 1642.21 13.0277 Q1645.73 9.54393 1653.39 9.54393 L1660.44 9.54393 Z\" fill=\"#000000\" fill-rule=\"nonzero\" fill-opacity=\"1\" /><path clip-path=\"url(#clip290)\" d=\"M1700.5 69.7809 L1700.5 89.8329 L1693 89.8329 L1693 27.4894 Q1693 9.01731 1710.26 9.01731 Q1727.84 9.01731 1727.84 24.6133 Q1727.84 35.7128 1720.87 39.7637 Q1732.22 43.4095 1732.22 54.2254 Q1732.22 73.4267 1712.69 73.4267 Q1704.1 73.4267 1700.5 69.7809 M1700.5 60.0587 Q1705 67.0668 1712.98 67.0668 Q1724.64 67.0668 1724.64 54.3469 Q1724.64 42.9234 1705.85 43.8146 L1705.85 36.928 Q1720.55 36.928 1720.55 23.9651 Q1720.55 15.0937 1711.07 15.0937 Q1700.5 15.0937 1700.5 27.7325 L1700.5 60.0587 Z\" fill=\"#000000\" fill-rule=\"nonzero\" fill-opacity=\"1\" /><path clip-path=\"url(#clip290)\" d=\"M1773.33 34.9026 L1825.27 34.9026 L1825.27 41.7081 L1773.33 41.7081 L1773.33 34.9026 M1773.33 51.4303 L1825.27 51.4303 L1825.27 58.3168 L1773.33 58.3168 L1773.33 51.4303 Z\" fill=\"#000000\" fill-rule=\"nonzero\" fill-opacity=\"1\" /><path clip-path=\"url(#clip290)\" d=\"M1870.72 65.6895 L1884.09 65.6895 L1884.09 19.5497 L1869.54 22.4663 L1869.54 15.0127 L1884 12.096 L1892.19 12.096 L1892.19 65.6895 L1905.56 65.6895 L1905.56 72.576 L1870.72 72.576 L1870.72 65.6895 Z\" fill=\"#000000\" fill-rule=\"nonzero\" fill-opacity=\"1\" /><polyline clip-path=\"url(#clip292)\" style=\"stroke:#0000ff; stroke-linecap:round; stroke-linejoin:round; stroke-width:8; stroke-opacity:1; fill:none\" points=\"315.545,1386.4 315.545,160.256 \"/>\n",
       "<polyline clip-path=\"url(#clip292)\" style=\"stroke:#0000ff; stroke-linecap:round; stroke-linejoin:round; stroke-width:8; stroke-opacity:1; fill:none\" points=\"598.098,1193.99 598.098,467.08 \"/>\n",
       "<polyline clip-path=\"url(#clip292)\" style=\"stroke:#0000ff; stroke-linecap:round; stroke-linejoin:round; stroke-width:8; stroke-opacity:1; fill:none\" points=\"880.652,1130.86 880.652,569.389 \"/>\n",
       "<polyline clip-path=\"url(#clip292)\" style=\"stroke:#0000ff; stroke-linecap:round; stroke-linejoin:round; stroke-width:8; stroke-opacity:1; fill:none\" points=\"1163.21,1051.5 1163.21,567.444 \"/>\n",
       "<polyline clip-path=\"url(#clip292)\" style=\"stroke:#0000ff; stroke-linecap:round; stroke-linejoin:round; stroke-width:8; stroke-opacity:1; fill:none\" points=\"1445.76,1022.14 1445.76,594.443 \"/>\n",
       "<polyline clip-path=\"url(#clip292)\" style=\"stroke:#0000ff; stroke-linecap:round; stroke-linejoin:round; stroke-width:8; stroke-opacity:1; fill:none\" points=\"1728.31,999.503 1728.31,611.834 \"/>\n",
       "<polyline clip-path=\"url(#clip292)\" style=\"stroke:#0000ff; stroke-linecap:round; stroke-linejoin:round; stroke-width:8; stroke-opacity:1; fill:none\" points=\"2010.87,983.267 2010.87,626.08 \"/>\n",
       "<polyline clip-path=\"url(#clip292)\" style=\"stroke:#0000ff; stroke-linecap:round; stroke-linejoin:round; stroke-width:8; stroke-opacity:1; fill:none\" points=\"2293.42,967.488 2293.42,632.786 \"/>\n",
       "<path clip-path=\"url(#clip290)\" d=\"M1898.56 270.476 L2282.87 270.476 L2282.87 166.796 L1898.56 166.796  Z\" fill=\"#ffffff\" fill-rule=\"evenodd\" fill-opacity=\"1\"/>\n",
       "<polyline clip-path=\"url(#clip290)\" style=\"stroke:#000000; stroke-linecap:round; stroke-linejoin:round; stroke-width:4; stroke-opacity:1; fill:none\" points=\"1898.56,270.476 2282.87,270.476 2282.87,166.796 1898.56,166.796 1898.56,270.476 \"/>\n",
       "<polyline clip-path=\"url(#clip290)\" style=\"stroke:#0000ff; stroke-linecap:round; stroke-linejoin:round; stroke-width:8; stroke-opacity:1; fill:none\" points=\"1921.86,218.636 2061.63,218.636 \"/>\n",
       "<path clip-path=\"url(#clip290)\" d=\"M2100.94 204.527 Q2095.85 204.527 2092.84 208.323 Q2089.85 212.12 2089.85 218.67 Q2089.85 225.198 2092.84 228.994 Q2095.85 232.791 2100.94 232.791 Q2106.04 232.791 2109 228.994 Q2111.98 225.198 2111.98 218.67 Q2111.98 212.12 2109 208.323 Q2106.04 204.527 2100.94 204.527 M2100.94 200.731 Q2108.21 200.731 2112.56 205.615 Q2116.91 210.476 2116.91 218.67 Q2116.91 226.842 2112.56 231.726 Q2108.21 236.587 2100.94 236.587 Q2093.65 236.587 2089.28 231.726 Q2084.92 226.865 2084.92 218.67 Q2084.92 210.476 2089.28 205.615 Q2093.65 200.731 2100.94 200.731 Z\" fill=\"#000000\" fill-rule=\"nonzero\" fill-opacity=\"1\" /><path clip-path=\"url(#clip290)\" d=\"M2145.6 220.268 L2145.6 235.916 L2141.34 235.916 L2141.34 220.407 Q2141.34 216.726 2139.9 214.897 Q2138.47 213.069 2135.6 213.069 Q2132.15 213.069 2130.16 215.268 Q2128.16 217.467 2128.16 221.263 L2128.16 235.916 L2123.88 235.916 L2123.88 209.99 L2128.16 209.99 L2128.16 214.018 Q2129.69 211.68 2131.75 210.522 Q2133.84 209.365 2136.54 209.365 Q2141.01 209.365 2143.3 212.143 Q2145.6 214.897 2145.6 220.268 Z\" fill=\"#000000\" fill-rule=\"nonzero\" fill-opacity=\"1\" /><path clip-path=\"url(#clip290)\" d=\"M2154.09 199.897 L2158.35 199.897 L2158.35 235.916 L2154.09 235.916 L2154.09 199.897 Z\" fill=\"#000000\" fill-rule=\"nonzero\" fill-opacity=\"1\" /><path clip-path=\"url(#clip290)\" d=\"M2167.26 209.99 L2171.52 209.99 L2171.52 235.916 L2167.26 235.916 L2167.26 209.99 M2167.26 199.897 L2171.52 199.897 L2171.52 205.291 L2167.26 205.291 L2167.26 199.897 Z\" fill=\"#000000\" fill-rule=\"nonzero\" fill-opacity=\"1\" /><path clip-path=\"url(#clip290)\" d=\"M2201.98 220.268 L2201.98 235.916 L2197.72 235.916 L2197.72 220.407 Q2197.72 216.726 2196.29 214.897 Q2194.85 213.069 2191.98 213.069 Q2188.53 213.069 2186.54 215.268 Q2184.55 217.467 2184.55 221.263 L2184.55 235.916 L2180.27 235.916 L2180.27 209.99 L2184.55 209.99 L2184.55 214.018 Q2186.08 211.68 2188.14 210.522 Q2190.22 209.365 2192.93 209.365 Q2197.4 209.365 2199.69 212.143 Q2201.98 214.897 2201.98 220.268 Z\" fill=\"#000000\" fill-rule=\"nonzero\" fill-opacity=\"1\" /><path clip-path=\"url(#clip290)\" d=\"M2232.65 221.888 L2232.65 223.971 L2213.07 223.971 Q2213.35 228.369 2215.71 230.684 Q2218.09 232.976 2222.33 232.976 Q2224.78 232.976 2227.08 232.374 Q2229.39 231.772 2231.66 230.569 L2231.66 234.596 Q2229.37 235.568 2226.96 236.078 Q2224.55 236.587 2222.08 236.587 Q2215.87 236.587 2212.24 232.976 Q2208.63 229.365 2208.63 223.207 Q2208.63 216.842 2212.05 213.115 Q2215.5 209.365 2221.34 209.365 Q2226.57 209.365 2229.6 212.745 Q2232.65 216.101 2232.65 221.888 M2228.4 220.638 Q2228.35 217.143 2226.43 215.059 Q2224.53 212.976 2221.38 212.976 Q2217.82 212.976 2215.66 214.99 Q2213.53 217.004 2213.21 220.661 L2228.4 220.638 Z\" fill=\"#000000\" fill-rule=\"nonzero\" fill-opacity=\"1\" /><path clip-path=\"url(#clip290)\" d=\"M2254.9 201.356 L2259.58 201.356 L2259.58 235.916 L2254.9 235.916 L2254.9 201.356 Z\" fill=\"#000000\" fill-rule=\"nonzero\" fill-opacity=\"1\" /></svg>\n"
      ]
     },
     "metadata": {},
     "output_type": "display_data"
    }
   ],
   "source": [
    "using Plots\n",
    "\n",
    "# x축 좌표 생성\n",
    "x_coords = 50:50:400\n",
    "\n",
    "# 신뢰구간 데이터\n",
    "CI_lower = mean_ci_interval_left_b1\n",
    "CI_upper = mean_ci_interval_right_b1\n",
    "#ci_data = n_100_result_dep[2][:, :, 4]\n",
    "\n",
    "# 플롯 초기화\n",
    "p = plot()\n",
    "\n",
    "# 신뢰구간\n",
    "for i in 1:length(CI_upper)\n",
    "    lower_bound = CI_lower[i]\n",
    "    upper_bound = CI_upper[i]\n",
    "    \n",
    "    if i == 1\n",
    "        plot!(p, [x_coords[i], x_coords[i]], [lower_bound, upper_bound], label=\"Online I\", color=:blue, linewidth=2)\n",
    "    else\n",
    "        plot!(p, [x_coords[i], x_coords[i]], [lower_bound, upper_bound], label=false, color=:blue, linewidth=2)\n",
    "    end\n",
    "end\n",
    "\n",
    "# 플롯 설정 및 표시\n",
    "xlabel!(p, \"Sample Size\")\n",
    "ylabel!(p, \"95% Confidence Interval\")\n",
    "title!(p, \"Confidence Intervals of β = 1\")\n",
    "display(p)\n"
   ]
  },
  {
   "cell_type": "code",
   "execution_count": null,
   "metadata": {},
   "outputs": [],
   "source": []
  },
  {
   "cell_type": "markdown",
   "metadata": {},
   "source": [
    "#### n=400, p=2000, dep, s0 =10 / Online1_n400_p2000_dep_simnum10"
   ]
  },
  {
   "cell_type": "code",
   "execution_count": 61,
   "metadata": {},
   "outputs": [
    {
     "data": {
      "text/plain": [
       "10×8×3 Array{Float64, 3}:\n",
       "[:, :, 1] =\n",
       " 0.0  0.0  0.0  0.0  0.0  0.0  0.0  0.0\n",
       " 0.0  0.0  0.0  0.0  0.0  0.0  0.0  0.0\n",
       " 0.0  0.0  0.0  0.0  0.0  0.0  0.0  0.0\n",
       " 0.0  0.0  0.0  0.0  0.0  0.0  0.0  0.0\n",
       " 0.0  0.0  0.0  0.0  0.0  0.0  0.0  0.0\n",
       " 0.0  0.0  0.0  0.0  0.0  0.0  0.0  0.0\n",
       " 0.0  0.0  0.0  0.0  0.0  0.0  0.0  0.0\n",
       " 0.0  0.0  0.0  0.0  0.0  0.0  0.0  0.0\n",
       " 0.0  0.0  0.0  0.0  0.0  0.0  0.0  0.0\n",
       " 0.0  0.0  0.0  0.0  0.0  0.0  0.0  0.0\n",
       "\n",
       "[:, :, 2] =\n",
       " 0.0  0.0  0.0  0.0  0.0  0.0  0.0  0.0\n",
       " 0.0  0.0  0.0  0.0  0.0  0.0  0.0  0.0\n",
       " 0.0  0.0  0.0  0.0  0.0  0.0  0.0  0.0\n",
       " 0.0  0.0  0.0  0.0  0.0  0.0  0.0  0.0\n",
       " 0.0  0.0  0.0  0.0  0.0  0.0  0.0  0.0\n",
       " 0.0  0.0  0.0  0.0  0.0  0.0  0.0  0.0\n",
       " 0.0  0.0  0.0  0.0  0.0  0.0  0.0  0.0\n",
       " 0.0  0.0  0.0  0.0  0.0  0.0  0.0  0.0\n",
       " 0.0  0.0  0.0  0.0  0.0  0.0  0.0  0.0\n",
       " 0.0  0.0  0.0  0.0  0.0  0.0  0.0  0.0\n",
       "\n",
       "[:, :, 3] =\n",
       " 0.0  0.0  0.0  0.0  0.0  0.0  0.0  0.0\n",
       " 0.0  0.0  0.0  0.0  0.0  0.0  0.0  0.0\n",
       " 0.0  0.0  0.0  0.0  0.0  0.0  0.0  0.0\n",
       " 0.0  0.0  0.0  0.0  0.0  0.0  0.0  0.0\n",
       " 0.0  0.0  0.0  0.0  0.0  0.0  0.0  0.0\n",
       " 0.0  0.0  0.0  0.0  0.0  0.0  0.0  0.0\n",
       " 0.0  0.0  0.0  0.0  0.0  0.0  0.0  0.0\n",
       " 0.0  0.0  0.0  0.0  0.0  0.0  0.0  0.0\n",
       " 0.0  0.0  0.0  0.0  0.0  0.0  0.0  0.0\n",
       " 0.0  0.0  0.0  0.0  0.0  0.0  0.0  0.0"
      ]
     },
     "metadata": {},
     "output_type": "display_data"
    }
   ],
   "source": [
    "n,p = 400,2000\n",
    "s0 = 10\n",
    "simnum = 10\n",
    "\n",
    "b1 = 1:10\n",
    "b01 = 11:20\n",
    "b0 = 21:p\n",
    "\n",
    "\n",
    "ci_interval_left = zeros(Float64, simnum,8,3)\n",
    "ci_interval_right = zeros(Float64, simnum,8,3)\n",
    "ci_interval_length = zeros(Float64, simnum,8,3)\n",
    "times = zeros(Float64, simnum)\n",
    "bias = zeros(Float64, simnum,8,3)\n",
    "sds = zeros(Float64, simnum,8,3)\n",
    "taus = zeros(Float64, simnum,8,3)"
   ]
  },
  {
   "cell_type": "code",
   "execution_count": 62,
   "metadata": {},
   "outputs": [
    {
     "name": "stdout",
     "output_type": "stream",
     "text": [
      "1\n"
     ]
    },
    {
     "name": "stdout",
     "output_type": "stream",
     "text": [
      "96.293398494\n"
     ]
    },
    {
     "name": "stdout",
     "output_type": "stream",
     "text": [
      "0.2961045942540776\n",
      "2\n"
     ]
    },
    {
     "name": "stdout",
     "output_type": "stream",
     "text": [
      "112.932728737\n",
      "-0.06532578003819979\n",
      "3\n"
     ]
    },
    {
     "name": "stdout",
     "output_type": "stream",
     "text": [
      "115.357523119\n",
      "-0.035400218107225837\n",
      "4\n"
     ]
    },
    {
     "name": "stdout",
     "output_type": "stream",
     "text": [
      "115.991095115\n",
      "0.23634856304061638\n",
      "5\n"
     ]
    },
    {
     "name": "stdout",
     "output_type": "stream",
     "text": [
      "119.301024957\n",
      "0.5639833058043086\n",
      "6\n"
     ]
    },
    {
     "name": "stdout",
     "output_type": "stream",
     "text": [
      "115.35940202\n",
      "0.5227776890286016\n",
      "7\n"
     ]
    },
    {
     "name": "stdout",
     "output_type": "stream",
     "text": [
      "110.320642413\n",
      "0.24281387940098217\n",
      "8\n"
     ]
    },
    {
     "name": "stdout",
     "output_type": "stream",
     "text": [
      "120.202739252\n",
      "-0.06588537268759143\n",
      "9\n"
     ]
    },
    {
     "name": "stdout",
     "output_type": "stream",
     "text": [
      "119.845370349\n",
      "0.31838616216714627\n",
      "10\n"
     ]
    },
    {
     "name": "stdout",
     "output_type": "stream",
     "text": [
      "110.928597528\n",
      "-0.062084321160011696\n",
      "mean_bias_b1 : [1.8837602097778317 1.0713416385647097 1.0081129560056041 0.9708513600115175 1.0602808111928164 1.105184707402335 1.1122501956999076 1.1270903801468415]\n",
      "mean_bias_b01 : [1.9768158151223254 0.8093740233427266 0.5661525739705819 0.52441098744391 0.5595388217996359 0.5155833788643498 0.4767267065371463 0.49241926690479365]\n",
      "mean_bias_b0 : [1.589359247271108 0.5872045954840226 0.4348057853292814 0.3583386616647127 0.3572695458353531 0.34070287289921847 0.31435438453040654 0.31969220064625564]\n",
      "mean_sds_b1 : [2.355616505925765 0.6113401786941578 0.4279759832825302 0.3477197565360371 0.2839910574116701 0.2876736308486666 0.27961123409678457 0.26538109933138276]\n",
      "mean_sds_b01 : [2.9465312493662554 0.6676399536852858 0.3833677446097322 0.3132754382809195 0.3115405336429323 0.28423672152357826 0.302212372580274 0.2795816969506335]\n",
      "mean_sds_b0 : [8.946563354502214 0.6937446153577937 0.43640363665655235 0.3375680568053796 0.2846744100836518 0.2533500523303297 0.22887490384222658 0.2127257795228799]\n",
      "mean_taus_b1 : [0.03798007433220612 0.015281877442806143 0.009912126506889997 0.0073718790249180126 0.005880485361762805 0.004843252744470933 0.004149841185479192 0.0036304950709521956]\n",
      "mean_taus_b01 : [0.043293881920215035 0.015822009055076015 0.010109299132652497 0.007506538101200018 0.005929806794733754 0.004911101470784341 0.004214937767339939 0.0036843242294480986]\n",
      "mean_taus_b0 : [0.03571433147726293 0.015218382229045136 0.009806115484528607 0.007306274536138415 0.005813851412344982 0.004823130597829536 0.004126720269757243 0.003613929755361081]\n",
      "mean_ci_interval_left_b1 : [2.312697254089383 1.8994402875890704 1.895683763701604 1.8974982029603962 2.003330657752073 2.058466188450608 2.072586665990623 2.092496106986219]\n",
      "mean_ci_interval_left_b01 : [1.412634375598674 0.611581603778158 0.47107091431527603 0.4933430131570196 0.5603202191245188 0.5565187136591143 0.5234971357754634 0.5337839289526397]\n",
      "mean_ci_interval_left_b0 : [-0.22415078604247793 -0.05501070935528486 -0.029922708073533765 0.08438858073451906 0.1858086833128751 0.2208588432319351 0.22337320782932468 0.2233827499101897]\n",
      "mean_ci_interval_right_b1 : [3.1023508482559556 2.21232239796743 2.095526784185292 2.0417468274533577 2.1172309646335594 2.1519032263540616 2.151913725409192 2.1616846533074634]\n",
      "mean_ci_interval_right_b01 : [2.3177766979743284 0.9358724726827035 0.674983277831378 0.64034169553049 0.6752919639274573 0.6512810928865915 0.6040667261392235 0.6039919591234588]\n",
      "mean_ci_interval_right_b0 : [0.5204967090636987 0.2566936966402621 0.16792924033104026 0.22741928581364984 0.2984683271028233 0.31390648478038485 0.30225590483970205 0.29226757169565176]\n",
      "mean_ci_interval_length_b1 : [0.7896535941665733 0.31288211037835933 0.1998430204836878 0.1442486244929616 0.113900306881487 0.09343703790345356 0.07932705941856937 0.06918854632124463]\n",
      "mean_ci_interval_length_b01 : [0.9051423223756538 0.32429086890454556 0.20391236351610198 0.14699868237347052 0.11497174480293848 0.09476237922747718 0.08056959036376012 0.0702080301708192]\n",
      "mean_ci_interval_length_b0 : [0.7446474951061768 0.3117044059955469 0.19785194840457404 0.14303070507913082 0.11265964378994817 0.09304764154844962 0.07888269701037734 0.06888482178546207]\n",
      "mean_times : 113.6532521984\n"
     ]
    }
   ],
   "source": [
    "for seed in 1:simnum\n",
    "    println(seed)\n",
    "    \n",
    "    X,y,β = dep_sampling(seed, n,p,s0)\n",
    "    _, times[seed] = @timed begin\n",
    "        b, tau_tilde_array, CI_left, CI_right = DSGD_calc_for_plot(0.0025, X, y, 0.05)\n",
    "    end\n",
    "\n",
    "\n",
    "    println(times[seed])\n",
    "    bb = mapslices(x -> x.-β, b, dims = 2)\n",
    "    ab = abs.(bb)\n",
    "    \n",
    "    println(mean(bb))\n",
    "    \n",
    "    for k in 1:8\n",
    "        bias[seed,k,  1] = mean(ab[k,b1])\n",
    "        bias[seed,k,  2] = mean(ab[k,b01])\n",
    "        bias[seed,k,  3] = mean(ab[k,b0])\n",
    "    \n",
    "        sds[seed,k,1] = std(bb[k,b1])\n",
    "        sds[seed,k,2] = std(bb[k,b01])\n",
    "        sds[seed,k,3] = std(bb[k,b0])\n",
    "    \n",
    "        tau = tau_tilde_array\n",
    "        taus[seed,k,1] = mean(tau[k,b1])\n",
    "        taus[seed,k,2] = mean(tau[k,b01])\n",
    "        taus[seed,k,3] = mean(tau[k,b0])\n",
    "    \n",
    "        CI_L = CI_left\n",
    "        ci_interval_left[seed,k,1] = mean(CI_L[k,b1])\n",
    "        ci_interval_left[seed,k,2] = mean(CI_L[k,b01])\n",
    "        ci_interval_left[seed,k,3] = mean(CI_L[k,b0])\n",
    "    \n",
    "    \n",
    "        CI_R = CI_right\n",
    "        ci_interval_right[seed,k,1] = mean(CI_R[k,b1])\n",
    "        ci_interval_right[seed,k,2] = mean(CI_R[k,b01])\n",
    "        ci_interval_right[seed,k,3] = mean(CI_R[k,b0])\n",
    "        \n",
    "        CI_width = CI_right - CI_left\n",
    "        ci_interval_length[seed,k,1] = mean(CI_width[k,b1])\n",
    "        ci_interval_length[seed,k,2] = mean(CI_width[k,b01])\n",
    "        ci_interval_length[seed,k,3] = mean(CI_width[k,b0])\n",
    "    end\n",
    "\n",
    "    \n",
    "    # save_object(\"/Users/seungchanbaek/Downloads/2023-2학기/고급통계계산/Online1_n400_p2000_dep_simnum10/Online1_n400_p2000_dep_simnum10_time$seed\", times[seed])\n",
    "    # save_object(\"/Users/seungchanbaek/Downloads/2023-2학기/고급통계계산/Online1_n400_p2000_dep_simnum10/Online1_n400_p2000_dep_simnum10_bias$seed\", bias[seed,:,:])\n",
    "    # save_object(\"/Users/seungchanbaek/Downloads/2023-2학기/고급통계계산/Online1_n400_p2000_dep_simnum10/Online1_n400_p2000_dep_simnum10_sds$seed\", sds[seed,:,:])\n",
    "    # save_object(\"/Users/seungchanbaek/Downloads/2023-2학기/고급통계계산/Online1_n400_p2000_dep_simnum10/Online1_n400_p2000_dep_simnum10_taus$seed\", taus[seed,:,:])\n",
    "\n",
    "    # save_object(\"/Users/seungchanbaek/Downloads/2023-2학기/고급통계계산/Online1_n400_p2000_dep_simnum10/Online1_n400_p2000_dep_simnum10_ci_interval_length$seed\", ci_interval_length[seed,:,:])\n",
    "    # save_object(\"/Users/seungchanbaek/Downloads/2023-2학기/고급통계계산/Online1_n400_p2000_dep_simnum10/Online1_n400_p2000_dep_simnum10_ci_interval_left$seed\", ci_interval_left[seed,:,:])\n",
    "    # save_object(\"/Users/seungchanbaek/Downloads/2023-2학기/고급통계계산/Online1_n400_p2000_dep_simnum10/Online1_n400_p2000_dep_simnum10_ci_interval_right$seed\", ci_interval_right[seed,:,:])\n",
    "end\n",
    "\n",
    "\n",
    "mean_bias_b1 = sum(bias[:,:,1], dims=1) / size(bias, 1)\n",
    "mean_bias_b01 = sum(bias[:,:,2], dims=1) / size(bias, 1)\n",
    "mean_bias_b0 = sum(bias[:,:,3], dims=1) / size(bias, 1)\n",
    "\n",
    "mean_sds_b1 = sum(sds[:,:,1], dims=1) / size(sds, 1)\n",
    "mean_sds_b01 = sum(sds[:,:,2], dims=1) / size(sds, 1)\n",
    "mean_sds_b0 = sum(sds[:,:,3], dims=1) / size(sds, 1)\n",
    "\n",
    "\n",
    "mean_taus_b1 = sum(taus[:,:,1], dims=1) / size(taus, 1)\n",
    "mean_taus_b01 = sum(taus[:,:,2], dims=1) / size(taus, 1)\n",
    "mean_taus_b0 = sum(taus[:,:,3], dims=1) / size(taus, 1)\n",
    "\n",
    "mean_ci_interval_left_b1 = sum(ci_interval_left[:,:,1], dims=1) / size(ci_interval_left, 1)\n",
    "mean_ci_interval_left_b01 = sum(ci_interval_left[:,:,2], dims=1) / size(ci_interval_left, 1)\n",
    "mean_ci_interval_left_b0 = sum(ci_interval_left[:,:,3], dims=1) / size(ci_interval_left, 1)\n",
    "\n",
    "mean_ci_interval_right_b1 = sum(ci_interval_right[:,:,1], dims=1) / size(ci_interval_right, 1)\n",
    "mean_ci_interval_right_b01 = sum(ci_interval_right[:,:,2], dims=1) / size(ci_interval_right, 1)\n",
    "mean_ci_interval_right_b0 = sum(ci_interval_right[:,:,3], dims=1) / size(ci_interval_right, 1)\n",
    "\n",
    "mean_ci_interval_length_b1 = sum(ci_interval_length[:,:,1], dims=1) / size(ci_interval_length, 1)\n",
    "mean_ci_interval_length_b01 = sum(ci_interval_length[:,:,2], dims=1) / size(ci_interval_length, 1)\n",
    "mean_ci_interval_length_b0 = sum(ci_interval_length[:,:,3], dims=1) / size(ci_interval_length, 1)\n",
    "\n",
    "mean_times = mean(times)\n",
    "\n",
    "println(\"mean_bias_b1 : \", mean_bias_b1)\n",
    "println(\"mean_bias_b01 : \", mean_bias_b01)\n",
    "println(\"mean_bias_b0 : \", mean_bias_b0)\n",
    "\n",
    "println(\"mean_sds_b1 : \", mean_sds_b1)\n",
    "println(\"mean_sds_b01 : \", mean_sds_b01)\n",
    "println(\"mean_sds_b0 : \", mean_sds_b0)\n",
    "\n",
    "println(\"mean_taus_b1 : \", mean_taus_b1)\n",
    "println(\"mean_taus_b01 : \", mean_taus_b01)\n",
    "println(\"mean_taus_b0 : \", mean_taus_b0)\n",
    "\n",
    "println(\"mean_ci_interval_left_b1 : \", mean_ci_interval_left_b1)\n",
    "println(\"mean_ci_interval_left_b01 : \", mean_ci_interval_left_b01)\n",
    "println(\"mean_ci_interval_left_b0 : \", mean_ci_interval_left_b0)\n",
    "\n",
    "println(\"mean_ci_interval_right_b1 : \", mean_ci_interval_right_b1)\n",
    "println(\"mean_ci_interval_right_b01 : \", mean_ci_interval_right_b01)\n",
    "println(\"mean_ci_interval_right_b0 : \", mean_ci_interval_right_b0)\n",
    "\n",
    "println(\"mean_ci_interval_length_b1 : \", mean_ci_interval_length_b1)\n",
    "println(\"mean_ci_interval_length_b01 : \", mean_ci_interval_length_b01)\n",
    "println(\"mean_ci_interval_length_b0 : \", mean_ci_interval_length_b0)\n",
    "\n",
    "println(\"mean_times : \", mean_times)"
   ]
  },
  {
   "cell_type": "code",
   "execution_count": null,
   "metadata": {},
   "outputs": [],
   "source": []
  },
  {
   "cell_type": "code",
   "execution_count": 98,
   "metadata": {},
   "outputs": [],
   "source": []
  },
  {
   "cell_type": "markdown",
   "metadata": {},
   "source": [
    "#### n=100, p=400, dep, s0 =3 / Online1_n100_p400_dep_simnum10"
   ]
  },
  {
   "cell_type": "code",
   "execution_count": 21,
   "metadata": {},
   "outputs": [
    {
     "data": {
      "text/plain": [
       "10×3×3 Array{Float64, 3}:\n",
       "[:, :, 1] =\n",
       " 0.0  0.0  0.0\n",
       " 0.0  0.0  0.0\n",
       " 0.0  0.0  0.0\n",
       " 0.0  0.0  0.0\n",
       " 0.0  0.0  0.0\n",
       " 0.0  0.0  0.0\n",
       " 0.0  0.0  0.0\n",
       " 0.0  0.0  0.0\n",
       " 0.0  0.0  0.0\n",
       " 0.0  0.0  0.0\n",
       "\n",
       "[:, :, 2] =\n",
       " 0.0  0.0  0.0\n",
       " 0.0  0.0  0.0\n",
       " 0.0  0.0  0.0\n",
       " 0.0  0.0  0.0\n",
       " 0.0  0.0  0.0\n",
       " 0.0  0.0  0.0\n",
       " 0.0  0.0  0.0\n",
       " 0.0  0.0  0.0\n",
       " 0.0  0.0  0.0\n",
       " 0.0  0.0  0.0\n",
       "\n",
       "[:, :, 3] =\n",
       " 0.0  0.0  0.0\n",
       " 0.0  0.0  0.0\n",
       " 0.0  0.0  0.0\n",
       " 0.0  0.0  0.0\n",
       " 0.0  0.0  0.0\n",
       " 0.0  0.0  0.0\n",
       " 0.0  0.0  0.0\n",
       " 0.0  0.0  0.0\n",
       " 0.0  0.0  0.0\n",
       " 0.0  0.0  0.0"
      ]
     },
     "metadata": {},
     "output_type": "display_data"
    }
   ],
   "source": [
    "n,p = 100,400\n",
    "s0 = 3\n",
    "simnum = 10\n",
    "\n",
    "b1 = 1:3\n",
    "b01 = 4:6\n",
    "b0 = 7:p\n",
    "\n",
    "num_save_points = 3\n",
    "ci_interval_left = zeros(Float64, simnum,num_save_points,3)\n",
    "ci_interval_right = zeros(Float64, simnum,num_save_points,3)\n",
    "ci_interval_length = zeros(Float64, simnum,num_save_points,3)\n",
    "times = zeros(Float64, simnum)\n",
    "bias = zeros(Float64, simnum,num_save_points,3)\n",
    "sds = zeros(Float64, simnum,num_save_points,3)\n",
    "taus = zeros(Float64, simnum,num_save_points,3)"
   ]
  },
  {
   "cell_type": "code",
   "execution_count": 44,
   "metadata": {},
   "outputs": [
    {
     "name": "stdout",
     "output_type": "stream",
     "text": [
      "1\n"
     ]
    },
    {
     "name": "stdout",
     "output_type": "stream",
     "text": [
      "1.204248859\n"
     ]
    },
    {
     "name": "stdout",
     "output_type": "stream",
     "text": [
      "0.08889753911653149\n",
      "2\n"
     ]
    },
    {
     "name": "stdout",
     "output_type": "stream",
     "text": [
      "1.209023923\n",
      "0.0003526684056533617\n",
      "3\n"
     ]
    },
    {
     "name": "stdout",
     "output_type": "stream",
     "text": [
      "1.238831531\n",
      "0.16830619832546648\n",
      "4\n"
     ]
    },
    {
     "name": "stdout",
     "output_type": "stream",
     "text": [
      "1.211728806\n",
      "-0.006990108434237744\n",
      "5\n"
     ]
    },
    {
     "name": "stdout",
     "output_type": "stream",
     "text": [
      "1.201212228\n",
      "-0.07960519895589235\n",
      "6\n"
     ]
    },
    {
     "name": "stdout",
     "output_type": "stream",
     "text": [
      "1.2335737\n",
      "0.14669905196632063\n",
      "7\n"
     ]
    },
    {
     "name": "stdout",
     "output_type": "stream",
     "text": [
      "1.246757908\n",
      "0.09143867069935578\n",
      "8\n"
     ]
    },
    {
     "name": "stdout",
     "output_type": "stream",
     "text": [
      "1.396760256\n",
      "-0.03986064544668559\n",
      "9\n"
     ]
    },
    {
     "name": "stdout",
     "output_type": "stream",
     "text": [
      "1.502077021\n",
      "0.05429689571148536\n",
      "10\n"
     ]
    },
    {
     "name": "stdout",
     "output_type": "stream",
     "text": [
      "1.193887966\n",
      "0.032753812786739125\n",
      "mean_bias_b1 : "
     ]
    },
    {
     "name": "stdout",
     "output_type": "stream",
     "text": [
      "[0.6122687278320413 0.6974538773296102 0.7088433267464069]\n",
      "mean_bias_b01 : [0.5661477976594541 0.5404188141191932 0.5266820892278566]\n",
      "mean_bias_b0 : [0.29990406765871813 0.23310920691790032 0.1940634975428338]\n",
      "mean_sds_b1 : [0.20848063140400447 0.16144291207346473 0.14802150504425088]\n",
      "mean_sds_b01 : [0.37240953612560224 0.36244848297213883 0.3102204106061507]\n",
      "mean_sds_b0 : [0.3614984830733826 0.2768726852906228 0.22555509451007838]\n",
      "mean_taus_b1 : [0.02589684168815675 0.01467654180795871 0.010405509354510782]\n",
      "mean_taus_b01 : [0.02631288685885149 0.01485905392853135 0.010359669384000424]\n",
      "mean_taus_b0 : [0.026231183521906842 0.014867333189397916 0.010390402413746516]\n",
      "mean_ci_interval_left_b1 : [1.4799633572830184 1.6247504348014268 1.6576211208177516]\n",
      "mean_ci_interval_left_b01 : [0.49106588428501574 0.5471435637105089 0.5756722618556946]\n",
      "mean_ci_interval_left_b0 : [-0.08909333172029245 -0.027328034527422645 -0.023708855503967258]\n",
      "mean_ci_interval_right_b1 : [1.7302161167141563 1.7701573198577936 1.7600655326750627]\n",
      "mean_ci_interval_right_b01 : [0.745202995430898 0.694502203848167 0.6776919166000187]\n",
      "mean_ci_interval_right_b0 : [0.16491639684958645 0.12007263851101016 0.07861117136138579]\n",
      "mean_ci_interval_length_b1 : [0.25025275943113795 0.14540688505636676 0.10244441185731115]\n",
      "mean_ci_interval_length_b01 : [0.2541371111458822 0.14735864013765815 0.10201965474432413]\n",
      "mean_ci_interval_length_b0 : [0.2540097285698789 0.1474006730384328 0.10232002686535305]\n"
     ]
    }
   ],
   "source": [
    "for seed in 1:simnum\n",
    "    println(seed)\n",
    "    \n",
    "    X,y,β = dep_sampling(seed, n,p,s0)\n",
    "    _, times[seed] = @timed begin\n",
    "        b, tau_tilde_array, CI_left, CI_right = DSGD_calc_for_plot(0.0025, X, y, 0.05)\n",
    "    end\n",
    "\n",
    "\n",
    "    println(times[seed])\n",
    "    bb = mapslices(x -> x.-β, b, dims = 2)\n",
    "    ab = abs.(bb)\n",
    "    \n",
    "    println(mean(bb))\n",
    "    \n",
    "    for k in 1:num_save_points\n",
    "        bias[seed,k,  1] = mean(ab[k,b1])\n",
    "        bias[seed,k,  2] = mean(ab[k,b01])\n",
    "        bias[seed,k,  3] = mean(ab[k,b0])\n",
    "    \n",
    "        sds[seed,k,1] = std(bb[k,b1])\n",
    "        sds[seed,k,2] = std(bb[k,b01])\n",
    "        sds[seed,k,3] = std(bb[k,b0])\n",
    "    \n",
    "        tau = tau_tilde_array\n",
    "        taus[seed,k,1] = mean(tau[k,b1])\n",
    "        taus[seed,k,2] = mean(tau[k,b01])\n",
    "        taus[seed,k,3] = mean(tau[k,b0])\n",
    "    \n",
    "        CI_L = CI_left\n",
    "        ci_interval_left[seed,k,1] = mean(CI_L[k,b1])\n",
    "        ci_interval_left[seed,k,2] = mean(CI_L[k,b01])\n",
    "        ci_interval_left[seed,k,3] = mean(CI_L[k,b0])\n",
    "    \n",
    "    \n",
    "        CI_R = CI_right\n",
    "        ci_interval_right[seed,k,1] = mean(CI_R[k,b1])\n",
    "        ci_interval_right[seed,k,2] = mean(CI_R[k,b01])\n",
    "        ci_interval_right[seed,k,3] = mean(CI_R[k,b0])\n",
    "        \n",
    "        CI_width = CI_right - CI_left\n",
    "        ci_interval_length[seed,k,1] = mean(CI_width[k,b1])\n",
    "        ci_interval_length[seed,k,2] = mean(CI_width[k,b01])\n",
    "        ci_interval_length[seed,k,3] = mean(CI_width[k,b0])\n",
    "    end\n",
    "\n",
    "\n",
    "    \n",
    "    # save_object(\"/Users/seungchanbaek/Downloads/2023-2학기/고급통계계산/Online1_n100_p400_dep_simnum10/Online1_n100_p400_dep_simnum10_time$seed\", times[seed])\n",
    "    # save_object(\"/Users/seungchanbaek/Downloads/2023-2학기/고급통계계산/Online1_n100_p400_dep_simnum10/Online1_n100_p400_dep_simnum10_bias$seed\", bias[seed,:,:])\n",
    "    # save_object(\"/Users/seungchanbaek/Downloads/2023-2학기/고급통계계산/Online1_n100_p400_dep_simnum10/Online1_n100_p400_dep_simnum10_sds$seed\", sds[seed,:,:])\n",
    "    # save_object(\"/Users/seungchanbaek/Downloads/2023-2학기/고급통계계산/Online1_n100_p400_dep_simnum10/Online1_n100_p400_dep_simnum10_taus$seed\", taus[seed,:,:])\n",
    "\n",
    "    # save_object(\"/Users/seungchanbaek/Downloads/2023-2학기/고급통계계산/Online1_n100_p400_dep_simnum10/Online1_n100_p400_dep_simnum10_ci_interval_length$seed\", ci_interval_length[seed,:,:])\n",
    "    # save_object(\"/Users/seungchanbaek/Downloads/2023-2학기/고급통계계산/Online1_n100_p400_dep_simnum10/Online1_n100_p400_dep_simnum10_ci_interval_left$seed\", ci_interval_left[seed,:,:])\n",
    "    # save_object(\"/Users/seungchanbaek/Downloads/2023-2학기/고급통계계산/Online1_n100_p400_dep_simnum10/Online1_n100_p400_dep_simnum10_ci_interval_right$seed\", ci_interval_right[seed,:,:])\n",
    "end\n",
    "\n",
    "mean_bias_b1 = sum(bias[:,:,1], dims=1) / size(bias, 1)\n",
    "mean_bias_b01 = sum(bias[:,:,2], dims=1) / size(bias, 1)\n",
    "mean_bias_b0 = sum(bias[:,:,3], dims=1) / size(bias, 1)\n",
    "\n",
    "mean_sds_b1 = sum(sds[:,:,1], dims=1) / size(sds, 1)\n",
    "mean_sds_b01 = sum(sds[:,:,2], dims=1) / size(sds, 1)\n",
    "mean_sds_b0 = sum(sds[:,:,3], dims=1) / size(sds, 1)\n",
    "\n",
    "\n",
    "mean_taus_b1 = sum(taus[:,:,1], dims=1) / size(taus, 1)\n",
    "mean_taus_b01 = sum(taus[:,:,2], dims=1) / size(taus, 1)\n",
    "mean_taus_b0 = sum(taus[:,:,3], dims=1) / size(taus, 1)\n",
    "\n",
    "mean_ci_interval_left_b1 = sum(ci_interval_left[:,:,1], dims=1) / size(ci_interval_left, 1)\n",
    "mean_ci_interval_left_b01 = sum(ci_interval_left[:,:,2], dims=1) / size(ci_interval_left, 1)\n",
    "mean_ci_interval_left_b0 = sum(ci_interval_left[:,:,3], dims=1) / size(ci_interval_left, 1)\n",
    "\n",
    "mean_ci_interval_right_b1 = sum(ci_interval_right[:,:,1], dims=1) / size(ci_interval_right, 1)\n",
    "mean_ci_interval_right_b01 = sum(ci_interval_right[:,:,2], dims=1) / size(ci_interval_right, 1)\n",
    "mean_ci_interval_right_b0 = sum(ci_interval_right[:,:,3], dims=1) / size(ci_interval_right, 1)\n",
    "\n",
    "mean_ci_interval_length_b1 = sum(ci_interval_length[:,:,1], dims=1) / size(ci_interval_length, 1)\n",
    "mean_ci_interval_length_b01 = sum(ci_interval_length[:,:,2], dims=1) / size(ci_interval_length, 1)\n",
    "mean_ci_interval_length_b0 = sum(ci_interval_length[:,:,3], dims=1) / size(ci_interval_length, 1)\n",
    "\n",
    "mean_times = mean(times)\n",
    "\n",
    "println(\"mean_bias_b1 : \", mean_bias_b1)\n",
    "println(\"mean_bias_b01 : \", mean_bias_b01)\n",
    "println(\"mean_bias_b0 : \", mean_bias_b0)\n",
    "\n",
    "println(\"mean_sds_b1 : \", mean_sds_b1)\n",
    "println(\"mean_sds_b01 : \", mean_sds_b01)\n",
    "println(\"mean_sds_b0 : \", mean_sds_b0)\n",
    "\n",
    "println(\"mean_taus_b1 : \", mean_taus_b1)\n",
    "println(\"mean_taus_b01 : \", mean_taus_b01)\n",
    "println(\"mean_taus_b0 : \", mean_taus_b0)\n",
    "\n",
    "println(\"mean_ci_interval_left_b1 : \", mean_ci_interval_left_b1)\n",
    "println(\"mean_ci_interval_left_b01 : \", mean_ci_interval_left_b01)\n",
    "println(\"mean_ci_interval_left_b0 : \", mean_ci_interval_left_b0)\n",
    "\n",
    "println(\"mean_ci_interval_right_b1 : \", mean_ci_interval_right_b1)\n",
    "println(\"mean_ci_interval_right_b01 : \", mean_ci_interval_right_b01)\n",
    "println(\"mean_ci_interval_right_b0 : \", mean_ci_interval_right_b0)\n",
    "\n",
    "println(\"mean_ci_interval_length_b1 : \", mean_ci_interval_length_b1)\n",
    "println(\"mean_ci_interval_length_b01 : \", mean_ci_interval_length_b01)\n",
    "println(\"mean_ci_interval_length_b0 : \", mean_ci_interval_length_b0)\n",
    "\n",
    "println(\"mean_times : \", mean_times)\n"
   ]
  },
  {
   "cell_type": "code",
   "execution_count": 46,
   "metadata": {},
   "outputs": [
    {
     "data": {
      "text/plain": [
       "1.2638102198"
      ]
     },
     "metadata": {},
     "output_type": "display_data"
    }
   ],
   "source": [
    "mean(times)"
   ]
  },
  {
   "cell_type": "code",
   "execution_count": 37,
   "metadata": {},
   "outputs": [
    {
     "data": {
      "text/plain": [
       "10×3×3 Array{Float64, 3}:\n",
       "[:, :, 1] =\n",
       " 0.532453  0.571853  0.541241\n",
       " 0.701656  0.964926  0.876814\n",
       " 0.873161  0.835008  0.857096\n",
       " 0.424859  0.597735  0.913707\n",
       " 0.181731  0.266282  0.294812\n",
       " 0.633579  0.667443  0.69726\n",
       " 0.659069  0.69719   0.620707\n",
       " 0.761051  0.651935  0.642093\n",
       " 0.838924  0.98529   0.776856\n",
       " 0.516205  0.736878  0.867848\n",
       "\n",
       "[:, :, 2] =\n",
       " 0.563314  0.464473  0.359372\n",
       " 0.450044  0.427089  0.530968\n",
       " 0.785301  0.744351  0.691414\n",
       " 0.293252  0.441427  0.587078\n",
       " 0.291038  0.240217  0.321319\n",
       " 0.764113  0.729868  0.592841\n",
       " 0.737553  0.744661  0.689583\n",
       " 0.509348  0.495186  0.426834\n",
       " 0.909377  0.837813  0.742865\n",
       " 0.358138  0.279104  0.324547\n",
       "\n",
       "[:, :, 3] =\n",
       " 0.290382  0.257473  0.178253\n",
       " 0.292221  0.231046  0.179824\n",
       " 0.340964  0.246577  0.223611\n",
       " 0.287377  0.220784  0.210112\n",
       " 0.248189  0.213285  0.18989\n",
       " 0.30272   0.233544  0.210134\n",
       " 0.292465  0.21425   0.165391\n",
       " 0.341137  0.236186  0.186366\n",
       " 0.331546  0.260942  0.211489\n",
       " 0.272041  0.217006  0.185565"
      ]
     },
     "metadata": {},
     "output_type": "display_data"
    }
   ],
   "source": [
    "bias"
   ]
  },
  {
   "cell_type": "code",
   "execution_count": 35,
   "metadata": {},
   "outputs": [
    {
     "data": {
      "text/plain": [
       "1×3 Matrix{Float64}:\n",
       " 0.299904  0.233109  0.194063"
      ]
     },
     "metadata": {},
     "output_type": "display_data"
    }
   ],
   "source": [
    "#(bias[1,:,1] + bias[2,:,1] + ... + bias[10,:,1])/10\n",
    "bias[:,:,1]\n",
    "\n",
    "mean_bias_b1 = sum(bias[:,:,1], dims=1) / size(bias, 1)\n",
    "mean_bias_b01 = sum(bias[:,:,2], dims=1) / size(bias, 1)\n",
    "mean_bias_b0 = sum(bias[:,:,3], dims=1) / size(bias, 1)"
   ]
  },
  {
   "cell_type": "code",
   "execution_count": 43,
   "metadata": {},
   "outputs": [
    {
     "data": {
      "text/plain": [
       "1×3 Matrix{Float64}:\n",
       " 0.612269  0.697454  0.708843"
      ]
     },
     "metadata": {},
     "output_type": "display_data"
    }
   ],
   "source": [
    "mean_bias_b1"
   ]
  },
  {
   "cell_type": "markdown",
   "metadata": {},
   "source": []
  },
  {
   "cell_type": "markdown",
   "metadata": {},
   "source": [
    "#### n=100, p=400, ind, s0 =3 / Online1_n100_p400_ind_simnum10"
   ]
  },
  {
   "cell_type": "code",
   "execution_count": 48,
   "metadata": {},
   "outputs": [
    {
     "data": {
      "text/plain": [
       "10×3×3 Array{Float64, 3}:\n",
       "[:, :, 1] =\n",
       " 0.0  0.0  0.0\n",
       " 0.0  0.0  0.0\n",
       " 0.0  0.0  0.0\n",
       " 0.0  0.0  0.0\n",
       " 0.0  0.0  0.0\n",
       " 0.0  0.0  0.0\n",
       " 0.0  0.0  0.0\n",
       " 0.0  0.0  0.0\n",
       " 0.0  0.0  0.0\n",
       " 0.0  0.0  0.0\n",
       "\n",
       "[:, :, 2] =\n",
       " 0.0  0.0  0.0\n",
       " 0.0  0.0  0.0\n",
       " 0.0  0.0  0.0\n",
       " 0.0  0.0  0.0\n",
       " 0.0  0.0  0.0\n",
       " 0.0  0.0  0.0\n",
       " 0.0  0.0  0.0\n",
       " 0.0  0.0  0.0\n",
       " 0.0  0.0  0.0\n",
       " 0.0  0.0  0.0\n",
       "\n",
       "[:, :, 3] =\n",
       " 0.0  0.0  0.0\n",
       " 0.0  0.0  0.0\n",
       " 0.0  0.0  0.0\n",
       " 0.0  0.0  0.0\n",
       " 0.0  0.0  0.0\n",
       " 0.0  0.0  0.0\n",
       " 0.0  0.0  0.0\n",
       " 0.0  0.0  0.0\n",
       " 0.0  0.0  0.0\n",
       " 0.0  0.0  0.0"
      ]
     },
     "metadata": {},
     "output_type": "display_data"
    }
   ],
   "source": [
    "n,p = 100,400\n",
    "s0 = 3\n",
    "simnum = 10\n",
    "\n",
    "b1 = 1:3\n",
    "b01 = 4:6\n",
    "b0 = 7:p\n",
    "\n",
    "num_save_points = 3\n",
    "ci_interval_left = zeros(Float64, simnum,num_save_points,3)\n",
    "ci_interval_right = zeros(Float64, simnum,num_save_points,3)\n",
    "ci_interval_length = zeros(Float64, simnum,num_save_points,3)\n",
    "times = zeros(Float64, simnum)\n",
    "bias = zeros(Float64, simnum,num_save_points,3)\n",
    "sds = zeros(Float64, simnum,num_save_points,3)\n",
    "taus = zeros(Float64, simnum,num_save_points,3)"
   ]
  },
  {
   "cell_type": "code",
   "execution_count": 49,
   "metadata": {},
   "outputs": [
    {
     "name": "stdout",
     "output_type": "stream",
     "text": [
      "1\n"
     ]
    },
    {
     "name": "stdout",
     "output_type": "stream",
     "text": [
      "1.944382466\n"
     ]
    },
    {
     "name": "stdout",
     "output_type": "stream",
     "text": [
      "-0.03664158332649123\n",
      "2\n"
     ]
    },
    {
     "name": "stdout",
     "output_type": "stream",
     "text": [
      "1.174224794\n",
      "0.04156734472327117\n",
      "3\n"
     ]
    },
    {
     "name": "stdout",
     "output_type": "stream",
     "text": [
      "1.18051604\n",
      "-0.018081777978714766\n",
      "4\n"
     ]
    },
    {
     "name": "stdout",
     "output_type": "stream",
     "text": [
      "1.18546372\n",
      "0.021681434263550046\n",
      "5\n"
     ]
    },
    {
     "name": "stdout",
     "output_type": "stream",
     "text": [
      "1.241942191\n",
      "0.02508271009047561\n",
      "6\n"
     ]
    },
    {
     "name": "stdout",
     "output_type": "stream",
     "text": [
      "1.142953157\n",
      "0.038694022025631464\n",
      "7\n"
     ]
    },
    {
     "name": "stdout",
     "output_type": "stream",
     "text": [
      "1.187017986\n",
      "0.010335156688180181\n",
      "8\n"
     ]
    },
    {
     "name": "stdout",
     "output_type": "stream",
     "text": [
      "1.308865996\n",
      "-0.025072582286048747\n",
      "9\n"
     ]
    },
    {
     "name": "stdout",
     "output_type": "stream",
     "text": [
      "1.443264938\n",
      "-0.01267928574801191\n",
      "10\n"
     ]
    },
    {
     "name": "stdout",
     "output_type": "stream",
     "text": [
      "1.134007489\n",
      "-0.02213098503486593\n",
      "mean_bias_b1 : [0.2725178965329507 0.1999591818645351 0.16088512681766876]\n",
      "mean_bias_b01 : [0.19991495884444335 0.17629219201631352 0.1495248627327492]\n",
      "mean_bias_b0 : [0.2229917976912487 0.1723292586743998 0.1443428517386735]\n",
      "mean_sds_b1 : [0.1687175709151881 0.11726983863472935 0.06726841298868395]\n",
      "mean_sds_b01 : [0.23510542217579733 0.20905189592039405 0.18664451463650011]\n",
      "mean_sds_b0 : [0.2760684270052852 0.21308278145086174 0.17845428277694014]\n",
      "mean_taus_b1 : [0.02598447193453247 0.014476864840923559 0.010232653582925261]\n",
      "mean_taus_b01 : [0.025598428839035257 0.014686517141283342 0.010256103198596834]\n",
      "mean_taus_b0 : [0.02601267814186663 0.014667971376238514 0.010216236283285298]\n",
      "mean_ci_interval_left_b1 : [0.6809955259722399 0.7829558965991231 0.8446746987046024]\n",
      "mean_ci_interval_left_b01 : [0.04320078568006739 0.08354804327191002 0.07839361026113344]\n",
      "mean_ci_interval_left_b0 : [-0.08600435124789912 -0.05397905060072309 -0.035093398249749844]\n",
      "mean_ci_interval_right_b1 : [0.8661013933917865 0.8897139127593603 0.9210126589868437]\n",
      "mean_ci_interval_right_b01 : [0.22587988050635865 0.19197768624483474 0.15489350352338804]\n",
      "mean_ci_interval_right_b0 : [0.09992282416551138 0.05428355104209356 0.04110145542977542]\n",
      "mean_ci_interval_length_b1 : [0.18510586741954646 0.10675801616023721 0.07633796028224103]\n",
      "mean_ci_interval_length_b01 : [0.1826790948262913 0.10842964297292475 0.07649989326225459]\n",
      "mean_ci_interval_length_b0 : [0.1859271754134105 0.10826260164281665 0.07619485367952529]\n",
      "mean_times : 1.2942638777\n"
     ]
    }
   ],
   "source": [
    "for seed in 1:simnum\n",
    "    println(seed)\n",
    "    \n",
    "    X,y,β = indep_sampling(seed, n,p,s0)\n",
    "    _, times[seed] = @timed begin\n",
    "        b, tau_tilde_array, CI_left, CI_right = DSGD_calc_for_plot(0.0025, X, y, 0.05)\n",
    "    end\n",
    "\n",
    "\n",
    "    println(times[seed])\n",
    "    bb = mapslices(x -> x.-β, b, dims = 2)\n",
    "    ab = abs.(bb)\n",
    "    \n",
    "    println(mean(bb))\n",
    "    \n",
    "    for k in 1:num_save_points\n",
    "        bias[seed,k,  1] = mean(ab[k,b1])\n",
    "        bias[seed,k,  2] = mean(ab[k,b01])\n",
    "        bias[seed,k,  3] = mean(ab[k,b0])\n",
    "    \n",
    "        sds[seed,k,1] = std(bb[k,b1])\n",
    "        sds[seed,k,2] = std(bb[k,b01])\n",
    "        sds[seed,k,3] = std(bb[k,b0])\n",
    "    \n",
    "        tau = tau_tilde_array\n",
    "        taus[seed,k,1] = mean(tau[k,b1])\n",
    "        taus[seed,k,2] = mean(tau[k,b01])\n",
    "        taus[seed,k,3] = mean(tau[k,b0])\n",
    "    \n",
    "        CI_L = CI_left\n",
    "        ci_interval_left[seed,k,1] = mean(CI_L[k,b1])\n",
    "        ci_interval_left[seed,k,2] = mean(CI_L[k,b01])\n",
    "        ci_interval_left[seed,k,3] = mean(CI_L[k,b0])\n",
    "    \n",
    "    \n",
    "        CI_R = CI_right\n",
    "        ci_interval_right[seed,k,1] = mean(CI_R[k,b1])\n",
    "        ci_interval_right[seed,k,2] = mean(CI_R[k,b01])\n",
    "        ci_interval_right[seed,k,3] = mean(CI_R[k,b0])\n",
    "        \n",
    "        CI_width = CI_right - CI_left\n",
    "        ci_interval_length[seed,k,1] = mean(CI_width[k,b1])\n",
    "        ci_interval_length[seed,k,2] = mean(CI_width[k,b01])\n",
    "        ci_interval_length[seed,k,3] = mean(CI_width[k,b0])\n",
    "    end\n",
    "\n",
    "    \n",
    "    # save_object(\"/Users/seungchanbaek/Downloads/2023-2학기/고급통계계산/Online1_n100_p400_ind_simnum10/Online1_n100_p400_ind_simnum10_time$seed\", times[seed])\n",
    "    # save_object(\"/Users/seungchanbaek/Downloads/2023-2학기/고급통계계산/Online1_n100_p400_ind_simnum10/Online1_n100_p400_ind_simnum10_bias$seed\", bias[seed,:,:])\n",
    "    # save_object(\"/Users/seungchanbaek/Downloads/2023-2학기/고급통계계산/Online1_n100_p400_ind_simnum10/Online1_n100_p400_ind_simnum10_sds$seed\", sds[seed,:,:])\n",
    "    # save_object(\"/Users/seungchanbaek/Downloads/2023-2학기/고급통계계산/Online1_n100_p400_ind_simnum10/Online1_n100_p400_ind_simnum10_taus$seed\", taus[seed,:,:])\n",
    "\n",
    "    # save_object(\"/Users/seungchanbaek/Downloads/2023-2학기/고급통계계산/Online1_n100_p400_ind_simnum10/Online1_n100_p400_ind_simnum10_ci_interval_length$seed\", ci_interval_length[seed,:,:])\n",
    "    # save_object(\"/Users/seungchanbaek/Downloads/2023-2학기/고급통계계산/Online1_n100_p400_ind_simnum10/Online1_n100_p400_ind_simnum10_ci_interval_left$seed\", ci_interval_left[seed,:,:])\n",
    "    # save_object(\"/Users/seungchanbaek/Downloads/2023-2학기/고급통계계산/Online1_n100_p400_ind_simnum10/Online1_n100_p400_ind_simnum10_ci_interval_right$seed\", ci_interval_right[seed,:,:])\n",
    "\n",
    "end\n",
    "\n",
    "\n",
    "mean_bias_b1 = sum(bias[:,:,1], dims=1) / size(bias, 1)\n",
    "mean_bias_b01 = sum(bias[:,:,2], dims=1) / size(bias, 1)\n",
    "mean_bias_b0 = sum(bias[:,:,3], dims=1) / size(bias, 1)\n",
    "\n",
    "mean_sds_b1 = sum(sds[:,:,1], dims=1) / size(sds, 1)\n",
    "mean_sds_b01 = sum(sds[:,:,2], dims=1) / size(sds, 1)\n",
    "mean_sds_b0 = sum(sds[:,:,3], dims=1) / size(sds, 1)\n",
    "\n",
    "\n",
    "mean_taus_b1 = sum(taus[:,:,1], dims=1) / size(taus, 1)\n",
    "mean_taus_b01 = sum(taus[:,:,2], dims=1) / size(taus, 1)\n",
    "mean_taus_b0 = sum(taus[:,:,3], dims=1) / size(taus, 1)\n",
    "\n",
    "mean_ci_interval_left_b1 = sum(ci_interval_left[:,:,1], dims=1) / size(ci_interval_left, 1)\n",
    "mean_ci_interval_left_b01 = sum(ci_interval_left[:,:,2], dims=1) / size(ci_interval_left, 1)\n",
    "mean_ci_interval_left_b0 = sum(ci_interval_left[:,:,3], dims=1) / size(ci_interval_left, 1)\n",
    "\n",
    "mean_ci_interval_right_b1 = sum(ci_interval_right[:,:,1], dims=1) / size(ci_interval_right, 1)\n",
    "mean_ci_interval_right_b01 = sum(ci_interval_right[:,:,2], dims=1) / size(ci_interval_right, 1)\n",
    "mean_ci_interval_right_b0 = sum(ci_interval_right[:,:,3], dims=1) / size(ci_interval_right, 1)\n",
    "\n",
    "mean_ci_interval_length_b1 = sum(ci_interval_length[:,:,1], dims=1) / size(ci_interval_length, 1)\n",
    "mean_ci_interval_length_b01 = sum(ci_interval_length[:,:,2], dims=1) / size(ci_interval_length, 1)\n",
    "mean_ci_interval_length_b0 = sum(ci_interval_length[:,:,3], dims=1) / size(ci_interval_length, 1)\n",
    "\n",
    "mean_times = mean(times)\n",
    "\n",
    "println(\"mean_bias_b1 : \", mean_bias_b1)\n",
    "println(\"mean_bias_b01 : \", mean_bias_b01)\n",
    "println(\"mean_bias_b0 : \", mean_bias_b0)\n",
    "\n",
    "println(\"mean_sds_b1 : \", mean_sds_b1)\n",
    "println(\"mean_sds_b01 : \", mean_sds_b01)\n",
    "println(\"mean_sds_b0 : \", mean_sds_b0)\n",
    "\n",
    "println(\"mean_taus_b1 : \", mean_taus_b1)\n",
    "println(\"mean_taus_b01 : \", mean_taus_b01)\n",
    "println(\"mean_taus_b0 : \", mean_taus_b0)\n",
    "\n",
    "println(\"mean_ci_interval_left_b1 : \", mean_ci_interval_left_b1)\n",
    "println(\"mean_ci_interval_left_b01 : \", mean_ci_interval_left_b01)\n",
    "println(\"mean_ci_interval_left_b0 : \", mean_ci_interval_left_b0)\n",
    "\n",
    "println(\"mean_ci_interval_right_b1 : \", mean_ci_interval_right_b1)\n",
    "println(\"mean_ci_interval_right_b01 : \", mean_ci_interval_right_b01)\n",
    "println(\"mean_ci_interval_right_b0 : \", mean_ci_interval_right_b0)\n",
    "\n",
    "println(\"mean_ci_interval_length_b1 : \", mean_ci_interval_length_b1)\n",
    "println(\"mean_ci_interval_length_b01 : \", mean_ci_interval_length_b01)\n",
    "println(\"mean_ci_interval_length_b0 : \", mean_ci_interval_length_b0)\n",
    "\n",
    "println(\"mean_times : \", mean_times)\n"
   ]
  },
  {
   "cell_type": "code",
   "execution_count": null,
   "metadata": {},
   "outputs": [],
   "source": []
  },
  {
   "cell_type": "code",
   "execution_count": null,
   "metadata": {},
   "outputs": [],
   "source": []
  },
  {
   "cell_type": "code",
   "execution_count": null,
   "metadata": {},
   "outputs": [],
   "source": []
  },
  {
   "cell_type": "markdown",
   "metadata": {},
   "source": [
    "#### n=100000, p=10, ind, s0 =3 / Online1_n100000_p10_ind_simnum10"
   ]
  },
  {
   "cell_type": "code",
   "execution_count": 50,
   "metadata": {},
   "outputs": [
    {
     "data": {
      "text/plain": [
       "10×3 Matrix{Float64}:\n",
       " 0.0  0.0  0.0\n",
       " 0.0  0.0  0.0\n",
       " 0.0  0.0  0.0\n",
       " 0.0  0.0  0.0\n",
       " 0.0  0.0  0.0\n",
       " 0.0  0.0  0.0\n",
       " 0.0  0.0  0.0\n",
       " 0.0  0.0  0.0\n",
       " 0.0  0.0  0.0\n",
       " 0.0  0.0  0.0"
      ]
     },
     "metadata": {},
     "output_type": "display_data"
    }
   ],
   "source": [
    "n,p = 100000,10\n",
    "simnum = 10\n",
    "\n",
    "b1 = 1:3\n",
    "b01 = 4:6\n",
    "b0 = 7:p\n",
    "\n",
    "ci_interval_left = zeros(Float64, simnum,3)\n",
    "ci_interval_right = zeros(Float64, simnum,3)\n",
    "ci_interval_length = zeros(Float64, simnum,3)\n",
    "times = zeros(Float64, simnum)\n",
    "bias = zeros(Float64, simnum,3)\n",
    "sds = zeros(Float64, simnum,3)\n",
    "taus = zeros(Float64, simnum,3)\n"
   ]
  },
  {
   "cell_type": "code",
   "execution_count": 51,
   "metadata": {},
   "outputs": [
    {
     "name": "stdout",
     "output_type": "stream",
     "text": [
      "1\n"
     ]
    },
    {
     "name": "stdout",
     "output_type": "stream",
     "text": [
      "2.511368004\n"
     ]
    },
    {
     "name": "stdout",
     "output_type": "stream",
     "text": [
      "0.007745532944443247\n"
     ]
    },
    {
     "name": "stdout",
     "output_type": "stream",
     "text": [
      "2\n"
     ]
    },
    {
     "name": "stdout",
     "output_type": "stream",
     "text": [
      "2.07224973\n",
      "0.010147629346824996\n",
      "3\n"
     ]
    },
    {
     "name": "stdout",
     "output_type": "stream",
     "text": [
      "2.279453342\n",
      "0.010516123791189219\n",
      "4\n"
     ]
    },
    {
     "name": "stdout",
     "output_type": "stream",
     "text": [
      "1.898450501\n",
      "0.01231233145714572\n",
      "5\n"
     ]
    },
    {
     "name": "stdout",
     "output_type": "stream",
     "text": [
      "1.814041137\n",
      "0.009374030199098427\n",
      "6\n"
     ]
    },
    {
     "name": "stdout",
     "output_type": "stream",
     "text": [
      "1.903743785\n",
      "0.012276494701221843\n",
      "7\n"
     ]
    },
    {
     "name": "stdout",
     "output_type": "stream",
     "text": [
      "2.132624388\n",
      "0.0071939598095128055\n",
      "8\n"
     ]
    },
    {
     "name": "stdout",
     "output_type": "stream",
     "text": [
      "2.208270555\n",
      "0.011120971371037357\n",
      "9\n"
     ]
    },
    {
     "name": "stdout",
     "output_type": "stream",
     "text": [
      "1.926827034\n",
      "0.009143198867662381\n",
      "10\n"
     ]
    },
    {
     "name": "stdout",
     "output_type": "stream",
     "text": [
      "2.000436097\n",
      "0.01016694052594384\n"
     ]
    },
    {
     "name": "stdout",
     "output_type": "stream",
     "text": [
      "mean_bias_b1 : "
     ]
    },
    {
     "name": "stdout",
     "output_type": "stream",
     "text": [
      "[0.008790417341758672]\n",
      "mean_bias_b01 : [0.009857333925811756]\n",
      "mean_bias_b0 : [0.011236756011674023]\n",
      "mean_sds_b1 : [0.0028293428502258198]\n",
      "mean_sds_b01 : [0.005130782351100903]\n",
      "mean_sds_b0 : [0.003358238567563979]\n",
      "mean_taus_b1 : [1.000374099968082e-5]\n",
      "mean_taus_b01 : [1.0003490988500463e-5]\n",
      "mean_taus_b0 : [1.0003487096021858e-5]\n",
      "mean_ci_interval_left_b1 : [1.0087625924517631]\n",
      "mean_ci_interval_left_b01 : [0.1095318214586477]\n",
      "mean_ci_interval_left_b0 : [0.011208931838703338]\n",
      "mean_ci_interval_right_b1 : [1.0088182422317544]\n",
      "mean_ci_interval_right_b01 : [0.10958746983609077]\n",
      "mean_ci_interval_right_b0 : [0.011264580184644707]\n",
      "mean_ci_interval_length_b1 : [5.564977999091465e-5]\n",
      "mean_ci_interval_length_b01 : [5.5648377443057176e-5]\n",
      "mean_ci_interval_length_b0 : [5.564834594136586e-5]\n",
      "mean_times : 2.0747464573\n"
     ]
    }
   ],
   "source": [
    "for seed in 1:simnum\n",
    "    println(seed)\n",
    "    \n",
    "    X,y,β = indep_sampling(seed, n,p,3)\n",
    "    _, times[seed] = @timed begin\n",
    "        b, tau_tilde_array, CI_left, CI_right = DSGD_calc_onlyfinal(0.0025, X, y, 0.05)\n",
    "    end\n",
    "\n",
    "\n",
    "    println(times[seed])\n",
    "    bb = b .- β\n",
    "    ab = abs.(bb)\n",
    "    \n",
    "    println(mean(bb))\n",
    "    \n",
    "\n",
    "    bias[seed,  1] = mean(ab[b1])\n",
    "    bias[seed,  2] = mean(ab[b01])\n",
    "    bias[seed,  3] = mean(ab[b0])\n",
    "\n",
    "    sds[seed,1] = std(bb[b1])\n",
    "    sds[seed,2] = std(bb[b01])\n",
    "    sds[seed,3] = std(bb[b0])\n",
    "\n",
    "    tau = tau_tilde_array\n",
    "    taus[seed,1] = mean(tau[b1])\n",
    "    taus[seed,2] = mean(tau[b01])\n",
    "    taus[seed,3] = mean(tau[b0])\n",
    "\n",
    "    CI_L = CI_left\n",
    "    ci_interval_left[seed,1] = mean(CI_L[b1])\n",
    "    ci_interval_left[seed,2] = mean(CI_L[b01])\n",
    "    ci_interval_left[seed,3] = mean(CI_L[b0])\n",
    "\n",
    "\n",
    "    CI_R = CI_right\n",
    "    ci_interval_right[seed,1] = mean(CI_R[b1])\n",
    "    ci_interval_right[seed,2] = mean(CI_R[b01])\n",
    "    ci_interval_right[seed,3] = mean(CI_R[b0])\n",
    "    \n",
    "    CI_width = CI_right - CI_left\n",
    "    ci_interval_length[seed,1] = mean(CI_width[b1])\n",
    "    ci_interval_length[seed,2] = mean(CI_width[b01])\n",
    "    ci_interval_length[seed,3] = mean(CI_width[b0])\n",
    "\n",
    "    \n",
    "    # save_object(\"/Users/seungchanbaek/Downloads/2023-2학기/고급통계계산/Online1_n100000_p10_ind_simnum10/Online1_n100000_p10_ind_simnum10_time$seed\", times[seed])\n",
    "    # save_object(\"/Users/seungchanbaek/Downloads/2023-2학기/고급통계계산/Online1_n100000_p10_ind_simnum10/Online1_n100000_p10_ind_simnum10_bias$seed\", bias[seed,:])\n",
    "    # save_object(\"/Users/seungchanbaek/Downloads/2023-2학기/고급통계계산/Online1_n100000_p10_ind_simnum10/Online1_n100000_p10_ind_simnum10_sds$seed\", sds[seed,:])\n",
    "    # save_object(\"/Users/seungchanbaek/Downloads/2023-2학기/고급통계계산/Online1_n100000_p10_ind_simnum10/Online1_n100000_p10_ind_simnum10_taus$seed\", taus[seed,:])\n",
    "\n",
    "    # save_object(\"/Users/seungchanbaek/Downloads/2023-2학기/고급통계계산/Online1_n100000_p10_ind_simnum10/Online1_n100000_p10_ind_simnum10_ci_interval_length$seed\", ci_interval_length[seed,:])\n",
    "    # save_object(\"/Users/seungchanbaek/Downloads/2023-2학기/고급통계계산/Online1_n100000_p10_ind_simnum10/Online1_n100000_p10_ind_simnum10_ci_interval_left$seed\", ci_interval_left[seed,:])\n",
    "    # save_object(\"/Users/seungchanbaek/Downloads/2023-2학기/고급통계계산/Online1_n100000_p10_ind_simnum10/Online1_n100000_p10_ind_simnum10_ci_interval_right$seed\", ci_interval_right[seed,:])\n",
    "end\n",
    "\n",
    "mean_bias_b1 = sum(bias[:,1], dims=1) / size(bias, 1)\n",
    "mean_bias_b01 = sum(bias[:,2], dims=1) / size(bias, 1)\n",
    "mean_bias_b0 = sum(bias[:,3], dims=1) / size(bias, 1)\n",
    "\n",
    "mean_sds_b1 = sum(sds[:,1], dims=1) / size(sds, 1)\n",
    "mean_sds_b01 = sum(sds[:,2], dims=1) / size(sds, 1)\n",
    "mean_sds_b0 = sum(sds[:,3], dims=1) / size(sds, 1)\n",
    "\n",
    "\n",
    "mean_taus_b1 = sum(taus[:,1], dims=1) / size(taus, 1)\n",
    "mean_taus_b01 = sum(taus[:,2], dims=1) / size(taus, 1)\n",
    "mean_taus_b0 = sum(taus[:,3], dims=1) / size(taus, 1)\n",
    "\n",
    "mean_ci_interval_left_b1 = sum(ci_interval_left[:,1], dims=1) / size(ci_interval_left, 1)\n",
    "mean_ci_interval_left_b01 = sum(ci_interval_left[:,2], dims=1) / size(ci_interval_left, 1)\n",
    "mean_ci_interval_left_b0 = sum(ci_interval_left[:,3], dims=1) / size(ci_interval_left, 1)\n",
    "\n",
    "mean_ci_interval_right_b1 = sum(ci_interval_right[:,1], dims=1) / size(ci_interval_right, 1)\n",
    "mean_ci_interval_right_b01 = sum(ci_interval_right[:,2], dims=1) / size(ci_interval_right, 1)\n",
    "mean_ci_interval_right_b0 = sum(ci_interval_right[:,3], dims=1) / size(ci_interval_right, 1)\n",
    "\n",
    "mean_ci_interval_length_b1 = sum(ci_interval_length[:,1], dims=1) / size(ci_interval_length, 1)\n",
    "mean_ci_interval_length_b01 = sum(ci_interval_length[:,2], dims=1) / size(ci_interval_length, 1)\n",
    "mean_ci_interval_length_b0 = sum(ci_interval_length[:,3], dims=1) / size(ci_interval_length, 1)\n",
    "\n",
    "mean_times = mean(times)\n",
    "\n",
    "println(\"mean_bias_b1 : \", mean_bias_b1)\n",
    "println(\"mean_bias_b01 : \", mean_bias_b01)\n",
    "println(\"mean_bias_b0 : \", mean_bias_b0)\n",
    "\n",
    "println(\"mean_sds_b1 : \", mean_sds_b1)\n",
    "println(\"mean_sds_b01 : \", mean_sds_b01)\n",
    "println(\"mean_sds_b0 : \", mean_sds_b0)\n",
    "\n",
    "println(\"mean_taus_b1 : \", mean_taus_b1)\n",
    "println(\"mean_taus_b01 : \", mean_taus_b01)\n",
    "println(\"mean_taus_b0 : \", mean_taus_b0)\n",
    "\n",
    "println(\"mean_ci_interval_left_b1 : \", mean_ci_interval_left_b1)\n",
    "println(\"mean_ci_interval_left_b01 : \", mean_ci_interval_left_b01)\n",
    "println(\"mean_ci_interval_left_b0 : \", mean_ci_interval_left_b0)\n",
    "\n",
    "println(\"mean_ci_interval_right_b1 : \", mean_ci_interval_right_b1)\n",
    "println(\"mean_ci_interval_right_b01 : \", mean_ci_interval_right_b01)\n",
    "println(\"mean_ci_interval_right_b0 : \", mean_ci_interval_right_b0)\n",
    "\n",
    "println(\"mean_ci_interval_length_b1 : \", mean_ci_interval_length_b1)\n",
    "println(\"mean_ci_interval_length_b01 : \", mean_ci_interval_length_b01)\n",
    "println(\"mean_ci_interval_length_b0 : \", mean_ci_interval_length_b0)\n",
    "\n",
    "println(\"mean_times : \", mean_times)\n"
   ]
  },
  {
   "cell_type": "markdown",
   "metadata": {},
   "source": []
  },
  {
   "cell_type": "markdown",
   "metadata": {},
   "source": []
  },
  {
   "cell_type": "markdown",
   "metadata": {},
   "source": [
    "#### n=100000, p=10, dep, s0 =3 / Online1_n100000_p10_dep_simnum10"
   ]
  },
  {
   "cell_type": "code",
   "execution_count": 52,
   "metadata": {},
   "outputs": [
    {
     "data": {
      "text/plain": [
       "10×3 Matrix{Float64}:\n",
       " 0.0  0.0  0.0\n",
       " 0.0  0.0  0.0\n",
       " 0.0  0.0  0.0\n",
       " 0.0  0.0  0.0\n",
       " 0.0  0.0  0.0\n",
       " 0.0  0.0  0.0\n",
       " 0.0  0.0  0.0\n",
       " 0.0  0.0  0.0\n",
       " 0.0  0.0  0.0\n",
       " 0.0  0.0  0.0"
      ]
     },
     "metadata": {},
     "output_type": "display_data"
    }
   ],
   "source": [
    "n,p = 100000,10\n",
    "simnum = 10\n",
    "\n",
    "b1 = 1:3\n",
    "b01 = 4:6\n",
    "b0 = 7:p\n",
    "\n",
    "ci_interval_left = zeros(Float64, simnum,3)\n",
    "ci_interval_right = zeros(Float64, simnum,3)\n",
    "ci_interval_length = zeros(Float64, simnum,3)\n",
    "times = zeros(Float64, simnum)\n",
    "bias = zeros(Float64, simnum,3)\n",
    "sds = zeros(Float64, simnum,3)\n",
    "taus = zeros(Float64, simnum,3)"
   ]
  },
  {
   "cell_type": "code",
   "execution_count": 54,
   "metadata": {},
   "outputs": [
    {
     "name": "stdout",
     "output_type": "stream",
     "text": [
      "1\n"
     ]
    },
    {
     "name": "stdout",
     "output_type": "stream",
     "text": [
      "2.138192483\n",
      "0.029804816666170623\n",
      "2\n"
     ]
    },
    {
     "name": "stdout",
     "output_type": "stream",
     "text": [
      "1.710901831\n",
      "0.03204198605111936\n",
      "3\n"
     ]
    },
    {
     "name": "stdout",
     "output_type": "stream",
     "text": [
      "1.76954866\n",
      "0.03530054593079957\n",
      "4\n"
     ]
    },
    {
     "name": "stdout",
     "output_type": "stream",
     "text": [
      "1.711703869\n",
      "0.03136347605705123\n",
      "5\n"
     ]
    },
    {
     "name": "stdout",
     "output_type": "stream",
     "text": [
      "1.739623883\n",
      "0.026659719500680808\n",
      "6\n"
     ]
    },
    {
     "name": "stdout",
     "output_type": "stream",
     "text": [
      "1.730435952\n",
      "0.03493807594156629\n",
      "7\n"
     ]
    },
    {
     "name": "stdout",
     "output_type": "stream",
     "text": [
      "1.671098729\n",
      "0.03489351022560134\n",
      "8\n"
     ]
    },
    {
     "name": "stdout",
     "output_type": "stream",
     "text": [
      "1.664628742\n",
      "0.02588129736397355\n",
      "9\n"
     ]
    },
    {
     "name": "stdout",
     "output_type": "stream",
     "text": [
      "1.680892666\n",
      "0.030057766163654593\n",
      "10\n"
     ]
    },
    {
     "name": "stdout",
     "output_type": "stream",
     "text": [
      "1.686182222\n",
      "0.03019811700562384\n",
      "mean_bias_b1 : [0.07808219207314684]\n",
      "mean_bias_b01 : [0.04193676416240155]\n",
      "mean_bias_b0 : [0.004625880816686816]\n",
      "mean_sds_b1 : [0.062045989378640434]\n",
      "mean_sds_b01 : [0.06365527223602893]\n",
      "mean_sds_b0 : [0.004513269162968546]\n",
      "mean_taus_b1 : [1.0549335650061918e-5]\n",
      "mean_taus_b01 : [1.0701064498948569e-5]\n",
      "mean_taus_b0 : [1.0587977106190711e-5]\n",
      "mean_ci_interval_left_b1 : [1.0780542231125572]\n",
      "mean_ci_interval_left_b01 : [0.1209596052488634]\n",
      "mean_ci_interval_left_b0 : [0.0034541287459880325]\n",
      "mean_ci_interval_right_b1 : [1.0781101610337365]\n",
      "mean_ci_interval_right_b01 : [0.12101634909913131]\n",
      "mean_ci_interval_right_b0 : [0.003510272836416311]\n",
      "mean_ci_interval_length_b1 : [5.5937921179320205e-5]\n",
      "mean_ci_interval_length_b01 : [5.674385026788465e-5]\n",
      "mean_ci_interval_length_b0 : [5.6144090428278286e-5]\n",
      "mean_times : 1.7503209037\n"
     ]
    }
   ],
   "source": [
    "for seed in 1:simnum\n",
    "    println(seed)\n",
    "    \n",
    "    X,y,β = dep_sampling(seed, n,p,3)\n",
    "    _, times[seed] = @timed begin\n",
    "        b, tau_tilde_array, CI_left, CI_right = DSGD_calc_onlyfinal(0.0025, X, y, 0.05)\n",
    "    end\n",
    "\n",
    "\n",
    "    println(times[seed])\n",
    "    bb = b .- β\n",
    "    ab = abs.(bb)\n",
    "    \n",
    "    println(mean(bb))\n",
    "    \n",
    "\n",
    "    bias[seed,  1] = mean(ab[b1])\n",
    "    bias[seed,  2] = mean(ab[b01])\n",
    "    bias[seed,  3] = mean(ab[b0])\n",
    "\n",
    "    sds[seed,1] = std(bb[b1])\n",
    "    sds[seed,2] = std(bb[b01])\n",
    "    sds[seed,3] = std(bb[b0])\n",
    "\n",
    "    tau = tau_tilde_array\n",
    "    taus[seed,1] = mean(tau[b1])\n",
    "    taus[seed,2] = mean(tau[b01])\n",
    "    taus[seed,3] = mean(tau[b0])\n",
    "\n",
    "    CI_L = CI_left\n",
    "    ci_interval_left[seed,1] = mean(CI_L[b1])\n",
    "    ci_interval_left[seed,2] = mean(CI_L[b01])\n",
    "    ci_interval_left[seed,3] = mean(CI_L[b0])\n",
    "\n",
    "\n",
    "    CI_R = CI_right\n",
    "    ci_interval_right[seed,1] = mean(CI_R[b1])\n",
    "    ci_interval_right[seed,2] = mean(CI_R[b01])\n",
    "    ci_interval_right[seed,3] = mean(CI_R[b0])\n",
    "    \n",
    "    CI_width = CI_right - CI_left\n",
    "    ci_interval_length[seed,1] = mean(CI_width[b1])\n",
    "    ci_interval_length[seed,2] = mean(CI_width[b01])\n",
    "    ci_interval_length[seed,3] = mean(CI_width[b0])\n",
    "\n",
    "    \n",
    "    # save_object(\"/Users/seungchanbaek/Downloads/2023-2학기/고급통계계산/Online1_n100000_p10_dep_simnum10/Online1_n100000_p10_dep_simnum10_time$seed\", times[seed])\n",
    "    # save_object(\"/Users/seungchanbaek/Downloads/2023-2학기/고급통계계산/Online1_n100000_p10_dep_simnum10/Online1_n100000_p10_dep_simnum10_bias$seed\", bias[seed,:])\n",
    "    # save_object(\"/Users/seungchanbaek/Downloads/2023-2학기/고급통계계산/Online1_n100000_p10_dep_simnum10/Online1_n100000_p10_dep_simnum10_sds$seed\", sds[seed,:])\n",
    "    # save_object(\"/Users/seungchanbaek/Downloads/2023-2학기/고급통계계산/Online1_n100000_p10_dep_simnum10/Online1_n100000_p10_dep_simnum10_taus$seed\", taus[seed,:])\n",
    "\n",
    "    # save_object(\"/Users/seungchanbaek/Downloads/2023-2학기/고급통계계산/Online1_n100000_p10_dep_simnum10/Online1_n100000_p10_dep_simnum10_ci_interval_length$seed\", ci_interval_length[seed,:])\n",
    "    # save_object(\"/Users/seungchanbaek/Downloads/2023-2학기/고급통계계산/Online1_n100000_p10_dep_simnum10/Online1_n100000_p10_dep_simnum10_ci_interval_left$seed\", ci_interval_left[seed,:])\n",
    "    # save_object(\"/Users/seungchanbaek/Downloads/2023-2학기/고급통계계산/Online1_n100000_p10_dep_simnum10/Online1_n100000_p10_dep_simnum10_ci_interval_right$seed\", ci_interval_right[seed,:])\n",
    "\n",
    "end\n",
    "\n",
    "\n",
    "mean_bias_b1 = sum(bias[:,1], dims=1) / size(bias, 1)\n",
    "mean_bias_b01 = sum(bias[:,2], dims=1) / size(bias, 1)\n",
    "mean_bias_b0 = sum(bias[:,3], dims=1) / size(bias, 1)\n",
    "\n",
    "mean_sds_b1 = sum(sds[:,1], dims=1) / size(sds, 1)\n",
    "mean_sds_b01 = sum(sds[:,2], dims=1) / size(sds, 1)\n",
    "mean_sds_b0 = sum(sds[:,3], dims=1) / size(sds, 1)\n",
    "\n",
    "\n",
    "mean_taus_b1 = sum(taus[:,1], dims=1) / size(taus, 1)\n",
    "mean_taus_b01 = sum(taus[:,2], dims=1) / size(taus, 1)\n",
    "mean_taus_b0 = sum(taus[:,3], dims=1) / size(taus, 1)\n",
    "\n",
    "mean_ci_interval_left_b1 = sum(ci_interval_left[:,1], dims=1) / size(ci_interval_left, 1)\n",
    "mean_ci_interval_left_b01 = sum(ci_interval_left[:,2], dims=1) / size(ci_interval_left, 1)\n",
    "mean_ci_interval_left_b0 = sum(ci_interval_left[:,3], dims=1) / size(ci_interval_left, 1)\n",
    "\n",
    "mean_ci_interval_right_b1 = sum(ci_interval_right[:,1], dims=1) / size(ci_interval_right, 1)\n",
    "mean_ci_interval_right_b01 = sum(ci_interval_right[:,2], dims=1) / size(ci_interval_right, 1)\n",
    "mean_ci_interval_right_b0 = sum(ci_interval_right[:,3], dims=1) / size(ci_interval_right, 1)\n",
    "\n",
    "mean_ci_interval_length_b1 = sum(ci_interval_length[:,1], dims=1) / size(ci_interval_length, 1)\n",
    "mean_ci_interval_length_b01 = sum(ci_interval_length[:,2], dims=1) / size(ci_interval_length, 1)\n",
    "mean_ci_interval_length_b0 = sum(ci_interval_length[:,3], dims=1) / size(ci_interval_length, 1)\n",
    "\n",
    "mean_times = mean(times)\n",
    "\n",
    "println(\"mean_bias_b1 : \", mean_bias_b1)\n",
    "println(\"mean_bias_b01 : \", mean_bias_b01)\n",
    "println(\"mean_bias_b0 : \", mean_bias_b0)\n",
    "\n",
    "println(\"mean_sds_b1 : \", mean_sds_b1)\n",
    "println(\"mean_sds_b01 : \", mean_sds_b01)\n",
    "println(\"mean_sds_b0 : \", mean_sds_b0)\n",
    "\n",
    "println(\"mean_taus_b1 : \", mean_taus_b1)\n",
    "println(\"mean_taus_b01 : \", mean_taus_b01)\n",
    "println(\"mean_taus_b0 : \", mean_taus_b0)\n",
    "\n",
    "println(\"mean_ci_interval_left_b1 : \", mean_ci_interval_left_b1)\n",
    "println(\"mean_ci_interval_left_b01 : \", mean_ci_interval_left_b01)\n",
    "println(\"mean_ci_interval_left_b0 : \", mean_ci_interval_left_b0)\n",
    "\n",
    "println(\"mean_ci_interval_right_b1 : \", mean_ci_interval_right_b1)\n",
    "println(\"mean_ci_interval_right_b01 : \", mean_ci_interval_right_b01)\n",
    "println(\"mean_ci_interval_right_b0 : \", mean_ci_interval_right_b0)\n",
    "\n",
    "println(\"mean_ci_interval_length_b1 : \", mean_ci_interval_length_b1)\n",
    "println(\"mean_ci_interval_length_b01 : \", mean_ci_interval_length_b01)\n",
    "println(\"mean_ci_interval_length_b0 : \", mean_ci_interval_length_b0)\n",
    "\n",
    "println(\"mean_times : \", mean_times)"
   ]
  },
  {
   "cell_type": "markdown",
   "metadata": {},
   "source": []
  },
  {
   "cell_type": "markdown",
   "metadata": {},
   "source": []
  }
 ],
 "metadata": {
  "interpreter": {
   "hash": "7ec229b09de2e37512ee286bda42bd6dfdeea1b21082652fc413bdefaa96a5bd"
  },
  "kernelspec": {
   "display_name": "Julia 1.9.3",
   "language": "julia",
   "name": "julia-1.9"
  },
  "language_info": {
   "file_extension": ".jl",
   "mimetype": "application/julia",
   "name": "julia",
   "version": "1.9.3"
  },
  "orig_nbformat": 4
 },
 "nbformat": 4,
 "nbformat_minor": 2
}
